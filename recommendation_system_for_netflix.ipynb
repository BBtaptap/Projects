{
  "cells": [
    {
      "cell_type": "markdown",
      "id": "755d3987",
      "metadata": {
        "papermill": {
          "duration": 0.014442,
          "end_time": "2022-06-14T16:53:11.989715",
          "exception": false,
          "start_time": "2022-06-14T16:53:11.975273",
          "status": "completed"
        },
        "tags": [],
        "id": "755d3987"
      },
      "source": [
        "## Netflix, Inc. is an American subscription streaming service and production company. Launched on August 29, 1997, it offers a film and television series library through distribution deals as well as its own productions, known as Netflix Originals.\n",
        "\n",
        "[Netflix](https://en.wikipedia.org/wiki/Netflix)"
      ]
    },
    {
      "cell_type": "code",
      "execution_count": null,
      "id": "325afc62",
      "metadata": {
        "execution": {
          "iopub.execute_input": "2022-06-14T16:53:12.020203Z",
          "iopub.status.busy": "2022-06-14T16:53:12.019611Z",
          "iopub.status.idle": "2022-06-14T16:53:13.033223Z",
          "shell.execute_reply": "2022-06-14T16:53:13.032248Z"
        },
        "papermill": {
          "duration": 1.031664,
          "end_time": "2022-06-14T16:53:13.035661",
          "exception": false,
          "start_time": "2022-06-14T16:53:12.003997",
          "status": "completed"
        },
        "tags": [],
        "id": "325afc62"
      },
      "outputs": [],
      "source": [
        "import numpy as np\n",
        "import pandas as pd\n",
        "import matplotlib.pyplot as plt\n",
        "import seaborn as sns\n",
        "import matplotlib.pyplot as plt\n",
        "import os"
      ]
    },
    {
      "cell_type": "code",
      "source": [
        "import kagglehub\n",
        "\n",
        "# Download latest version\n",
        "path = kagglehub.dataset_download(\"shivamb/netflix-shows\")\n",
        "\n",
        "print(\"Path to dataset files:\", path)"
      ],
      "metadata": {
        "colab": {
          "base_uri": "https://localhost:8080/"
        },
        "id": "8uCxv-CrIcU4",
        "outputId": "be44a92b-6e91-4f6f-d05c-d41c150b514b"
      },
      "id": "8uCxv-CrIcU4",
      "execution_count": null,
      "outputs": [
        {
          "output_type": "stream",
          "name": "stdout",
          "text": [
            "Path to dataset files: /kaggle/input/netflix-shows\n"
          ]
        }
      ]
    },
    {
      "cell_type": "code",
      "execution_count": null,
      "id": "f3c38761",
      "metadata": {
        "execution": {
          "iopub.execute_input": "2022-06-14T16:53:13.067595Z",
          "iopub.status.busy": "2022-06-14T16:53:13.066807Z",
          "iopub.status.idle": "2022-06-14T16:53:13.259683Z",
          "shell.execute_reply": "2022-06-14T16:53:13.258906Z"
        },
        "papermill": {
          "duration": 0.21125,
          "end_time": "2022-06-14T16:53:13.261583",
          "exception": false,
          "start_time": "2022-06-14T16:53:13.050333",
          "status": "completed"
        },
        "tags": [],
        "colab": {
          "base_uri": "https://localhost:8080/",
          "height": 327
        },
        "id": "f3c38761",
        "outputId": "afc7ad6f-b575-47f3-baa4-9c7a332ff4e5"
      },
      "outputs": [
        {
          "output_type": "execute_result",
          "data": {
            "text/plain": [
              "  show_id     type                  title         director  \\\n",
              "0      s1    Movie   Dick Johnson Is Dead  Kirsten Johnson   \n",
              "1      s2  TV Show          Blood & Water              NaN   \n",
              "2      s3  TV Show              Ganglands  Julien Leclercq   \n",
              "3      s4  TV Show  Jailbirds New Orleans              NaN   \n",
              "4      s5  TV Show           Kota Factory              NaN   \n",
              "\n",
              "                                                cast        country  \\\n",
              "0                                                NaN  United States   \n",
              "1  Ama Qamata, Khosi Ngema, Gail Mabalane, Thaban...   South Africa   \n",
              "2  Sami Bouajila, Tracy Gotoas, Samuel Jouy, Nabi...            NaN   \n",
              "3                                                NaN            NaN   \n",
              "4  Mayur More, Jitendra Kumar, Ranjan Raj, Alam K...          India   \n",
              "\n",
              "           date_added  release_year rating   duration  \\\n",
              "0  September 25, 2021          2020  PG-13     90 min   \n",
              "1  September 24, 2021          2021  TV-MA  2 Seasons   \n",
              "2  September 24, 2021          2021  TV-MA   1 Season   \n",
              "3  September 24, 2021          2021  TV-MA   1 Season   \n",
              "4  September 24, 2021          2021  TV-MA  2 Seasons   \n",
              "\n",
              "                                           listed_in  \\\n",
              "0                                      Documentaries   \n",
              "1    International TV Shows, TV Dramas, TV Mysteries   \n",
              "2  Crime TV Shows, International TV Shows, TV Act...   \n",
              "3                             Docuseries, Reality TV   \n",
              "4  International TV Shows, Romantic TV Shows, TV ...   \n",
              "\n",
              "                                         description  \n",
              "0  As her father nears the end of his life, filmm...  \n",
              "1  After crossing paths at a party, a Cape Town t...  \n",
              "2  To protect his family from a powerful drug lor...  \n",
              "3  Feuds, flirtations and toilet talk go down amo...  \n",
              "4  In a city of coaching centers known to train I...  "
            ],
            "text/html": [
              "\n",
              "  <div id=\"df-63125e99-7c0c-45b5-b608-6d01e6abd54d\" class=\"colab-df-container\">\n",
              "    <div>\n",
              "<style scoped>\n",
              "    .dataframe tbody tr th:only-of-type {\n",
              "        vertical-align: middle;\n",
              "    }\n",
              "\n",
              "    .dataframe tbody tr th {\n",
              "        vertical-align: top;\n",
              "    }\n",
              "\n",
              "    .dataframe thead th {\n",
              "        text-align: right;\n",
              "    }\n",
              "</style>\n",
              "<table border=\"1\" class=\"dataframe\">\n",
              "  <thead>\n",
              "    <tr style=\"text-align: right;\">\n",
              "      <th></th>\n",
              "      <th>show_id</th>\n",
              "      <th>type</th>\n",
              "      <th>title</th>\n",
              "      <th>director</th>\n",
              "      <th>cast</th>\n",
              "      <th>country</th>\n",
              "      <th>date_added</th>\n",
              "      <th>release_year</th>\n",
              "      <th>rating</th>\n",
              "      <th>duration</th>\n",
              "      <th>listed_in</th>\n",
              "      <th>description</th>\n",
              "    </tr>\n",
              "  </thead>\n",
              "  <tbody>\n",
              "    <tr>\n",
              "      <th>0</th>\n",
              "      <td>s1</td>\n",
              "      <td>Movie</td>\n",
              "      <td>Dick Johnson Is Dead</td>\n",
              "      <td>Kirsten Johnson</td>\n",
              "      <td>NaN</td>\n",
              "      <td>United States</td>\n",
              "      <td>September 25, 2021</td>\n",
              "      <td>2020</td>\n",
              "      <td>PG-13</td>\n",
              "      <td>90 min</td>\n",
              "      <td>Documentaries</td>\n",
              "      <td>As her father nears the end of his life, filmm...</td>\n",
              "    </tr>\n",
              "    <tr>\n",
              "      <th>1</th>\n",
              "      <td>s2</td>\n",
              "      <td>TV Show</td>\n",
              "      <td>Blood &amp; Water</td>\n",
              "      <td>NaN</td>\n",
              "      <td>Ama Qamata, Khosi Ngema, Gail Mabalane, Thaban...</td>\n",
              "      <td>South Africa</td>\n",
              "      <td>September 24, 2021</td>\n",
              "      <td>2021</td>\n",
              "      <td>TV-MA</td>\n",
              "      <td>2 Seasons</td>\n",
              "      <td>International TV Shows, TV Dramas, TV Mysteries</td>\n",
              "      <td>After crossing paths at a party, a Cape Town t...</td>\n",
              "    </tr>\n",
              "    <tr>\n",
              "      <th>2</th>\n",
              "      <td>s3</td>\n",
              "      <td>TV Show</td>\n",
              "      <td>Ganglands</td>\n",
              "      <td>Julien Leclercq</td>\n",
              "      <td>Sami Bouajila, Tracy Gotoas, Samuel Jouy, Nabi...</td>\n",
              "      <td>NaN</td>\n",
              "      <td>September 24, 2021</td>\n",
              "      <td>2021</td>\n",
              "      <td>TV-MA</td>\n",
              "      <td>1 Season</td>\n",
              "      <td>Crime TV Shows, International TV Shows, TV Act...</td>\n",
              "      <td>To protect his family from a powerful drug lor...</td>\n",
              "    </tr>\n",
              "    <tr>\n",
              "      <th>3</th>\n",
              "      <td>s4</td>\n",
              "      <td>TV Show</td>\n",
              "      <td>Jailbirds New Orleans</td>\n",
              "      <td>NaN</td>\n",
              "      <td>NaN</td>\n",
              "      <td>NaN</td>\n",
              "      <td>September 24, 2021</td>\n",
              "      <td>2021</td>\n",
              "      <td>TV-MA</td>\n",
              "      <td>1 Season</td>\n",
              "      <td>Docuseries, Reality TV</td>\n",
              "      <td>Feuds, flirtations and toilet talk go down amo...</td>\n",
              "    </tr>\n",
              "    <tr>\n",
              "      <th>4</th>\n",
              "      <td>s5</td>\n",
              "      <td>TV Show</td>\n",
              "      <td>Kota Factory</td>\n",
              "      <td>NaN</td>\n",
              "      <td>Mayur More, Jitendra Kumar, Ranjan Raj, Alam K...</td>\n",
              "      <td>India</td>\n",
              "      <td>September 24, 2021</td>\n",
              "      <td>2021</td>\n",
              "      <td>TV-MA</td>\n",
              "      <td>2 Seasons</td>\n",
              "      <td>International TV Shows, Romantic TV Shows, TV ...</td>\n",
              "      <td>In a city of coaching centers known to train I...</td>\n",
              "    </tr>\n",
              "  </tbody>\n",
              "</table>\n",
              "</div>\n",
              "    <div class=\"colab-df-buttons\">\n",
              "\n",
              "  <div class=\"colab-df-container\">\n",
              "    <button class=\"colab-df-convert\" onclick=\"convertToInteractive('df-63125e99-7c0c-45b5-b608-6d01e6abd54d')\"\n",
              "            title=\"Convert this dataframe to an interactive table.\"\n",
              "            style=\"display:none;\">\n",
              "\n",
              "  <svg xmlns=\"http://www.w3.org/2000/svg\" height=\"24px\" viewBox=\"0 -960 960 960\">\n",
              "    <path d=\"M120-120v-720h720v720H120Zm60-500h600v-160H180v160Zm220 220h160v-160H400v160Zm0 220h160v-160H400v160ZM180-400h160v-160H180v160Zm440 0h160v-160H620v160ZM180-180h160v-160H180v160Zm440 0h160v-160H620v160Z\"/>\n",
              "  </svg>\n",
              "    </button>\n",
              "\n",
              "  <style>\n",
              "    .colab-df-container {\n",
              "      display:flex;\n",
              "      gap: 12px;\n",
              "    }\n",
              "\n",
              "    .colab-df-convert {\n",
              "      background-color: #E8F0FE;\n",
              "      border: none;\n",
              "      border-radius: 50%;\n",
              "      cursor: pointer;\n",
              "      display: none;\n",
              "      fill: #1967D2;\n",
              "      height: 32px;\n",
              "      padding: 0 0 0 0;\n",
              "      width: 32px;\n",
              "    }\n",
              "\n",
              "    .colab-df-convert:hover {\n",
              "      background-color: #E2EBFA;\n",
              "      box-shadow: 0px 1px 2px rgba(60, 64, 67, 0.3), 0px 1px 3px 1px rgba(60, 64, 67, 0.15);\n",
              "      fill: #174EA6;\n",
              "    }\n",
              "\n",
              "    .colab-df-buttons div {\n",
              "      margin-bottom: 4px;\n",
              "    }\n",
              "\n",
              "    [theme=dark] .colab-df-convert {\n",
              "      background-color: #3B4455;\n",
              "      fill: #D2E3FC;\n",
              "    }\n",
              "\n",
              "    [theme=dark] .colab-df-convert:hover {\n",
              "      background-color: #434B5C;\n",
              "      box-shadow: 0px 1px 3px 1px rgba(0, 0, 0, 0.15);\n",
              "      filter: drop-shadow(0px 1px 2px rgba(0, 0, 0, 0.3));\n",
              "      fill: #FFFFFF;\n",
              "    }\n",
              "  </style>\n",
              "\n",
              "    <script>\n",
              "      const buttonEl =\n",
              "        document.querySelector('#df-63125e99-7c0c-45b5-b608-6d01e6abd54d button.colab-df-convert');\n",
              "      buttonEl.style.display =\n",
              "        google.colab.kernel.accessAllowed ? 'block' : 'none';\n",
              "\n",
              "      async function convertToInteractive(key) {\n",
              "        const element = document.querySelector('#df-63125e99-7c0c-45b5-b608-6d01e6abd54d');\n",
              "        const dataTable =\n",
              "          await google.colab.kernel.invokeFunction('convertToInteractive',\n",
              "                                                    [key], {});\n",
              "        if (!dataTable) return;\n",
              "\n",
              "        const docLinkHtml = 'Like what you see? Visit the ' +\n",
              "          '<a target=\"_blank\" href=https://colab.research.google.com/notebooks/data_table.ipynb>data table notebook</a>'\n",
              "          + ' to learn more about interactive tables.';\n",
              "        element.innerHTML = '';\n",
              "        dataTable['output_type'] = 'display_data';\n",
              "        await google.colab.output.renderOutput(dataTable, element);\n",
              "        const docLink = document.createElement('div');\n",
              "        docLink.innerHTML = docLinkHtml;\n",
              "        element.appendChild(docLink);\n",
              "      }\n",
              "    </script>\n",
              "  </div>\n",
              "\n",
              "\n",
              "<div id=\"df-5a033d18-4cb4-401c-b7b0-cf01ba3ef0cb\">\n",
              "  <button class=\"colab-df-quickchart\" onclick=\"quickchart('df-5a033d18-4cb4-401c-b7b0-cf01ba3ef0cb')\"\n",
              "            title=\"Suggest charts\"\n",
              "            style=\"display:none;\">\n",
              "\n",
              "<svg xmlns=\"http://www.w3.org/2000/svg\" height=\"24px\"viewBox=\"0 0 24 24\"\n",
              "     width=\"24px\">\n",
              "    <g>\n",
              "        <path d=\"M19 3H5c-1.1 0-2 .9-2 2v14c0 1.1.9 2 2 2h14c1.1 0 2-.9 2-2V5c0-1.1-.9-2-2-2zM9 17H7v-7h2v7zm4 0h-2V7h2v10zm4 0h-2v-4h2v4z\"/>\n",
              "    </g>\n",
              "</svg>\n",
              "  </button>\n",
              "\n",
              "<style>\n",
              "  .colab-df-quickchart {\n",
              "      --bg-color: #E8F0FE;\n",
              "      --fill-color: #1967D2;\n",
              "      --hover-bg-color: #E2EBFA;\n",
              "      --hover-fill-color: #174EA6;\n",
              "      --disabled-fill-color: #AAA;\n",
              "      --disabled-bg-color: #DDD;\n",
              "  }\n",
              "\n",
              "  [theme=dark] .colab-df-quickchart {\n",
              "      --bg-color: #3B4455;\n",
              "      --fill-color: #D2E3FC;\n",
              "      --hover-bg-color: #434B5C;\n",
              "      --hover-fill-color: #FFFFFF;\n",
              "      --disabled-bg-color: #3B4455;\n",
              "      --disabled-fill-color: #666;\n",
              "  }\n",
              "\n",
              "  .colab-df-quickchart {\n",
              "    background-color: var(--bg-color);\n",
              "    border: none;\n",
              "    border-radius: 50%;\n",
              "    cursor: pointer;\n",
              "    display: none;\n",
              "    fill: var(--fill-color);\n",
              "    height: 32px;\n",
              "    padding: 0;\n",
              "    width: 32px;\n",
              "  }\n",
              "\n",
              "  .colab-df-quickchart:hover {\n",
              "    background-color: var(--hover-bg-color);\n",
              "    box-shadow: 0 1px 2px rgba(60, 64, 67, 0.3), 0 1px 3px 1px rgba(60, 64, 67, 0.15);\n",
              "    fill: var(--button-hover-fill-color);\n",
              "  }\n",
              "\n",
              "  .colab-df-quickchart-complete:disabled,\n",
              "  .colab-df-quickchart-complete:disabled:hover {\n",
              "    background-color: var(--disabled-bg-color);\n",
              "    fill: var(--disabled-fill-color);\n",
              "    box-shadow: none;\n",
              "  }\n",
              "\n",
              "  .colab-df-spinner {\n",
              "    border: 2px solid var(--fill-color);\n",
              "    border-color: transparent;\n",
              "    border-bottom-color: var(--fill-color);\n",
              "    animation:\n",
              "      spin 1s steps(1) infinite;\n",
              "  }\n",
              "\n",
              "  @keyframes spin {\n",
              "    0% {\n",
              "      border-color: transparent;\n",
              "      border-bottom-color: var(--fill-color);\n",
              "      border-left-color: var(--fill-color);\n",
              "    }\n",
              "    20% {\n",
              "      border-color: transparent;\n",
              "      border-left-color: var(--fill-color);\n",
              "      border-top-color: var(--fill-color);\n",
              "    }\n",
              "    30% {\n",
              "      border-color: transparent;\n",
              "      border-left-color: var(--fill-color);\n",
              "      border-top-color: var(--fill-color);\n",
              "      border-right-color: var(--fill-color);\n",
              "    }\n",
              "    40% {\n",
              "      border-color: transparent;\n",
              "      border-right-color: var(--fill-color);\n",
              "      border-top-color: var(--fill-color);\n",
              "    }\n",
              "    60% {\n",
              "      border-color: transparent;\n",
              "      border-right-color: var(--fill-color);\n",
              "    }\n",
              "    80% {\n",
              "      border-color: transparent;\n",
              "      border-right-color: var(--fill-color);\n",
              "      border-bottom-color: var(--fill-color);\n",
              "    }\n",
              "    90% {\n",
              "      border-color: transparent;\n",
              "      border-bottom-color: var(--fill-color);\n",
              "    }\n",
              "  }\n",
              "</style>\n",
              "\n",
              "  <script>\n",
              "    async function quickchart(key) {\n",
              "      const quickchartButtonEl =\n",
              "        document.querySelector('#' + key + ' button');\n",
              "      quickchartButtonEl.disabled = true;  // To prevent multiple clicks.\n",
              "      quickchartButtonEl.classList.add('colab-df-spinner');\n",
              "      try {\n",
              "        const charts = await google.colab.kernel.invokeFunction(\n",
              "            'suggestCharts', [key], {});\n",
              "      } catch (error) {\n",
              "        console.error('Error during call to suggestCharts:', error);\n",
              "      }\n",
              "      quickchartButtonEl.classList.remove('colab-df-spinner');\n",
              "      quickchartButtonEl.classList.add('colab-df-quickchart-complete');\n",
              "    }\n",
              "    (() => {\n",
              "      let quickchartButtonEl =\n",
              "        document.querySelector('#df-5a033d18-4cb4-401c-b7b0-cf01ba3ef0cb button');\n",
              "      quickchartButtonEl.style.display =\n",
              "        google.colab.kernel.accessAllowed ? 'block' : 'none';\n",
              "    })();\n",
              "  </script>\n",
              "</div>\n",
              "\n",
              "    </div>\n",
              "  </div>\n"
            ],
            "application/vnd.google.colaboratory.intrinsic+json": {
              "type": "dataframe",
              "variable_name": "netflix_data",
              "summary": "{\n  \"name\": \"netflix_data\",\n  \"rows\": 8807,\n  \"fields\": [\n    {\n      \"column\": \"show_id\",\n      \"properties\": {\n        \"dtype\": \"string\",\n        \"num_unique_values\": 8807,\n        \"samples\": [\n          \"s4971\",\n          \"s3363\",\n          \"s5495\"\n        ],\n        \"semantic_type\": \"\",\n        \"description\": \"\"\n      }\n    },\n    {\n      \"column\": \"type\",\n      \"properties\": {\n        \"dtype\": \"category\",\n        \"num_unique_values\": 2,\n        \"samples\": [\n          \"TV Show\",\n          \"Movie\"\n        ],\n        \"semantic_type\": \"\",\n        \"description\": \"\"\n      }\n    },\n    {\n      \"column\": \"title\",\n      \"properties\": {\n        \"dtype\": \"string\",\n        \"num_unique_values\": 8807,\n        \"samples\": [\n          \"Game Over, Man!\",\n          \"Arsenio Hall: Smart & Classy\"\n        ],\n        \"semantic_type\": \"\",\n        \"description\": \"\"\n      }\n    },\n    {\n      \"column\": \"director\",\n      \"properties\": {\n        \"dtype\": \"string\",\n        \"num_unique_values\": 4528,\n        \"samples\": [\n          \"Kanwal Sethi\",\n          \"R\\u00e9my Four, Julien War\"\n        ],\n        \"semantic_type\": \"\",\n        \"description\": \"\"\n      }\n    },\n    {\n      \"column\": \"cast\",\n      \"properties\": {\n        \"dtype\": \"string\",\n        \"num_unique_values\": 7692,\n        \"samples\": [\n          \"Tzi Ma, Christine Ko, Hong-Chi Lee, Hayden Szeto, Kunjue Li, Fiona Fu, James Saito, Joan Chen\",\n          \"Priyanshu Painyuli, Chandrachoor Rai, Shadab Kamal, Rajeev Siddhartha, Sheetal Thakur, Ninad Kamat, Swati Semwal, Eijaz Khan\"\n        ],\n        \"semantic_type\": \"\",\n        \"description\": \"\"\n      }\n    },\n    {\n      \"column\": \"country\",\n      \"properties\": {\n        \"dtype\": \"category\",\n        \"num_unique_values\": 748,\n        \"samples\": [\n          \"United States, United Kingdom, Denmark, Sweden\",\n          \"United Kingdom, Hong Kong\"\n        ],\n        \"semantic_type\": \"\",\n        \"description\": \"\"\n      }\n    },\n    {\n      \"column\": \"date_added\",\n      \"properties\": {\n        \"dtype\": \"category\",\n        \"num_unique_values\": 1767,\n        \"samples\": [\n          \"October 22, 2018\",\n          \"January 29, 2021\"\n        ],\n        \"semantic_type\": \"\",\n        \"description\": \"\"\n      }\n    },\n    {\n      \"column\": \"release_year\",\n      \"properties\": {\n        \"dtype\": \"number\",\n        \"std\": 8,\n        \"min\": 1925,\n        \"max\": 2021,\n        \"num_unique_values\": 74,\n        \"samples\": [\n          1996,\n          1969\n        ],\n        \"semantic_type\": \"\",\n        \"description\": \"\"\n      }\n    },\n    {\n      \"column\": \"rating\",\n      \"properties\": {\n        \"dtype\": \"category\",\n        \"num_unique_values\": 17,\n        \"samples\": [\n          \"PG-13\",\n          \"TV-MA\"\n        ],\n        \"semantic_type\": \"\",\n        \"description\": \"\"\n      }\n    },\n    {\n      \"column\": \"duration\",\n      \"properties\": {\n        \"dtype\": \"category\",\n        \"num_unique_values\": 220,\n        \"samples\": [\n          \"37 min\",\n          \"177 min\"\n        ],\n        \"semantic_type\": \"\",\n        \"description\": \"\"\n      }\n    },\n    {\n      \"column\": \"listed_in\",\n      \"properties\": {\n        \"dtype\": \"category\",\n        \"num_unique_values\": 514,\n        \"samples\": [\n          \"Crime TV Shows, International TV Shows, TV Mysteries\",\n          \"Children & Family Movies, Classic Movies, Dramas\"\n        ],\n        \"semantic_type\": \"\",\n        \"description\": \"\"\n      }\n    },\n    {\n      \"column\": \"description\",\n      \"properties\": {\n        \"dtype\": \"string\",\n        \"num_unique_values\": 8775,\n        \"samples\": [\n          \"A heedless teen drifter who falls for a small-town waitress makes the mistake of robbing a drug lord, putting his life and newfound love in jeopardy.\",\n          \"Twelve-year-old Calvin manages to join the navy and serves in the battle of Guadalcanal. But when his age is revealed, the boy is sent to the brig.\"\n        ],\n        \"semantic_type\": \"\",\n        \"description\": \"\"\n      }\n    }\n  ]\n}"
            }
          },
          "metadata": {},
          "execution_count": 7
        }
      ],
      "source": [
        "netflix_data=pd.read_csv(\"/kaggle/input/netflix-shows/netflix_titles.csv\")\n",
        "netflix_data.head()"
      ]
    },
    {
      "cell_type": "code",
      "execution_count": null,
      "id": "4a1d9f03",
      "metadata": {
        "execution": {
          "iopub.execute_input": "2022-06-14T16:53:13.293239Z",
          "iopub.status.busy": "2022-06-14T16:53:13.292597Z",
          "iopub.status.idle": "2022-06-14T16:53:13.326100Z",
          "shell.execute_reply": "2022-06-14T16:53:13.325382Z"
        },
        "papermill": {
          "duration": 0.051541,
          "end_time": "2022-06-14T16:53:13.328279",
          "exception": false,
          "start_time": "2022-06-14T16:53:13.276738",
          "status": "completed"
        },
        "tags": [],
        "colab": {
          "base_uri": "https://localhost:8080/"
        },
        "id": "4a1d9f03",
        "outputId": "ee4492ba-79ae-4007-fa52-47514719e13e"
      },
      "outputs": [
        {
          "output_type": "stream",
          "name": "stdout",
          "text": [
            "<class 'pandas.core.frame.DataFrame'>\n",
            "RangeIndex: 8807 entries, 0 to 8806\n",
            "Data columns (total 12 columns):\n",
            " #   Column        Non-Null Count  Dtype \n",
            "---  ------        --------------  ----- \n",
            " 0   show_id       8807 non-null   object\n",
            " 1   type          8807 non-null   object\n",
            " 2   title         8807 non-null   object\n",
            " 3   director      6173 non-null   object\n",
            " 4   cast          7982 non-null   object\n",
            " 5   country       7976 non-null   object\n",
            " 6   date_added    8797 non-null   object\n",
            " 7   release_year  8807 non-null   int64 \n",
            " 8   rating        8803 non-null   object\n",
            " 9   duration      8804 non-null   object\n",
            " 10  listed_in     8807 non-null   object\n",
            " 11  description   8807 non-null   object\n",
            "dtypes: int64(1), object(11)\n",
            "memory usage: 825.8+ KB\n"
          ]
        }
      ],
      "source": [
        "netflix_data.info()"
      ]
    },
    {
      "cell_type": "markdown",
      "id": "5edd7cb8",
      "metadata": {
        "papermill": {
          "duration": 0.014948,
          "end_time": "2022-06-14T16:53:13.359218",
          "exception": false,
          "start_time": "2022-06-14T16:53:13.344270",
          "status": "completed"
        },
        "tags": [],
        "id": "5edd7cb8"
      },
      "source": [
        "#### **We see some missing values located on cast, country and date added features. And also rating feature includes 4, duration feature includes 3 missing values** ####"
      ]
    },
    {
      "cell_type": "code",
      "execution_count": null,
      "id": "235e7738",
      "metadata": {
        "execution": {
          "iopub.execute_input": "2022-06-14T16:53:13.391713Z",
          "iopub.status.busy": "2022-06-14T16:53:13.391086Z",
          "iopub.status.idle": "2022-06-14T16:53:13.404624Z",
          "shell.execute_reply": "2022-06-14T16:53:13.403921Z"
        },
        "papermill": {
          "duration": 0.032159,
          "end_time": "2022-06-14T16:53:13.406694",
          "exception": false,
          "start_time": "2022-06-14T16:53:13.374535",
          "status": "completed"
        },
        "tags": [],
        "id": "235e7738"
      },
      "outputs": [],
      "source": [
        "netflix_shows=netflix_data[netflix_data['type']=='TV Show']\n",
        "netflix_movies=netflix_data[netflix_data['type']=='Movie']"
      ]
    },
    {
      "cell_type": "markdown",
      "id": "befad9ee",
      "metadata": {
        "papermill": {
          "duration": 0.014919,
          "end_time": "2022-06-14T16:53:13.436725",
          "exception": false,
          "start_time": "2022-06-14T16:53:13.421806",
          "status": "completed"
        },
        "tags": [],
        "id": "befad9ee"
      },
      "source": [
        "## EDA"
      ]
    },
    {
      "cell_type": "code",
      "execution_count": null,
      "id": "cacc7f51",
      "metadata": {
        "execution": {
          "iopub.execute_input": "2022-06-14T16:53:13.469057Z",
          "iopub.status.busy": "2022-06-14T16:53:13.468055Z",
          "iopub.status.idle": "2022-06-14T16:53:13.631028Z",
          "shell.execute_reply": "2022-06-14T16:53:13.630015Z"
        },
        "papermill": {
          "duration": 0.182045,
          "end_time": "2022-06-14T16:53:13.633971",
          "exception": false,
          "start_time": "2022-06-14T16:53:13.451926",
          "status": "completed"
        },
        "tags": [],
        "colab": {
          "base_uri": "https://localhost:8080/",
          "height": 536
        },
        "id": "cacc7f51",
        "outputId": "1a07e975-1ca5-41ca-b026-f8642e5ea133"
      },
      "outputs": [
        {
          "output_type": "stream",
          "name": "stderr",
          "text": [
            "<ipython-input-10-21c3beb99fcb>:2: FutureWarning: \n",
            "\n",
            "Passing `palette` without assigning `hue` is deprecated and will be removed in v0.14.0. Assign the `x` variable to `hue` and set `legend=False` for the same effect.\n",
            "\n",
            "  ax = sns.countplot(x=\"type\", data=netflix_data, palette=\"Set2\")\n"
          ]
        },
        {
          "output_type": "display_data",
          "data": {
            "text/plain": [
              "<Figure size 640x480 with 1 Axes>"
            ],
            "image/png": "[encoded data removed]"
          },
          "metadata": {}
        }
      ],
      "source": [
        "sns.set_style(\"darkgrid\", {\"grid.color\": \".6\", \"grid.linestyle\": \":\"})\n",
        "ax = sns.countplot(x=\"type\", data=netflix_data, palette=\"Set2\")"
      ]
    },
    {
      "cell_type": "markdown",
      "id": "5b0f7b27",
      "metadata": {
        "papermill": {
          "duration": 0.015024,
          "end_time": "2022-06-14T16:53:13.674495",
          "exception": false,
          "start_time": "2022-06-14T16:53:13.659471",
          "status": "completed"
        },
        "tags": [],
        "id": "5b0f7b27"
      },
      "source": [
        "### RATINGS"
      ]
    },
    {
      "cell_type": "code",
      "execution_count": null,
      "id": "31542827",
      "metadata": {
        "execution": {
          "iopub.execute_input": "2022-06-14T16:53:13.707311Z",
          "iopub.status.busy": "2022-06-14T16:53:13.706705Z",
          "iopub.status.idle": "2022-06-14T16:53:14.032696Z",
          "shell.execute_reply": "2022-06-14T16:53:14.031380Z"
        },
        "papermill": {
          "duration": 0.344898,
          "end_time": "2022-06-14T16:53:14.034927",
          "exception": false,
          "start_time": "2022-06-14T16:53:13.690029",
          "status": "completed"
        },
        "tags": [],
        "colab": {
          "base_uri": "https://localhost:8080/",
          "height": 959
        },
        "id": "31542827",
        "outputId": "de55241f-465b-4e82-c0c3-ef7c454b6b65"
      },
      "outputs": [
        {
          "output_type": "stream",
          "name": "stderr",
          "text": [
            "<ipython-input-11-9a1a2825cff0>:3: FutureWarning: \n",
            "\n",
            "Passing `palette` without assigning `hue` is deprecated and will be removed in v0.14.0. Assign the `x` variable to `hue` and set `legend=False` for the same effect.\n",
            "\n",
            "  ax = sns.countplot(x=\"rating\", data=netflix_data, palette=\"Set2\", order=netflix_data['rating'].value_counts().index[0:15])\n"
          ]
        },
        {
          "output_type": "display_data",
          "data": {
            "text/plain": [
              "<Figure size 2000x1200 with 1 Axes>"
            ],
            "image/png": "[encoded data removed]"
          },
          "metadata": {}
        }
      ],
      "source": [
        "plt.figure(figsize=(20,12))\n",
        "sns.set(style=\"white\")\n",
        "ax = sns.countplot(x=\"rating\", data=netflix_data, palette=\"Set2\", order=netflix_data['rating'].value_counts().index[0:15])"
      ]
    },
    {
      "cell_type": "markdown",
      "id": "a9d00032",
      "metadata": {
        "papermill": {
          "duration": 0.015525,
          "end_time": "2022-06-14T16:53:14.066495",
          "exception": false,
          "start_time": "2022-06-14T16:53:14.050970",
          "status": "completed"
        },
        "tags": [],
        "id": "a9d00032"
      },
      "source": [
        "### By this countplot of ratings we can realize that TV-MA ( Mature Audiences ) contents have the highest rating numbers. Then it gets lower as in order TV-14 ( Material that parents or adult guardians may find unsuitable for children under the age of 14 ) and TV-PG ( Parental Guideness )."
      ]
    },
    {
      "cell_type": "markdown",
      "id": "20a79b1e",
      "metadata": {
        "papermill": {
          "duration": 0.015275,
          "end_time": "2022-06-14T16:53:14.097788",
          "exception": false,
          "start_time": "2022-06-14T16:53:14.082513",
          "status": "completed"
        },
        "tags": [],
        "id": "20a79b1e"
      },
      "source": [
        "### YEAR"
      ]
    },
    {
      "cell_type": "code",
      "execution_count": null,
      "id": "76d0457e",
      "metadata": {
        "execution": {
          "iopub.execute_input": "2022-06-14T16:53:14.130337Z",
          "iopub.status.busy": "2022-06-14T16:53:14.129961Z",
          "iopub.status.idle": "2022-06-14T16:53:14.433522Z",
          "shell.execute_reply": "2022-06-14T16:53:14.432560Z"
        },
        "papermill": {
          "duration": 0.322317,
          "end_time": "2022-06-14T16:53:14.435504",
          "exception": false,
          "start_time": "2022-06-14T16:53:14.113187",
          "status": "completed"
        },
        "tags": [],
        "colab": {
          "base_uri": "https://localhost:8080/",
          "height": 951
        },
        "id": "76d0457e",
        "outputId": "adf1905e-e0a8-41b7-805c-ef943011c09d"
      },
      "outputs": [
        {
          "output_type": "stream",
          "name": "stderr",
          "text": [
            "<ipython-input-12-9fadaccce67e>:3: FutureWarning: \n",
            "\n",
            "Passing `palette` without assigning `hue` is deprecated and will be removed in v0.14.0. Assign the `y` variable to `hue` and set `legend=False` for the same effect.\n",
            "\n",
            "  ax = sns.countplot(y=\"release_year\", data=netflix_data, palette=\"bright\", order=netflix_data['release_year'].value_counts().index[0:15])\n"
          ]
        },
        {
          "output_type": "display_data",
          "data": {
            "text/plain": [
              "<Figure size 2000x1200 with 1 Axes>"
            ],
            "image/png": "[encoded data removed]"
          },
          "metadata": {}
        }
      ],
      "source": [
        "plt.figure(figsize=(20,12))\n",
        "sns.set(style=\"dark\")\n",
        "ax = sns.countplot(y=\"release_year\", data=netflix_data, palette=\"bright\", order=netflix_data['release_year'].value_counts().index[0:15])"
      ]
    },
    {
      "cell_type": "markdown",
      "id": "4b80f0ba",
      "metadata": {
        "papermill": {
          "duration": 0.015861,
          "end_time": "2022-06-14T16:53:14.467562",
          "exception": false,
          "start_time": "2022-06-14T16:53:14.451701",
          "status": "completed"
        },
        "tags": [],
        "id": "4b80f0ba"
      },
      "source": [
        "### This plot shows that most of the contents were produced in 2018 and 2017. Interesting fact is in 2019, 2020 and 2021 the number of produced contents are low. This is mostly because Covid-19 pandemic"
      ]
    },
    {
      "cell_type": "markdown",
      "id": "058b1850",
      "metadata": {
        "papermill": {
          "duration": 0.015758,
          "end_time": "2022-06-14T16:53:14.499150",
          "exception": false,
          "start_time": "2022-06-14T16:53:14.483392",
          "status": "completed"
        },
        "tags": [],
        "id": "058b1850"
      },
      "source": [
        "### RECOMMENDATION SYSTEM"
      ]
    },
    {
      "cell_type": "markdown",
      "id": "f109faaf",
      "metadata": {
        "papermill": {
          "duration": 0.016335,
          "end_time": "2022-06-14T16:53:14.531779",
          "exception": false,
          "start_time": "2022-06-14T16:53:14.515444",
          "status": "completed"
        },
        "tags": [],
        "id": "f109faaf"
      },
      "source": [
        "![download.png](attachment:5c885902-f8cc-4b51-92b5-6dc45eb54e7f.png)"
      ]
    },
    {
      "cell_type": "markdown",
      "id": "1734d66f",
      "metadata": {
        "papermill": {
          "duration": 0.016134,
          "end_time": "2022-06-14T16:53:14.564236",
          "exception": false,
          "start_time": "2022-06-14T16:53:14.548102",
          "status": "completed"
        },
        "tags": [],
        "id": "1734d66f"
      },
      "source": [
        "![1_mz9tzP1LjPBhmiWXeHyQkQ.png](attachment:2f767620-17c0-46f9-a728-eb7cdf5ab56a.png)"
      ]
    },
    {
      "cell_type": "markdown",
      "id": "35eebd66",
      "metadata": {
        "papermill": {
          "duration": 0.016166,
          "end_time": "2022-06-14T16:53:14.596587",
          "exception": false,
          "start_time": "2022-06-14T16:53:14.580421",
          "status": "completed"
        },
        "tags": [],
        "id": "35eebd66"
      },
      "source": [
        "### The TF-IDF(Term Frequency-Inverse Document Frequency (TF-IDF) ) score is the frequency of a word occurring in a document, down-weighted by the number of documents in which it occurs. This is done to reduce the importance of words that occur frequently in plot overviews and therefore, their significance in computing the final similarity score."
      ]
    },
    {
      "cell_type": "markdown",
      "id": "502d3853",
      "metadata": {
        "papermill": {
          "duration": 0.016044,
          "end_time": "2022-06-14T16:53:14.628857",
          "exception": false,
          "start_time": "2022-06-14T16:53:14.612813",
          "status": "completed"
        },
        "tags": [],
        "id": "502d3853"
      },
      "source": [
        "[Recommendation Systems Source - 1](https://towardsdatascience.com/recommendation-systems-explained-a42fc60591ed)\n",
        "[Recommendation Systems Source - 2](https://medium.com/recombee-blog/machine-learning-for-recommender-systems-part-1-algorithms-evaluation-and-cold-start-6f696683d0ed)"
      ]
    },
    {
      "cell_type": "code",
      "execution_count": null,
      "id": "dcb7333a",
      "metadata": {
        "execution": {
          "iopub.execute_input": "2022-06-14T16:53:14.663464Z",
          "iopub.status.busy": "2022-06-14T16:53:14.662923Z",
          "iopub.status.idle": "2022-06-14T16:53:14.803141Z",
          "shell.execute_reply": "2022-06-14T16:53:14.802181Z"
        },
        "papermill": {
          "duration": 0.160303,
          "end_time": "2022-06-14T16:53:14.805472",
          "exception": false,
          "start_time": "2022-06-14T16:53:14.645169",
          "status": "completed"
        },
        "tags": [],
        "id": "dcb7333a"
      },
      "outputs": [],
      "source": [
        "from sklearn.feature_extraction.text import TfidfVectorizer"
      ]
    },
    {
      "cell_type": "code",
      "execution_count": null,
      "id": "49e8609e",
      "metadata": {
        "execution": {
          "iopub.execute_input": "2022-06-14T16:53:14.839839Z",
          "iopub.status.busy": "2022-06-14T16:53:14.839024Z",
          "iopub.status.idle": "2022-06-14T16:53:15.146924Z",
          "shell.execute_reply": "2022-06-14T16:53:15.146076Z"
        },
        "papermill": {
          "duration": 0.327685,
          "end_time": "2022-06-14T16:53:15.149225",
          "exception": false,
          "start_time": "2022-06-14T16:53:14.821540",
          "status": "completed"
        },
        "tags": [],
        "colab": {
          "base_uri": "https://localhost:8080/"
        },
        "id": "49e8609e",
        "outputId": "159aeb82-1fd6-4644-f5d5-90ca9a353045"
      },
      "outputs": [
        {
          "output_type": "execute_result",
          "data": {
            "text/plain": [
              "(8807, 18895)"
            ]
          },
          "metadata": {},
          "execution_count": 14
        }
      ],
      "source": [
        "tfidf = TfidfVectorizer(stop_words='english')\n",
        "netflix_data['description'] = netflix_data['description'].fillna('')\n",
        "tfidf_matrix = tfidf.fit_transform(netflix_data['description'])\n",
        "tfidf_matrix.shape"
      ]
    },
    {
      "cell_type": "markdown",
      "id": "0c9c3acc",
      "metadata": {
        "papermill": {
          "duration": 0.016598,
          "end_time": "2022-06-14T16:53:15.181980",
          "exception": false,
          "start_time": "2022-06-14T16:53:15.165382",
          "status": "completed"
        },
        "tags": [],
        "id": "0c9c3acc"
      },
      "source": [
        "### The Cosine similarity score is used since it is independent of magnitude and is relatively easy and fast to calculate."
      ]
    },
    {
      "cell_type": "markdown",
      "id": "01d96efd",
      "metadata": {
        "papermill": {
          "duration": 0.01665,
          "end_time": "2022-06-14T16:53:15.214706",
          "exception": false,
          "start_time": "2022-06-14T16:53:15.198056",
          "status": "completed"
        },
        "tags": [],
        "id": "01d96efd"
      },
      "source": [
        "![download.png](attachment:198e93ff-1d14-47be-9b06-ba7332ed08a4.png)\n",
        "\n",
        "### Cosine similarity is a measure of similarity, often used to measure document similarity in text analysis."
      ]
    },
    {
      "cell_type": "markdown",
      "id": "761e05a3",
      "metadata": {
        "papermill": {
          "duration": 0.016009,
          "end_time": "2022-06-14T16:53:15.247019",
          "exception": false,
          "start_time": "2022-06-14T16:53:15.231010",
          "status": "completed"
        },
        "tags": [],
        "id": "761e05a3"
      },
      "source": [
        "[Cosine Similarity Source-1](https://www.geeksforgeeks.org/how-to-calculate-cosine-similarity-in-python/)\n",
        "[Cosine Similarity Source-2](https://stackoverflow.com/questions/18424228/cosine-similarity-between-2-number-lists)"
      ]
    },
    {
      "cell_type": "code",
      "execution_count": null,
      "id": "2029d2ab",
      "metadata": {
        "execution": {
          "iopub.execute_input": "2022-06-14T16:53:15.281358Z",
          "iopub.status.busy": "2022-06-14T16:53:15.280770Z",
          "iopub.status.idle": "2022-06-14T16:53:16.287945Z",
          "shell.execute_reply": "2022-06-14T16:53:16.286947Z"
        },
        "papermill": {
          "duration": 1.027529,
          "end_time": "2022-06-14T16:53:16.290397",
          "exception": false,
          "start_time": "2022-06-14T16:53:15.262868",
          "status": "completed"
        },
        "tags": [],
        "id": "2029d2ab"
      },
      "outputs": [],
      "source": [
        "from sklearn.metrics.pairwise import linear_kernel\n",
        "cosine_sim = linear_kernel(tfidf_matrix, tfidf_matrix)"
      ]
    },
    {
      "cell_type": "code",
      "execution_count": null,
      "id": "f9e974d7",
      "metadata": {
        "execution": {
          "iopub.execute_input": "2022-06-14T16:53:16.323946Z",
          "iopub.status.busy": "2022-06-14T16:53:16.323570Z",
          "iopub.status.idle": "2022-06-14T16:53:16.329371Z",
          "shell.execute_reply": "2022-06-14T16:53:16.328521Z"
        },
        "papermill": {
          "duration": 0.024557,
          "end_time": "2022-06-14T16:53:16.331061",
          "exception": false,
          "start_time": "2022-06-14T16:53:16.306504",
          "status": "completed"
        },
        "tags": [],
        "id": "f9e974d7"
      },
      "outputs": [],
      "source": [
        "indices = pd.Series(netflix_data.index, index=netflix_data['title']).drop_duplicates()"
      ]
    },
    {
      "cell_type": "markdown",
      "id": "74c2c1db",
      "metadata": {
        "papermill": {
          "duration": 0.015608,
          "end_time": "2022-06-14T16:53:16.362662",
          "exception": false,
          "start_time": "2022-06-14T16:53:16.347054",
          "status": "completed"
        },
        "tags": [],
        "id": "74c2c1db"
      },
      "source": [
        "#### Defining Recommendation System Function"
      ]
    },
    {
      "cell_type": "code",
      "execution_count": null,
      "id": "275f2637",
      "metadata": {
        "execution": {
          "iopub.execute_input": "2022-06-14T16:53:16.396900Z",
          "iopub.status.busy": "2022-06-14T16:53:16.396523Z",
          "iopub.status.idle": "2022-06-14T16:53:16.402484Z",
          "shell.execute_reply": "2022-06-14T16:53:16.401577Z"
        },
        "papermill": {
          "duration": 0.025985,
          "end_time": "2022-06-14T16:53:16.404766",
          "exception": false,
          "start_time": "2022-06-14T16:53:16.378781",
          "status": "completed"
        },
        "tags": [],
        "id": "275f2637"
      },
      "outputs": [],
      "source": [
        "def get_recommendations(title, cosine_sim=cosine_sim):\n",
        "    idx = indices[title]\n",
        "    sim_scores = list(enumerate(cosine_sim[idx]))\n",
        "    sim_scores = sorted(sim_scores, key=lambda x: x[1], reverse=True)\n",
        "    sim_scores = sim_scores[1:11]\n",
        "    movie_indices = [i[0] for i in sim_scores]\n",
        "    return netflix_data['title'].iloc[movie_indices]"
      ]
    },
    {
      "cell_type": "markdown",
      "id": "135d5ccd",
      "metadata": {
        "papermill": {
          "duration": 0.016153,
          "end_time": "2022-06-14T16:53:16.436962",
          "exception": false,
          "start_time": "2022-06-14T16:53:16.420809",
          "status": "completed"
        },
        "tags": [],
        "id": "135d5ccd"
      },
      "source": [
        "### At this point our recommendation system function is ready to use. After defining our recommendation system function we can use it to get recommendations. All we need to do is passing the content name as an argument"
      ]
    },
    {
      "cell_type": "markdown",
      "id": "a6444b4a",
      "metadata": {
        "papermill": {
          "duration": 0.016078,
          "end_time": "2022-06-14T16:53:16.469746",
          "exception": false,
          "start_time": "2022-06-14T16:53:16.453668",
          "status": "completed"
        },
        "tags": [],
        "id": "a6444b4a"
      },
      "source": [
        "### I am a huge Peaky Blinders fan. But you can check any content as an argument in your recommendation function"
      ]
    },
    {
      "cell_type": "markdown",
      "id": "f4ccf64b",
      "metadata": {
        "papermill": {
          "duration": 0.016319,
          "end_time": "2022-06-14T16:53:16.502720",
          "exception": false,
          "start_time": "2022-06-14T16:53:16.486401",
          "status": "completed"
        },
        "tags": [],
        "id": "f4ccf64b"
      },
      "source": [
        "![AAAABe1BG2UPFboUCtdFm1bZkdN1k8eyAeEK5tVKLXXSSBeLLlUFiWWTUUZGxXHZZjaB6hs9xZU18mq7JNOr0cGao5oqKhARxA0sGdR07xQxgyItY4JFWB7ryw7DsqhDZQ.jpg](attachment:c0b1fa02-b957-44e3-a9aa-6a1f14c254d5.jpg)"
      ]
    },
    {
      "cell_type": "code",
      "execution_count": null,
      "id": "5f608160",
      "metadata": {
        "execution": {
          "iopub.execute_input": "2022-06-14T16:53:16.538961Z",
          "iopub.status.busy": "2022-06-14T16:53:16.538241Z",
          "iopub.status.idle": "2022-06-14T16:53:16.555086Z",
          "shell.execute_reply": "2022-06-14T16:53:16.554188Z"
        },
        "papermill": {
          "duration": 0.037479,
          "end_time": "2022-06-14T16:53:16.557135",
          "exception": false,
          "start_time": "2022-06-14T16:53:16.519656",
          "status": "completed"
        },
        "tags": [],
        "colab": {
          "base_uri": "https://localhost:8080/",
          "height": 397
        },
        "id": "5f608160",
        "outputId": "ed44dcea-134a-4e43-d066-ed368de2e56f"
      },
      "outputs": [
        {
          "output_type": "execute_result",
          "data": {
            "text/plain": [
              "7683                    Our Godfather\n",
              "2646                   My Stupid Boss\n",
              "3133                              Don\n",
              "8293                         The Fear\n",
              "7140    Jonathan Strange & Mr Norrell\n",
              "7785                Power Rangers Zeo\n",
              "8467                       The Prison\n",
              "8539                       The Tudors\n",
              "1510                    The Con Is On\n",
              "8391     The Legend of Michael Mishra\n",
              "Name: title, dtype: object"
            ],
            "text/html": [
              "<div>\n",
              "<style scoped>\n",
              "    .dataframe tbody tr th:only-of-type {\n",
              "        vertical-align: middle;\n",
              "    }\n",
              "\n",
              "    .dataframe tbody tr th {\n",
              "        vertical-align: top;\n",
              "    }\n",
              "\n",
              "    .dataframe thead th {\n",
              "        text-align: right;\n",
              "    }\n",
              "</style>\n",
              "<table border=\"1\" class=\"dataframe\">\n",
              "  <thead>\n",
              "    <tr style=\"text-align: right;\">\n",
              "      <th></th>\n",
              "      <th>title</th>\n",
              "    </tr>\n",
              "  </thead>\n",
              "  <tbody>\n",
              "    <tr>\n",
              "      <th>7683</th>\n",
              "      <td>Our Godfather</td>\n",
              "    </tr>\n",
              "    <tr>\n",
              "      <th>2646</th>\n",
              "      <td>My Stupid Boss</td>\n",
              "    </tr>\n",
              "    <tr>\n",
              "      <th>3133</th>\n",
              "      <td>Don</td>\n",
              "    </tr>\n",
              "    <tr>\n",
              "      <th>8293</th>\n",
              "      <td>The Fear</td>\n",
              "    </tr>\n",
              "    <tr>\n",
              "      <th>7140</th>\n",
              "      <td>Jonathan Strange &amp; Mr Norrell</td>\n",
              "    </tr>\n",
              "    <tr>\n",
              "      <th>7785</th>\n",
              "      <td>Power Rangers Zeo</td>\n",
              "    </tr>\n",
              "    <tr>\n",
              "      <th>8467</th>\n",
              "      <td>The Prison</td>\n",
              "    </tr>\n",
              "    <tr>\n",
              "      <th>8539</th>\n",
              "      <td>The Tudors</td>\n",
              "    </tr>\n",
              "    <tr>\n",
              "      <th>1510</th>\n",
              "      <td>The Con Is On</td>\n",
              "    </tr>\n",
              "    <tr>\n",
              "      <th>8391</th>\n",
              "      <td>The Legend of Michael Mishra</td>\n",
              "    </tr>\n",
              "  </tbody>\n",
              "</table>\n",
              "</div><br><label><b>dtype:</b> object</label>"
            ]
          },
          "metadata": {},
          "execution_count": 18
        }
      ],
      "source": [
        "get_recommendations('Peaky Blinders')"
      ]
    },
    {
      "cell_type": "code",
      "execution_count": null,
      "id": "1907f254",
      "metadata": {
        "execution": {
          "iopub.execute_input": "2022-06-14T16:53:16.592046Z",
          "iopub.status.busy": "2022-06-14T16:53:16.591335Z",
          "iopub.status.idle": "2022-06-14T16:53:16.603931Z",
          "shell.execute_reply": "2022-06-14T16:53:16.603326Z"
        },
        "papermill": {
          "duration": 0.031807,
          "end_time": "2022-06-14T16:53:16.605759",
          "exception": false,
          "start_time": "2022-06-14T16:53:16.573952",
          "status": "completed"
        },
        "tags": [],
        "colab": {
          "base_uri": "https://localhost:8080/",
          "height": 397
        },
        "id": "1907f254",
        "outputId": "0db39c1c-e527-4d73-d488-e45a82af31ae"
      },
      "outputs": [
        {
          "output_type": "execute_result",
          "data": {
            "text/plain": [
              "2874                   Altered Carbon\n",
              "4629                           Maniac\n",
              "1034                       Synchronic\n",
              "626     Sophie: A Murder in West Cork\n",
              "1117         Ibrahim a Fate to Define\n",
              "4101                        Candyflip\n",
              "4253       Black Mirror: Bandersnatch\n",
              "869                  Who Killed Sara?\n",
              "2979                     THE STRANGER\n",
              "7348                        Love Rain\n",
              "Name: title, dtype: object"
            ],
            "text/html": [
              "<div>\n",
              "<style scoped>\n",
              "    .dataframe tbody tr th:only-of-type {\n",
              "        vertical-align: middle;\n",
              "    }\n",
              "\n",
              "    .dataframe tbody tr th {\n",
              "        vertical-align: top;\n",
              "    }\n",
              "\n",
              "    .dataframe thead th {\n",
              "        text-align: right;\n",
              "    }\n",
              "</style>\n",
              "<table border=\"1\" class=\"dataframe\">\n",
              "  <thead>\n",
              "    <tr style=\"text-align: right;\">\n",
              "      <th></th>\n",
              "      <th>title</th>\n",
              "    </tr>\n",
              "  </thead>\n",
              "  <tbody>\n",
              "    <tr>\n",
              "      <th>2874</th>\n",
              "      <td>Altered Carbon</td>\n",
              "    </tr>\n",
              "    <tr>\n",
              "      <th>4629</th>\n",
              "      <td>Maniac</td>\n",
              "    </tr>\n",
              "    <tr>\n",
              "      <th>1034</th>\n",
              "      <td>Synchronic</td>\n",
              "    </tr>\n",
              "    <tr>\n",
              "      <th>626</th>\n",
              "      <td>Sophie: A Murder in West Cork</td>\n",
              "    </tr>\n",
              "    <tr>\n",
              "      <th>1117</th>\n",
              "      <td>Ibrahim a Fate to Define</td>\n",
              "    </tr>\n",
              "    <tr>\n",
              "      <th>4101</th>\n",
              "      <td>Candyflip</td>\n",
              "    </tr>\n",
              "    <tr>\n",
              "      <th>4253</th>\n",
              "      <td>Black Mirror: Bandersnatch</td>\n",
              "    </tr>\n",
              "    <tr>\n",
              "      <th>869</th>\n",
              "      <td>Who Killed Sara?</td>\n",
              "    </tr>\n",
              "    <tr>\n",
              "      <th>2979</th>\n",
              "      <td>THE STRANGER</td>\n",
              "    </tr>\n",
              "    <tr>\n",
              "      <th>7348</th>\n",
              "      <td>Love Rain</td>\n",
              "    </tr>\n",
              "  </tbody>\n",
              "</table>\n",
              "</div><br><label><b>dtype:</b> object</label>"
            ]
          },
          "metadata": {},
          "execution_count": 19
        }
      ],
      "source": [
        "get_recommendations('Dark')"
      ]
    },
    {
      "cell_type": "markdown",
      "id": "a3f939ce",
      "metadata": {
        "papermill": {
          "duration": 0.016041,
          "end_time": "2022-06-14T16:53:16.638282",
          "exception": false,
          "start_time": "2022-06-14T16:53:16.622241",
          "status": "completed"
        },
        "tags": [],
        "id": "a3f939ce"
      },
      "source": [
        "## Content based filtering on multiple metrics ##\n",
        "\n",
        "* **Title**\n",
        "* **Cast**\n",
        "* **Director**\n",
        "* **Listed in**\n",
        "* **Plot**"
      ]
    },
    {
      "cell_type": "markdown",
      "id": "ece14ae8",
      "metadata": {
        "papermill": {
          "duration": 0.016206,
          "end_time": "2022-06-14T16:53:16.671593",
          "exception": false,
          "start_time": "2022-06-14T16:53:16.655387",
          "status": "completed"
        },
        "tags": [],
        "id": "ece14ae8"
      },
      "source": [
        "**Transforming NULLs to empty strings**"
      ]
    },
    {
      "cell_type": "code",
      "execution_count": null,
      "id": "5a0bfa9a",
      "metadata": {
        "execution": {
          "iopub.execute_input": "2022-06-14T16:53:16.706169Z",
          "iopub.status.busy": "2022-06-14T16:53:16.705484Z",
          "iopub.status.idle": "2022-06-14T16:53:16.732893Z",
          "shell.execute_reply": "2022-06-14T16:53:16.731986Z"
        },
        "papermill": {
          "duration": 0.04691,
          "end_time": "2022-06-14T16:53:16.734852",
          "exception": false,
          "start_time": "2022-06-14T16:53:16.687942",
          "status": "completed"
        },
        "tags": [],
        "colab": {
          "base_uri": "https://localhost:8080/",
          "height": 147
        },
        "id": "5a0bfa9a",
        "outputId": "d4f0152c-8d7c-4483-bc29-fa447f2036b3"
      },
      "outputs": [
        {
          "output_type": "execute_result",
          "data": {
            "text/plain": [
              "  show_id     type                 title         director  \\\n",
              "0      s1    Movie  Dick Johnson Is Dead  Kirsten Johnson   \n",
              "1      s2  TV Show         Blood & Water                    \n",
              "\n",
              "                                                cast        country  \\\n",
              "0                                                     United States   \n",
              "1  Ama Qamata, Khosi Ngema, Gail Mabalane, Thaban...   South Africa   \n",
              "\n",
              "           date_added  release_year rating   duration  \\\n",
              "0  September 25, 2021          2020  PG-13     90 min   \n",
              "1  September 24, 2021          2021  TV-MA  2 Seasons   \n",
              "\n",
              "                                         listed_in  \\\n",
              "0                                    Documentaries   \n",
              "1  International TV Shows, TV Dramas, TV Mysteries   \n",
              "\n",
              "                                         description  \n",
              "0  As her father nears the end of his life, filmm...  \n",
              "1  After crossing paths at a party, a Cape Town t...  "
            ],
            "text/html": [
              "\n",
              "  <div id=\"df-bc9afd03-4507-481c-a2c2-ce85e99f5c7a\" class=\"colab-df-container\">\n",
              "    <div>\n",
              "<style scoped>\n",
              "    .dataframe tbody tr th:only-of-type {\n",
              "        vertical-align: middle;\n",
              "    }\n",
              "\n",
              "    .dataframe tbody tr th {\n",
              "        vertical-align: top;\n",
              "    }\n",
              "\n",
              "    .dataframe thead th {\n",
              "        text-align: right;\n",
              "    }\n",
              "</style>\n",
              "<table border=\"1\" class=\"dataframe\">\n",
              "  <thead>\n",
              "    <tr style=\"text-align: right;\">\n",
              "      <th></th>\n",
              "      <th>show_id</th>\n",
              "      <th>type</th>\n",
              "      <th>title</th>\n",
              "      <th>director</th>\n",
              "      <th>cast</th>\n",
              "      <th>country</th>\n",
              "      <th>date_added</th>\n",
              "      <th>release_year</th>\n",
              "      <th>rating</th>\n",
              "      <th>duration</th>\n",
              "      <th>listed_in</th>\n",
              "      <th>description</th>\n",
              "    </tr>\n",
              "  </thead>\n",
              "  <tbody>\n",
              "    <tr>\n",
              "      <th>0</th>\n",
              "      <td>s1</td>\n",
              "      <td>Movie</td>\n",
              "      <td>Dick Johnson Is Dead</td>\n",
              "      <td>Kirsten Johnson</td>\n",
              "      <td></td>\n",
              "      <td>United States</td>\n",
              "      <td>September 25, 2021</td>\n",
              "      <td>2020</td>\n",
              "      <td>PG-13</td>\n",
              "      <td>90 min</td>\n",
              "      <td>Documentaries</td>\n",
              "      <td>As her father nears the end of his life, filmm...</td>\n",
              "    </tr>\n",
              "    <tr>\n",
              "      <th>1</th>\n",
              "      <td>s2</td>\n",
              "      <td>TV Show</td>\n",
              "      <td>Blood &amp; Water</td>\n",
              "      <td></td>\n",
              "      <td>Ama Qamata, Khosi Ngema, Gail Mabalane, Thaban...</td>\n",
              "      <td>South Africa</td>\n",
              "      <td>September 24, 2021</td>\n",
              "      <td>2021</td>\n",
              "      <td>TV-MA</td>\n",
              "      <td>2 Seasons</td>\n",
              "      <td>International TV Shows, TV Dramas, TV Mysteries</td>\n",
              "      <td>After crossing paths at a party, a Cape Town t...</td>\n",
              "    </tr>\n",
              "  </tbody>\n",
              "</table>\n",
              "</div>\n",
              "    <div class=\"colab-df-buttons\">\n",
              "\n",
              "  <div class=\"colab-df-container\">\n",
              "    <button class=\"colab-df-convert\" onclick=\"convertToInteractive('df-bc9afd03-4507-481c-a2c2-ce85e99f5c7a')\"\n",
              "            title=\"Convert this dataframe to an interactive table.\"\n",
              "            style=\"display:none;\">\n",
              "\n",
              "  <svg xmlns=\"http://www.w3.org/2000/svg\" height=\"24px\" viewBox=\"0 -960 960 960\">\n",
              "    <path d=\"M120-120v-720h720v720H120Zm60-500h600v-160H180v160Zm220 220h160v-160H400v160Zm0 220h160v-160H400v160ZM180-400h160v-160H180v160Zm440 0h160v-160H620v160ZM180-180h160v-160H180v160Zm440 0h160v-160H620v160Z\"/>\n",
              "  </svg>\n",
              "    </button>\n",
              "\n",
              "  <style>\n",
              "    .colab-df-container {\n",
              "      display:flex;\n",
              "      gap: 12px;\n",
              "    }\n",
              "\n",
              "    .colab-df-convert {\n",
              "      background-color: #E8F0FE;\n",
              "      border: none;\n",
              "      border-radius: 50%;\n",
              "      cursor: pointer;\n",
              "      display: none;\n",
              "      fill: #1967D2;\n",
              "      height: 32px;\n",
              "      padding: 0 0 0 0;\n",
              "      width: 32px;\n",
              "    }\n",
              "\n",
              "    .colab-df-convert:hover {\n",
              "      background-color: #E2EBFA;\n",
              "      box-shadow: 0px 1px 2px rgba(60, 64, 67, 0.3), 0px 1px 3px 1px rgba(60, 64, 67, 0.15);\n",
              "      fill: #174EA6;\n",
              "    }\n",
              "\n",
              "    .colab-df-buttons div {\n",
              "      margin-bottom: 4px;\n",
              "    }\n",
              "\n",
              "    [theme=dark] .colab-df-convert {\n",
              "      background-color: #3B4455;\n",
              "      fill: #D2E3FC;\n",
              "    }\n",
              "\n",
              "    [theme=dark] .colab-df-convert:hover {\n",
              "      background-color: #434B5C;\n",
              "      box-shadow: 0px 1px 3px 1px rgba(0, 0, 0, 0.15);\n",
              "      filter: drop-shadow(0px 1px 2px rgba(0, 0, 0, 0.3));\n",
              "      fill: #FFFFFF;\n",
              "    }\n",
              "  </style>\n",
              "\n",
              "    <script>\n",
              "      const buttonEl =\n",
              "        document.querySelector('#df-bc9afd03-4507-481c-a2c2-ce85e99f5c7a button.colab-df-convert');\n",
              "      buttonEl.style.display =\n",
              "        google.colab.kernel.accessAllowed ? 'block' : 'none';\n",
              "\n",
              "      async function convertToInteractive(key) {\n",
              "        const element = document.querySelector('#df-bc9afd03-4507-481c-a2c2-ce85e99f5c7a');\n",
              "        const dataTable =\n",
              "          await google.colab.kernel.invokeFunction('convertToInteractive',\n",
              "                                                    [key], {});\n",
              "        if (!dataTable) return;\n",
              "\n",
              "        const docLinkHtml = 'Like what you see? Visit the ' +\n",
              "          '<a target=\"_blank\" href=https://colab.research.google.com/notebooks/data_table.ipynb>data table notebook</a>'\n",
              "          + ' to learn more about interactive tables.';\n",
              "        element.innerHTML = '';\n",
              "        dataTable['output_type'] = 'display_data';\n",
              "        await google.colab.output.renderOutput(dataTable, element);\n",
              "        const docLink = document.createElement('div');\n",
              "        docLink.innerHTML = docLinkHtml;\n",
              "        element.appendChild(docLink);\n",
              "      }\n",
              "    </script>\n",
              "  </div>\n",
              "\n",
              "\n",
              "<div id=\"df-c24f42b5-8397-4c8d-bdff-a7f975af6cb8\">\n",
              "  <button class=\"colab-df-quickchart\" onclick=\"quickchart('df-c24f42b5-8397-4c8d-bdff-a7f975af6cb8')\"\n",
              "            title=\"Suggest charts\"\n",
              "            style=\"display:none;\">\n",
              "\n",
              "<svg xmlns=\"http://www.w3.org/2000/svg\" height=\"24px\"viewBox=\"0 0 24 24\"\n",
              "     width=\"24px\">\n",
              "    <g>\n",
              "        <path d=\"M19 3H5c-1.1 0-2 .9-2 2v14c0 1.1.9 2 2 2h14c1.1 0 2-.9 2-2V5c0-1.1-.9-2-2-2zM9 17H7v-7h2v7zm4 0h-2V7h2v10zm4 0h-2v-4h2v4z\"/>\n",
              "    </g>\n",
              "</svg>\n",
              "  </button>\n",
              "\n",
              "<style>\n",
              "  .colab-df-quickchart {\n",
              "      --bg-color: #E8F0FE;\n",
              "      --fill-color: #1967D2;\n",
              "      --hover-bg-color: #E2EBFA;\n",
              "      --hover-fill-color: #174EA6;\n",
              "      --disabled-fill-color: #AAA;\n",
              "      --disabled-bg-color: #DDD;\n",
              "  }\n",
              "\n",
              "  [theme=dark] .colab-df-quickchart {\n",
              "      --bg-color: #3B4455;\n",
              "      --fill-color: #D2E3FC;\n",
              "      --hover-bg-color: #434B5C;\n",
              "      --hover-fill-color: #FFFFFF;\n",
              "      --disabled-bg-color: #3B4455;\n",
              "      --disabled-fill-color: #666;\n",
              "  }\n",
              "\n",
              "  .colab-df-quickchart {\n",
              "    background-color: var(--bg-color);\n",
              "    border: none;\n",
              "    border-radius: 50%;\n",
              "    cursor: pointer;\n",
              "    display: none;\n",
              "    fill: var(--fill-color);\n",
              "    height: 32px;\n",
              "    padding: 0;\n",
              "    width: 32px;\n",
              "  }\n",
              "\n",
              "  .colab-df-quickchart:hover {\n",
              "    background-color: var(--hover-bg-color);\n",
              "    box-shadow: 0 1px 2px rgba(60, 64, 67, 0.3), 0 1px 3px 1px rgba(60, 64, 67, 0.15);\n",
              "    fill: var(--button-hover-fill-color);\n",
              "  }\n",
              "\n",
              "  .colab-df-quickchart-complete:disabled,\n",
              "  .colab-df-quickchart-complete:disabled:hover {\n",
              "    background-color: var(--disabled-bg-color);\n",
              "    fill: var(--disabled-fill-color);\n",
              "    box-shadow: none;\n",
              "  }\n",
              "\n",
              "  .colab-df-spinner {\n",
              "    border: 2px solid var(--fill-color);\n",
              "    border-color: transparent;\n",
              "    border-bottom-color: var(--fill-color);\n",
              "    animation:\n",
              "      spin 1s steps(1) infinite;\n",
              "  }\n",
              "\n",
              "  @keyframes spin {\n",
              "    0% {\n",
              "      border-color: transparent;\n",
              "      border-bottom-color: var(--fill-color);\n",
              "      border-left-color: var(--fill-color);\n",
              "    }\n",
              "    20% {\n",
              "      border-color: transparent;\n",
              "      border-left-color: var(--fill-color);\n",
              "      border-top-color: var(--fill-color);\n",
              "    }\n",
              "    30% {\n",
              "      border-color: transparent;\n",
              "      border-left-color: var(--fill-color);\n",
              "      border-top-color: var(--fill-color);\n",
              "      border-right-color: var(--fill-color);\n",
              "    }\n",
              "    40% {\n",
              "      border-color: transparent;\n",
              "      border-right-color: var(--fill-color);\n",
              "      border-top-color: var(--fill-color);\n",
              "    }\n",
              "    60% {\n",
              "      border-color: transparent;\n",
              "      border-right-color: var(--fill-color);\n",
              "    }\n",
              "    80% {\n",
              "      border-color: transparent;\n",
              "      border-right-color: var(--fill-color);\n",
              "      border-bottom-color: var(--fill-color);\n",
              "    }\n",
              "    90% {\n",
              "      border-color: transparent;\n",
              "      border-bottom-color: var(--fill-color);\n",
              "    }\n",
              "  }\n",
              "</style>\n",
              "\n",
              "  <script>\n",
              "    async function quickchart(key) {\n",
              "      const quickchartButtonEl =\n",
              "        document.querySelector('#' + key + ' button');\n",
              "      quickchartButtonEl.disabled = true;  // To prevent multiple clicks.\n",
              "      quickchartButtonEl.classList.add('colab-df-spinner');\n",
              "      try {\n",
              "        const charts = await google.colab.kernel.invokeFunction(\n",
              "            'suggestCharts', [key], {});\n",
              "      } catch (error) {\n",
              "        console.error('Error during call to suggestCharts:', error);\n",
              "      }\n",
              "      quickchartButtonEl.classList.remove('colab-df-spinner');\n",
              "      quickchartButtonEl.classList.add('colab-df-quickchart-complete');\n",
              "    }\n",
              "    (() => {\n",
              "      let quickchartButtonEl =\n",
              "        document.querySelector('#df-c24f42b5-8397-4c8d-bdff-a7f975af6cb8 button');\n",
              "      quickchartButtonEl.style.display =\n",
              "        google.colab.kernel.accessAllowed ? 'block' : 'none';\n",
              "    })();\n",
              "  </script>\n",
              "</div>\n",
              "\n",
              "    </div>\n",
              "  </div>\n"
            ],
            "application/vnd.google.colaboratory.intrinsic+json": {
              "type": "dataframe",
              "variable_name": "missingfilled",
              "summary": "{\n  \"name\": \"missingfilled\",\n  \"rows\": 8807,\n  \"fields\": [\n    {\n      \"column\": \"show_id\",\n      \"properties\": {\n        \"dtype\": \"string\",\n        \"num_unique_values\": 8807,\n        \"samples\": [\n          \"s4971\",\n          \"s3363\",\n          \"s5495\"\n        ],\n        \"semantic_type\": \"\",\n        \"description\": \"\"\n      }\n    },\n    {\n      \"column\": \"type\",\n      \"properties\": {\n        \"dtype\": \"category\",\n        \"num_unique_values\": 2,\n        \"samples\": [\n          \"TV Show\",\n          \"Movie\"\n        ],\n        \"semantic_type\": \"\",\n        \"description\": \"\"\n      }\n    },\n    {\n      \"column\": \"title\",\n      \"properties\": {\n        \"dtype\": \"string\",\n        \"num_unique_values\": 8807,\n        \"samples\": [\n          \"Game Over, Man!\",\n          \"Arsenio Hall: Smart & Classy\"\n        ],\n        \"semantic_type\": \"\",\n        \"description\": \"\"\n      }\n    },\n    {\n      \"column\": \"director\",\n      \"properties\": {\n        \"dtype\": \"string\",\n        \"num_unique_values\": 4529,\n        \"samples\": [\n          \"Babak Anvari\",\n          \"Maria Ripoll\"\n        ],\n        \"semantic_type\": \"\",\n        \"description\": \"\"\n      }\n    },\n    {\n      \"column\": \"cast\",\n      \"properties\": {\n        \"dtype\": \"string\",\n        \"num_unique_values\": 7693,\n        \"samples\": [\n          \"Vittoria Puccini, Francesco Scianna, Camilla Filippi, Simone Colombari, Maurizio Lastrico, Alessandro Averone, Euridice Axen, Marco Baliani, Pia Lanciotti, Giordano De Plano, Roberto Herlitzka, Tommaso Ragno, Margherita Caviezel, Michele Morrone\",\n          \"Banky Wellington, Rahama Sadau, Kanayo O. Kanayo, Ibrahim Suleiman, Michelle Dede, Adesua Etomi, Hilda Dokubo, Akin Lewis\"\n        ],\n        \"semantic_type\": \"\",\n        \"description\": \"\"\n      }\n    },\n    {\n      \"column\": \"country\",\n      \"properties\": {\n        \"dtype\": \"category\",\n        \"num_unique_values\": 749,\n        \"samples\": [\n          \"United States, United Kingdom, Denmark, Sweden\",\n          \"Spain, France\"\n        ],\n        \"semantic_type\": \"\",\n        \"description\": \"\"\n      }\n    },\n    {\n      \"column\": \"date_added\",\n      \"properties\": {\n        \"dtype\": \"category\",\n        \"num_unique_values\": 1768,\n        \"samples\": [\n          \"June 26, 2018\",\n          \"November 17, 2020\"\n        ],\n        \"semantic_type\": \"\",\n        \"description\": \"\"\n      }\n    },\n    {\n      \"column\": \"release_year\",\n      \"properties\": {\n        \"dtype\": \"number\",\n        \"std\": 8,\n        \"min\": 1925,\n        \"max\": 2021,\n        \"num_unique_values\": 74,\n        \"samples\": [\n          1996,\n          1969\n        ],\n        \"semantic_type\": \"\",\n        \"description\": \"\"\n      }\n    },\n    {\n      \"column\": \"rating\",\n      \"properties\": {\n        \"dtype\": \"category\",\n        \"num_unique_values\": 18,\n        \"samples\": [\n          \"PG-13\",\n          \"TV-MA\"\n        ],\n        \"semantic_type\": \"\",\n        \"description\": \"\"\n      }\n    },\n    {\n      \"column\": \"duration\",\n      \"properties\": {\n        \"dtype\": \"category\",\n        \"num_unique_values\": 221,\n        \"samples\": [\n          \"37 min\",\n          \"177 min\"\n        ],\n        \"semantic_type\": \"\",\n        \"description\": \"\"\n      }\n    },\n    {\n      \"column\": \"listed_in\",\n      \"properties\": {\n        \"dtype\": \"category\",\n        \"num_unique_values\": 514,\n        \"samples\": [\n          \"Crime TV Shows, International TV Shows, TV Mysteries\",\n          \"Children & Family Movies, Classic Movies, Dramas\"\n        ],\n        \"semantic_type\": \"\",\n        \"description\": \"\"\n      }\n    },\n    {\n      \"column\": \"description\",\n      \"properties\": {\n        \"dtype\": \"string\",\n        \"num_unique_values\": 8775,\n        \"samples\": [\n          \"A heedless teen drifter who falls for a small-town waitress makes the mistake of robbing a drug lord, putting his life and newfound love in jeopardy.\",\n          \"Twelve-year-old Calvin manages to join the navy and serves in the battle of Guadalcanal. But when his age is revealed, the boy is sent to the brig.\"\n        ],\n        \"semantic_type\": \"\",\n        \"description\": \"\"\n      }\n    }\n  ]\n}"
            }
          },
          "metadata": {},
          "execution_count": 20
        }
      ],
      "source": [
        "missingfilled=netflix_data.fillna('')\n",
        "missingfilled.head(2)"
      ]
    },
    {
      "cell_type": "markdown",
      "id": "76c2ac1f",
      "metadata": {
        "papermill": {
          "duration": 0.016291,
          "end_time": "2022-06-14T16:53:16.767811",
          "exception": false,
          "start_time": "2022-06-14T16:53:16.751520",
          "status": "completed"
        },
        "tags": [],
        "id": "76c2ac1f"
      },
      "source": [
        "**Data cleaning. Converting all words to their lower case form**"
      ]
    },
    {
      "cell_type": "code",
      "execution_count": null,
      "id": "5aec711d",
      "metadata": {
        "execution": {
          "iopub.execute_input": "2022-06-14T16:53:16.803484Z",
          "iopub.status.busy": "2022-06-14T16:53:16.803122Z",
          "iopub.status.idle": "2022-06-14T16:53:16.807533Z",
          "shell.execute_reply": "2022-06-14T16:53:16.806654Z"
        },
        "papermill": {
          "duration": 0.025202,
          "end_time": "2022-06-14T16:53:16.809350",
          "exception": false,
          "start_time": "2022-06-14T16:53:16.784148",
          "status": "completed"
        },
        "tags": [],
        "id": "5aec711d"
      },
      "outputs": [],
      "source": [
        "def data_cleaning(x):\n",
        "        return str.lower(x.replace(\" \", \"\"))"
      ]
    },
    {
      "cell_type": "markdown",
      "id": "21e856be",
      "metadata": {
        "papermill": {
          "duration": 0.015636,
          "end_time": "2022-06-14T16:53:16.841215",
          "exception": false,
          "start_time": "2022-06-14T16:53:16.825579",
          "status": "completed"
        },
        "tags": [],
        "id": "21e856be"
      },
      "source": [
        "**Selecting features which are going to filter model**"
      ]
    },
    {
      "cell_type": "code",
      "execution_count": null,
      "id": "e024d59d",
      "metadata": {
        "execution": {
          "iopub.execute_input": "2022-06-14T16:53:16.875400Z",
          "iopub.status.busy": "2022-06-14T16:53:16.874848Z",
          "iopub.status.idle": "2022-06-14T16:53:16.883384Z",
          "shell.execute_reply": "2022-06-14T16:53:16.882506Z"
        },
        "papermill": {
          "duration": 0.02767,
          "end_time": "2022-06-14T16:53:16.885262",
          "exception": false,
          "start_time": "2022-06-14T16:53:16.857592",
          "status": "completed"
        },
        "tags": [],
        "id": "e024d59d"
      },
      "outputs": [],
      "source": [
        "features=['title','director','cast','listed_in','description']\n",
        "missingfilled=missingfilled[features]"
      ]
    },
    {
      "cell_type": "code",
      "execution_count": null,
      "id": "cd218d7a",
      "metadata": {
        "execution": {
          "iopub.execute_input": "2022-06-14T16:53:16.920567Z",
          "iopub.status.busy": "2022-06-14T16:53:16.920173Z",
          "iopub.status.idle": "2022-06-14T16:53:16.987802Z",
          "shell.execute_reply": "2022-06-14T16:53:16.986893Z"
        },
        "papermill": {
          "duration": 0.087588,
          "end_time": "2022-06-14T16:53:16.989809",
          "exception": false,
          "start_time": "2022-06-14T16:53:16.902221",
          "status": "completed"
        },
        "tags": [],
        "colab": {
          "base_uri": "https://localhost:8080/",
          "height": 216
        },
        "id": "cd218d7a",
        "outputId": "395427ae-82fc-4ae1-8e91-fc5ed9bcbde8"
      },
      "outputs": [
        {
          "output_type": "stream",
          "name": "stderr",
          "text": [
            "<ipython-input-23-26dfe6e719b0>:2: SettingWithCopyWarning: \n",
            "A value is trying to be set on a copy of a slice from a DataFrame.\n",
            "Try using .loc[row_indexer,col_indexer] = value instead\n",
            "\n",
            "See the caveats in the documentation: https://pandas.pydata.org/pandas-docs/stable/user_guide/indexing.html#returning-a-view-versus-a-copy\n",
            "  missingfilled[feature] = missingfilled[feature].apply(data_cleaning)\n"
          ]
        },
        {
          "output_type": "execute_result",
          "data": {
            "text/plain": [
              "               title        director  \\\n",
              "0  dickjohnsonisdead  kirstenjohnson   \n",
              "1        blood&water                   \n",
              "\n",
              "                                                cast  \\\n",
              "0                                                      \n",
              "1  amaqamata,khosingema,gailmabalane,thabangmolab...   \n",
              "\n",
              "                                   listed_in  \\\n",
              "0                              documentaries   \n",
              "1  internationaltvshows,tvdramas,tvmysteries   \n",
              "\n",
              "                                         description  \n",
              "0  asherfathernearstheendofhislife,filmmakerkirst...  \n",
              "1  aftercrossingpathsataparty,acapetownteensetsou...  "
            ],
            "text/html": [
              "\n",
              "  <div id=\"df-e42a798c-cb7a-4bdc-84ca-002118029fdd\" class=\"colab-df-container\">\n",
              "    <div>\n",
              "<style scoped>\n",
              "    .dataframe tbody tr th:only-of-type {\n",
              "        vertical-align: middle;\n",
              "    }\n",
              "\n",
              "    .dataframe tbody tr th {\n",
              "        vertical-align: top;\n",
              "    }\n",
              "\n",
              "    .dataframe thead th {\n",
              "        text-align: right;\n",
              "    }\n",
              "</style>\n",
              "<table border=\"1\" class=\"dataframe\">\n",
              "  <thead>\n",
              "    <tr style=\"text-align: right;\">\n",
              "      <th></th>\n",
              "      <th>title</th>\n",
              "      <th>director</th>\n",
              "      <th>cast</th>\n",
              "      <th>listed_in</th>\n",
              "      <th>description</th>\n",
              "    </tr>\n",
              "  </thead>\n",
              "  <tbody>\n",
              "    <tr>\n",
              "      <th>0</th>\n",
              "      <td>dickjohnsonisdead</td>\n",
              "      <td>kirstenjohnson</td>\n",
              "      <td></td>\n",
              "      <td>documentaries</td>\n",
              "      <td>asherfathernearstheendofhislife,filmmakerkirst...</td>\n",
              "    </tr>\n",
              "    <tr>\n",
              "      <th>1</th>\n",
              "      <td>blood&amp;water</td>\n",
              "      <td></td>\n",
              "      <td>amaqamata,khosingema,gailmabalane,thabangmolab...</td>\n",
              "      <td>internationaltvshows,tvdramas,tvmysteries</td>\n",
              "      <td>aftercrossingpathsataparty,acapetownteensetsou...</td>\n",
              "    </tr>\n",
              "  </tbody>\n",
              "</table>\n",
              "</div>\n",
              "    <div class=\"colab-df-buttons\">\n",
              "\n",
              "  <div class=\"colab-df-container\">\n",
              "    <button class=\"colab-df-convert\" onclick=\"convertToInteractive('df-e42a798c-cb7a-4bdc-84ca-002118029fdd')\"\n",
              "            title=\"Convert this dataframe to an interactive table.\"\n",
              "            style=\"display:none;\">\n",
              "\n",
              "  <svg xmlns=\"http://www.w3.org/2000/svg\" height=\"24px\" viewBox=\"0 -960 960 960\">\n",
              "    <path d=\"M120-120v-720h720v720H120Zm60-500h600v-160H180v160Zm220 220h160v-160H400v160Zm0 220h160v-160H400v160ZM180-400h160v-160H180v160Zm440 0h160v-160H620v160ZM180-180h160v-160H180v160Zm440 0h160v-160H620v160Z\"/>\n",
              "  </svg>\n",
              "    </button>\n",
              "\n",
              "  <style>\n",
              "    .colab-df-container {\n",
              "      display:flex;\n",
              "      gap: 12px;\n",
              "    }\n",
              "\n",
              "    .colab-df-convert {\n",
              "      background-color: #E8F0FE;\n",
              "      border: none;\n",
              "      border-radius: 50%;\n",
              "      cursor: pointer;\n",
              "      display: none;\n",
              "      fill: #1967D2;\n",
              "      height: 32px;\n",
              "      padding: 0 0 0 0;\n",
              "      width: 32px;\n",
              "    }\n",
              "\n",
              "    .colab-df-convert:hover {\n",
              "      background-color: #E2EBFA;\n",
              "      box-shadow: 0px 1px 2px rgba(60, 64, 67, 0.3), 0px 1px 3px 1px rgba(60, 64, 67, 0.15);\n",
              "      fill: #174EA6;\n",
              "    }\n",
              "\n",
              "    .colab-df-buttons div {\n",
              "      margin-bottom: 4px;\n",
              "    }\n",
              "\n",
              "    [theme=dark] .colab-df-convert {\n",
              "      background-color: #3B4455;\n",
              "      fill: #D2E3FC;\n",
              "    }\n",
              "\n",
              "    [theme=dark] .colab-df-convert:hover {\n",
              "      background-color: #434B5C;\n",
              "      box-shadow: 0px 1px 3px 1px rgba(0, 0, 0, 0.15);\n",
              "      filter: drop-shadow(0px 1px 2px rgba(0, 0, 0, 0.3));\n",
              "      fill: #FFFFFF;\n",
              "    }\n",
              "  </style>\n",
              "\n",
              "    <script>\n",
              "      const buttonEl =\n",
              "        document.querySelector('#df-e42a798c-cb7a-4bdc-84ca-002118029fdd button.colab-df-convert');\n",
              "      buttonEl.style.display =\n",
              "        google.colab.kernel.accessAllowed ? 'block' : 'none';\n",
              "\n",
              "      async function convertToInteractive(key) {\n",
              "        const element = document.querySelector('#df-e42a798c-cb7a-4bdc-84ca-002118029fdd');\n",
              "        const dataTable =\n",
              "          await google.colab.kernel.invokeFunction('convertToInteractive',\n",
              "                                                    [key], {});\n",
              "        if (!dataTable) return;\n",
              "\n",
              "        const docLinkHtml = 'Like what you see? Visit the ' +\n",
              "          '<a target=\"_blank\" href=https://colab.research.google.com/notebooks/data_table.ipynb>data table notebook</a>'\n",
              "          + ' to learn more about interactive tables.';\n",
              "        element.innerHTML = '';\n",
              "        dataTable['output_type'] = 'display_data';\n",
              "        await google.colab.output.renderOutput(dataTable, element);\n",
              "        const docLink = document.createElement('div');\n",
              "        docLink.innerHTML = docLinkHtml;\n",
              "        element.appendChild(docLink);\n",
              "      }\n",
              "    </script>\n",
              "  </div>\n",
              "\n",
              "\n",
              "<div id=\"df-40c95cbd-ff3d-453d-a596-e37a09ea774b\">\n",
              "  <button class=\"colab-df-quickchart\" onclick=\"quickchart('df-40c95cbd-ff3d-453d-a596-e37a09ea774b')\"\n",
              "            title=\"Suggest charts\"\n",
              "            style=\"display:none;\">\n",
              "\n",
              "<svg xmlns=\"http://www.w3.org/2000/svg\" height=\"24px\"viewBox=\"0 0 24 24\"\n",
              "     width=\"24px\">\n",
              "    <g>\n",
              "        <path d=\"M19 3H5c-1.1 0-2 .9-2 2v14c0 1.1.9 2 2 2h14c1.1 0 2-.9 2-2V5c0-1.1-.9-2-2-2zM9 17H7v-7h2v7zm4 0h-2V7h2v10zm4 0h-2v-4h2v4z\"/>\n",
              "    </g>\n",
              "</svg>\n",
              "  </button>\n",
              "\n",
              "<style>\n",
              "  .colab-df-quickchart {\n",
              "      --bg-color: #E8F0FE;\n",
              "      --fill-color: #1967D2;\n",
              "      --hover-bg-color: #E2EBFA;\n",
              "      --hover-fill-color: #174EA6;\n",
              "      --disabled-fill-color: #AAA;\n",
              "      --disabled-bg-color: #DDD;\n",
              "  }\n",
              "\n",
              "  [theme=dark] .colab-df-quickchart {\n",
              "      --bg-color: #3B4455;\n",
              "      --fill-color: #D2E3FC;\n",
              "      --hover-bg-color: #434B5C;\n",
              "      --hover-fill-color: #FFFFFF;\n",
              "      --disabled-bg-color: #3B4455;\n",
              "      --disabled-fill-color: #666;\n",
              "  }\n",
              "\n",
              "  .colab-df-quickchart {\n",
              "    background-color: var(--bg-color);\n",
              "    border: none;\n",
              "    border-radius: 50%;\n",
              "    cursor: pointer;\n",
              "    display: none;\n",
              "    fill: var(--fill-color);\n",
              "    height: 32px;\n",
              "    padding: 0;\n",
              "    width: 32px;\n",
              "  }\n",
              "\n",
              "  .colab-df-quickchart:hover {\n",
              "    background-color: var(--hover-bg-color);\n",
              "    box-shadow: 0 1px 2px rgba(60, 64, 67, 0.3), 0 1px 3px 1px rgba(60, 64, 67, 0.15);\n",
              "    fill: var(--button-hover-fill-color);\n",
              "  }\n",
              "\n",
              "  .colab-df-quickchart-complete:disabled,\n",
              "  .colab-df-quickchart-complete:disabled:hover {\n",
              "    background-color: var(--disabled-bg-color);\n",
              "    fill: var(--disabled-fill-color);\n",
              "    box-shadow: none;\n",
              "  }\n",
              "\n",
              "  .colab-df-spinner {\n",
              "    border: 2px solid var(--fill-color);\n",
              "    border-color: transparent;\n",
              "    border-bottom-color: var(--fill-color);\n",
              "    animation:\n",
              "      spin 1s steps(1) infinite;\n",
              "  }\n",
              "\n",
              "  @keyframes spin {\n",
              "    0% {\n",
              "      border-color: transparent;\n",
              "      border-bottom-color: var(--fill-color);\n",
              "      border-left-color: var(--fill-color);\n",
              "    }\n",
              "    20% {\n",
              "      border-color: transparent;\n",
              "      border-left-color: var(--fill-color);\n",
              "      border-top-color: var(--fill-color);\n",
              "    }\n",
              "    30% {\n",
              "      border-color: transparent;\n",
              "      border-left-color: var(--fill-color);\n",
              "      border-top-color: var(--fill-color);\n",
              "      border-right-color: var(--fill-color);\n",
              "    }\n",
              "    40% {\n",
              "      border-color: transparent;\n",
              "      border-right-color: var(--fill-color);\n",
              "      border-top-color: var(--fill-color);\n",
              "    }\n",
              "    60% {\n",
              "      border-color: transparent;\n",
              "      border-right-color: var(--fill-color);\n",
              "    }\n",
              "    80% {\n",
              "      border-color: transparent;\n",
              "      border-right-color: var(--fill-color);\n",
              "      border-bottom-color: var(--fill-color);\n",
              "    }\n",
              "    90% {\n",
              "      border-color: transparent;\n",
              "      border-bottom-color: var(--fill-color);\n",
              "    }\n",
              "  }\n",
              "</style>\n",
              "\n",
              "  <script>\n",
              "    async function quickchart(key) {\n",
              "      const quickchartButtonEl =\n",
              "        document.querySelector('#' + key + ' button');\n",
              "      quickchartButtonEl.disabled = true;  // To prevent multiple clicks.\n",
              "      quickchartButtonEl.classList.add('colab-df-spinner');\n",
              "      try {\n",
              "        const charts = await google.colab.kernel.invokeFunction(\n",
              "            'suggestCharts', [key], {});\n",
              "      } catch (error) {\n",
              "        console.error('Error during call to suggestCharts:', error);\n",
              "      }\n",
              "      quickchartButtonEl.classList.remove('colab-df-spinner');\n",
              "      quickchartButtonEl.classList.add('colab-df-quickchart-complete');\n",
              "    }\n",
              "    (() => {\n",
              "      let quickchartButtonEl =\n",
              "        document.querySelector('#df-40c95cbd-ff3d-453d-a596-e37a09ea774b button');\n",
              "      quickchartButtonEl.style.display =\n",
              "        google.colab.kernel.accessAllowed ? 'block' : 'none';\n",
              "    })();\n",
              "  </script>\n",
              "</div>\n",
              "\n",
              "    </div>\n",
              "  </div>\n"
            ],
            "application/vnd.google.colaboratory.intrinsic+json": {
              "type": "dataframe",
              "variable_name": "missingfilled",
              "summary": "{\n  \"name\": \"missingfilled\",\n  \"rows\": 8807,\n  \"fields\": [\n    {\n      \"column\": \"title\",\n      \"properties\": {\n        \"dtype\": \"string\",\n        \"num_unique_values\": 8801,\n        \"samples\": [\n          \"thecircle\",\n          \"thediscovery\",\n          \"bertkreischer:secrettime\"\n        ],\n        \"semantic_type\": \"\",\n        \"description\": \"\"\n      }\n    },\n    {\n      \"column\": \"director\",\n      \"properties\": {\n        \"dtype\": \"string\",\n        \"num_unique_values\": 4527,\n        \"samples\": [\n          \"kanwalsethi\",\n          \"petracosta,leaglob\",\n          \"ericbress\"\n        ],\n        \"semantic_type\": \"\",\n        \"description\": \"\"\n      }\n    },\n    {\n      \"column\": \"cast\",\n      \"properties\": {\n        \"dtype\": \"string\",\n        \"num_unique_values\": 7693,\n        \"samples\": [\n          \"vittoriapuccini,francescoscianna,camillafilippi,simonecolombari,mauriziolastrico,alessandroaverone,euridiceaxen,marcobaliani,pialanciotti,giordanodeplano,robertoherlitzka,tommasoragno,margheritacaviezel,michelemorrone\",\n          \"bankywellington,rahamasadau,kanayoo.kanayo,ibrahimsuleiman,michelledede,adesuaetomi,hildadokubo,akinlewis\",\n          \"scouttaylor-compton,jameslandryh\\u00e9bert,markboonejunior,michaels.new,russellgeoffreybanks,richleegray,elanakrausz,kevinragsdale,wen-chuyang,katrinagrey\"\n        ],\n        \"semantic_type\": \"\",\n        \"description\": \"\"\n      }\n    },\n    {\n      \"column\": \"listed_in\",\n      \"properties\": {\n        \"dtype\": \"category\",\n        \"num_unique_values\": 514,\n        \"samples\": [\n          \"crimetvshows,internationaltvshows,tvmysteries\",\n          \"children&familymovies,classicmovies,dramas\",\n          \"britishtvshows,tvcomedies,tvdramas\"\n        ],\n        \"semantic_type\": \"\",\n        \"description\": \"\"\n      }\n    },\n    {\n      \"column\": \"description\",\n      \"properties\": {\n        \"dtype\": \"string\",\n        \"num_unique_values\": 8775,\n        \"samples\": [\n          \"aheedlessteendrifterwhofallsforasmall-townwaitressmakesthemistakeofrobbingadruglord,puttinghislifeandnewfoundloveinjeopardy.\",\n          \"twelve-year-oldcalvinmanagestojointhenavyandservesinthebattleofguadalcanal.butwhenhisageisrevealed,theboyissenttothebrig.\",\n          \"asinglemotherandhertwinsonsmoveintoaruralhouse,unawareofitshistoryofbeinginhabitedbyanevilspiritthatpreysuponyoungchildren.\"\n        ],\n        \"semantic_type\": \"\",\n        \"description\": \"\"\n      }\n    }\n  ]\n}"
            }
          },
          "metadata": {},
          "execution_count": 23
        }
      ],
      "source": [
        "for feature in features:\n",
        "    missingfilled[feature] = missingfilled[feature].apply(data_cleaning)\n",
        "\n",
        "missingfilled.head(2)"
      ]
    },
    {
      "cell_type": "code",
      "execution_count": null,
      "id": "6b378263",
      "metadata": {
        "execution": {
          "iopub.execute_input": "2022-06-14T16:53:17.082373Z",
          "iopub.status.busy": "2022-06-14T16:53:17.081906Z",
          "iopub.status.idle": "2022-06-14T16:53:17.087563Z",
          "shell.execute_reply": "2022-06-14T16:53:17.086541Z"
        },
        "papermill": {
          "duration": 0.082457,
          "end_time": "2022-06-14T16:53:17.089460",
          "exception": false,
          "start_time": "2022-06-14T16:53:17.007003",
          "status": "completed"
        },
        "tags": [],
        "id": "6b378263"
      },
      "outputs": [],
      "source": [
        "def content_include(x):\n",
        "    return x['title']+ ' ' + x['director'] + ' ' + x['cast'] + ' ' +x['listed_in']+' '+ x['description']"
      ]
    },
    {
      "cell_type": "code",
      "execution_count": null,
      "id": "dfe94650",
      "metadata": {
        "execution": {
          "iopub.execute_input": "2022-06-14T16:53:17.124319Z",
          "iopub.status.busy": "2022-06-14T16:53:17.123943Z",
          "iopub.status.idle": "2022-06-14T16:53:17.427293Z",
          "shell.execute_reply": "2022-06-14T16:53:17.426501Z"
        },
        "papermill": {
          "duration": 0.323354,
          "end_time": "2022-06-14T16:53:17.429516",
          "exception": false,
          "start_time": "2022-06-14T16:53:17.106162",
          "status": "completed"
        },
        "tags": [],
        "id": "dfe94650"
      },
      "outputs": [],
      "source": [
        "missingfilled['soup'] = missingfilled.apply(content_include, axis=1)"
      ]
    },
    {
      "cell_type": "markdown",
      "id": "54e62d24",
      "metadata": {
        "papermill": {
          "duration": 0.016716,
          "end_time": "2022-06-14T16:53:17.463165",
          "exception": false,
          "start_time": "2022-06-14T16:53:17.446449",
          "status": "completed"
        },
        "tags": [],
        "id": "54e62d24"
      },
      "source": [
        "**Now the code is basically similar to the upper model except the fact that count vectorizer is used instead of tf-idf**"
      ]
    },
    {
      "cell_type": "code",
      "execution_count": null,
      "id": "52253524",
      "metadata": {
        "execution": {
          "iopub.execute_input": "2022-06-14T16:53:17.498773Z",
          "iopub.status.busy": "2022-06-14T16:53:17.498383Z",
          "iopub.status.idle": "2022-06-14T16:53:17.502820Z",
          "shell.execute_reply": "2022-06-14T16:53:17.501922Z"
        },
        "papermill": {
          "duration": 0.024721,
          "end_time": "2022-06-14T16:53:17.504813",
          "exception": false,
          "start_time": "2022-06-14T16:53:17.480092",
          "status": "completed"
        },
        "tags": [],
        "id": "52253524"
      },
      "outputs": [],
      "source": [
        "from sklearn.feature_extraction.text import CountVectorizer\n",
        "from sklearn.metrics.pairwise import cosine_similarity"
      ]
    },
    {
      "cell_type": "code",
      "execution_count": null,
      "id": "4aea59b0",
      "metadata": {
        "execution": {
          "iopub.execute_input": "2022-06-14T16:53:17.540152Z",
          "iopub.status.busy": "2022-06-14T16:53:17.539758Z",
          "iopub.status.idle": "2022-06-14T16:53:19.193797Z",
          "shell.execute_reply": "2022-06-14T16:53:19.192916Z"
        },
        "papermill": {
          "duration": 1.67445,
          "end_time": "2022-06-14T16:53:19.196112",
          "exception": false,
          "start_time": "2022-06-14T16:53:17.521662",
          "status": "completed"
        },
        "tags": [],
        "id": "4aea59b0"
      },
      "outputs": [],
      "source": [
        "countvec = CountVectorizer(stop_words='english')\n",
        "countvec_matrix = countvec.fit_transform(missingfilled['soup'])\n",
        "\n",
        "cosine_sim2 = cosine_similarity(countvec_matrix, countvec_matrix)"
      ]
    },
    {
      "cell_type": "code",
      "execution_count": null,
      "id": "cc0da85e",
      "metadata": {
        "execution": {
          "iopub.execute_input": "2022-06-14T16:53:19.231801Z",
          "iopub.status.busy": "2022-06-14T16:53:19.231406Z",
          "iopub.status.idle": "2022-06-14T16:53:19.240357Z",
          "shell.execute_reply": "2022-06-14T16:53:19.239474Z"
        },
        "papermill": {
          "duration": 0.029246,
          "end_time": "2022-06-14T16:53:19.242436",
          "exception": false,
          "start_time": "2022-06-14T16:53:19.213190",
          "status": "completed"
        },
        "tags": [],
        "id": "cc0da85e"
      },
      "outputs": [],
      "source": [
        "missingfilled=missingfilled.reset_index()\n",
        "indices = pd.Series(missingfilled.index, index=missingfilled['title'])"
      ]
    },
    {
      "cell_type": "code",
      "execution_count": null,
      "id": "4d064b11",
      "metadata": {
        "execution": {
          "iopub.execute_input": "2022-06-14T16:53:19.277801Z",
          "iopub.status.busy": "2022-06-14T16:53:19.277423Z",
          "iopub.status.idle": "2022-06-14T16:53:19.283705Z",
          "shell.execute_reply": "2022-06-14T16:53:19.282851Z"
        },
        "papermill": {
          "duration": 0.026325,
          "end_time": "2022-06-14T16:53:19.285672",
          "exception": false,
          "start_time": "2022-06-14T16:53:19.259347",
          "status": "completed"
        },
        "tags": [],
        "id": "4d064b11"
      },
      "outputs": [],
      "source": [
        "def get_recommendations_new(title, cosine_sim=cosine_sim):\n",
        "    title=title.replace(' ','').lower()\n",
        "    idx = indices[title]\n",
        "    sim_scores = list(enumerate(cosine_sim[idx]))\n",
        "    sim_scores = sorted(sim_scores, key=lambda x: x[1], reverse=True)\n",
        "    sim_scores = sim_scores[1:11]\n",
        "    movie_indices = [i[0] for i in sim_scores]\n",
        "    return netflix_data['title'].iloc[movie_indices]"
      ]
    },
    {
      "cell_type": "code",
      "execution_count": null,
      "id": "8ee13613",
      "metadata": {
        "execution": {
          "iopub.execute_input": "2022-06-14T16:53:19.320861Z",
          "iopub.status.busy": "2022-06-14T16:53:19.320485Z",
          "iopub.status.idle": "2022-06-14T16:53:19.339711Z",
          "shell.execute_reply": "2022-06-14T16:53:19.338784Z"
        },
        "papermill": {
          "duration": 0.039212,
          "end_time": "2022-06-14T16:53:19.341665",
          "exception": false,
          "start_time": "2022-06-14T16:53:19.302453",
          "status": "completed"
        },
        "tags": [],
        "colab": {
          "base_uri": "https://localhost:8080/",
          "height": 397
        },
        "id": "8ee13613",
        "outputId": "a8b2cf24-7692-489d-fa11-d5245f960dee"
      },
      "outputs": [
        {
          "output_type": "execute_result",
          "data": {
            "text/plain": [
              "260                 The Defeated\n",
              "3604                    Sintonia\n",
              "2053             Young Wallander\n",
              "3744                     Unit 42\n",
              "5404           The Truth Seekers\n",
              "6323                 Black Heart\n",
              "3789              Killer Ratings\n",
              "4476       Terrorism Close Calls\n",
              "4673    Inside the Criminal Mind\n",
              "3855                  The Writer\n",
              "Name: title, dtype: object"
            ],
            "text/html": [
              "<div>\n",
              "<style scoped>\n",
              "    .dataframe tbody tr th:only-of-type {\n",
              "        vertical-align: middle;\n",
              "    }\n",
              "\n",
              "    .dataframe tbody tr th {\n",
              "        vertical-align: top;\n",
              "    }\n",
              "\n",
              "    .dataframe thead th {\n",
              "        text-align: right;\n",
              "    }\n",
              "</style>\n",
              "<table border=\"1\" class=\"dataframe\">\n",
              "  <thead>\n",
              "    <tr style=\"text-align: right;\">\n",
              "      <th></th>\n",
              "      <th>title</th>\n",
              "    </tr>\n",
              "  </thead>\n",
              "  <tbody>\n",
              "    <tr>\n",
              "      <th>260</th>\n",
              "      <td>The Defeated</td>\n",
              "    </tr>\n",
              "    <tr>\n",
              "      <th>3604</th>\n",
              "      <td>Sintonia</td>\n",
              "    </tr>\n",
              "    <tr>\n",
              "      <th>2053</th>\n",
              "      <td>Young Wallander</td>\n",
              "    </tr>\n",
              "    <tr>\n",
              "      <th>3744</th>\n",
              "      <td>Unit 42</td>\n",
              "    </tr>\n",
              "    <tr>\n",
              "      <th>5404</th>\n",
              "      <td>The Truth Seekers</td>\n",
              "    </tr>\n",
              "    <tr>\n",
              "      <th>6323</th>\n",
              "      <td>Black Heart</td>\n",
              "    </tr>\n",
              "    <tr>\n",
              "      <th>3789</th>\n",
              "      <td>Killer Ratings</td>\n",
              "    </tr>\n",
              "    <tr>\n",
              "      <th>4476</th>\n",
              "      <td>Terrorism Close Calls</td>\n",
              "    </tr>\n",
              "    <tr>\n",
              "      <th>4673</th>\n",
              "      <td>Inside the Criminal Mind</td>\n",
              "    </tr>\n",
              "    <tr>\n",
              "      <th>3855</th>\n",
              "      <td>The Writer</td>\n",
              "    </tr>\n",
              "  </tbody>\n",
              "</table>\n",
              "</div><br><label><b>dtype:</b> object</label>"
            ]
          },
          "metadata": {},
          "execution_count": 30
        }
      ],
      "source": [
        "get_recommendations_new('Dark', cosine_sim2)"
      ]
    },
    {
      "cell_type": "code",
      "execution_count": null,
      "id": "33d4736c",
      "metadata": {
        "execution": {
          "iopub.execute_input": "2022-06-14T16:53:19.377188Z",
          "iopub.status.busy": "2022-06-14T16:53:19.376761Z",
          "iopub.status.idle": "2022-06-14T16:53:19.392100Z",
          "shell.execute_reply": "2022-06-14T16:53:19.391181Z"
        },
        "papermill": {
          "duration": 0.035348,
          "end_time": "2022-06-14T16:53:19.393950",
          "exception": false,
          "start_time": "2022-06-14T16:53:19.358602",
          "status": "completed"
        },
        "tags": [],
        "colab": {
          "base_uri": "https://localhost:8080/",
          "height": 397
        },
        "id": "33d4736c",
        "outputId": "77280226-876e-4e5c-b6e2-3864e2fd9006"
      },
      "outputs": [
        {
          "output_type": "execute_result",
          "data": {
            "text/plain": [
              "3034                    Giri / Haji\n",
              "5032    The Frankenstein Chronicles\n",
              "8431          The Murder Detectives\n",
              "4951                         Loaded\n",
              "4809                  Kiss Me First\n",
              "6922                   Happy Valley\n",
              "2184                       Get Even\n",
              "519                   I AM A KILLER\n",
              "3789                 Killer Ratings\n",
              "4476          Terrorism Close Calls\n",
              "Name: title, dtype: object"
            ],
            "text/html": [
              "<div>\n",
              "<style scoped>\n",
              "    .dataframe tbody tr th:only-of-type {\n",
              "        vertical-align: middle;\n",
              "    }\n",
              "\n",
              "    .dataframe tbody tr th {\n",
              "        vertical-align: top;\n",
              "    }\n",
              "\n",
              "    .dataframe thead th {\n",
              "        text-align: right;\n",
              "    }\n",
              "</style>\n",
              "<table border=\"1\" class=\"dataframe\">\n",
              "  <thead>\n",
              "    <tr style=\"text-align: right;\">\n",
              "      <th></th>\n",
              "      <th>title</th>\n",
              "    </tr>\n",
              "  </thead>\n",
              "  <tbody>\n",
              "    <tr>\n",
              "      <th>3034</th>\n",
              "      <td>Giri / Haji</td>\n",
              "    </tr>\n",
              "    <tr>\n",
              "      <th>5032</th>\n",
              "      <td>The Frankenstein Chronicles</td>\n",
              "    </tr>\n",
              "    <tr>\n",
              "      <th>8431</th>\n",
              "      <td>The Murder Detectives</td>\n",
              "    </tr>\n",
              "    <tr>\n",
              "      <th>4951</th>\n",
              "      <td>Loaded</td>\n",
              "    </tr>\n",
              "    <tr>\n",
              "      <th>4809</th>\n",
              "      <td>Kiss Me First</td>\n",
              "    </tr>\n",
              "    <tr>\n",
              "      <th>6922</th>\n",
              "      <td>Happy Valley</td>\n",
              "    </tr>\n",
              "    <tr>\n",
              "      <th>2184</th>\n",
              "      <td>Get Even</td>\n",
              "    </tr>\n",
              "    <tr>\n",
              "      <th>519</th>\n",
              "      <td>I AM A KILLER</td>\n",
              "    </tr>\n",
              "    <tr>\n",
              "      <th>3789</th>\n",
              "      <td>Killer Ratings</td>\n",
              "    </tr>\n",
              "    <tr>\n",
              "      <th>4476</th>\n",
              "      <td>Terrorism Close Calls</td>\n",
              "    </tr>\n",
              "  </tbody>\n",
              "</table>\n",
              "</div><br><label><b>dtype:</b> object</label>"
            ]
          },
          "metadata": {},
          "execution_count": 31
        }
      ],
      "source": [
        "get_recommendations_new('Peaky Blinders', cosine_sim2)"
      ]
    },
    {
      "cell_type": "code",
      "execution_count": null,
      "id": "d8d62b4f",
      "metadata": {
        "execution": {
          "iopub.execute_input": "2022-06-14T16:53:19.430073Z",
          "iopub.status.busy": "2022-06-14T16:53:19.429711Z",
          "iopub.status.idle": "2022-06-14T16:53:19.443601Z",
          "shell.execute_reply": "2022-06-14T16:53:19.442942Z"
        },
        "papermill": {
          "duration": 0.034158,
          "end_time": "2022-06-14T16:53:19.445315",
          "exception": false,
          "start_time": "2022-06-14T16:53:19.411157",
          "status": "completed"
        },
        "tags": [],
        "colab": {
          "base_uri": "https://localhost:8080/",
          "height": 397
        },
        "id": "d8d62b4f",
        "outputId": "3548b2c9-bea6-41e8-d7e3-6e44c615e895"
      },
      "outputs": [
        {
          "output_type": "execute_result",
          "data": {
            "text/plain": [
              "3045                                       Dracula\n",
              "3551           The Dark Crystal: Age of Resistance\n",
              "4262                                Watership Down\n",
              "1301                               Behind Her Eyes\n",
              "7017    How to Live Mortgage Free with Sarah Beeny\n",
              "2979                                  THE STRANGER\n",
              "5365                                         Vexed\n",
              "69                  Stories by Rabindranath Tagore\n",
              "1056                                Ajaibnya Cinta\n",
              "1603                                  Alien Worlds\n",
              "Name: title, dtype: object"
            ],
            "text/html": [
              "<div>\n",
              "<style scoped>\n",
              "    .dataframe tbody tr th:only-of-type {\n",
              "        vertical-align: middle;\n",
              "    }\n",
              "\n",
              "    .dataframe tbody tr th {\n",
              "        vertical-align: top;\n",
              "    }\n",
              "\n",
              "    .dataframe thead th {\n",
              "        text-align: right;\n",
              "    }\n",
              "</style>\n",
              "<table border=\"1\" class=\"dataframe\">\n",
              "  <thead>\n",
              "    <tr style=\"text-align: right;\">\n",
              "      <th></th>\n",
              "      <th>title</th>\n",
              "    </tr>\n",
              "  </thead>\n",
              "  <tbody>\n",
              "    <tr>\n",
              "      <th>3045</th>\n",
              "      <td>Dracula</td>\n",
              "    </tr>\n",
              "    <tr>\n",
              "      <th>3551</th>\n",
              "      <td>The Dark Crystal: Age of Resistance</td>\n",
              "    </tr>\n",
              "    <tr>\n",
              "      <th>4262</th>\n",
              "      <td>Watership Down</td>\n",
              "    </tr>\n",
              "    <tr>\n",
              "      <th>1301</th>\n",
              "      <td>Behind Her Eyes</td>\n",
              "    </tr>\n",
              "    <tr>\n",
              "      <th>7017</th>\n",
              "      <td>How to Live Mortgage Free with Sarah Beeny</td>\n",
              "    </tr>\n",
              "    <tr>\n",
              "      <th>2979</th>\n",
              "      <td>THE STRANGER</td>\n",
              "    </tr>\n",
              "    <tr>\n",
              "      <th>5365</th>\n",
              "      <td>Vexed</td>\n",
              "    </tr>\n",
              "    <tr>\n",
              "      <th>69</th>\n",
              "      <td>Stories by Rabindranath Tagore</td>\n",
              "    </tr>\n",
              "    <tr>\n",
              "      <th>1056</th>\n",
              "      <td>Ajaibnya Cinta</td>\n",
              "    </tr>\n",
              "    <tr>\n",
              "      <th>1603</th>\n",
              "      <td>Alien Worlds</td>\n",
              "    </tr>\n",
              "  </tbody>\n",
              "</table>\n",
              "</div><br><label><b>dtype:</b> object</label>"
            ]
          },
          "metadata": {},
          "execution_count": 32
        }
      ],
      "source": [
        "get_recommendations_new('Black Mirror', cosine_sim2)"
      ]
    }
  ],
  "metadata": {
    "kernelspec": {
      "display_name": "Python 3",
      "language": "python",
      "name": "python3"
    },
    "language_info": {
      "codemirror_mode": {
        "name": "ipython",
        "version": 3
      },
      "file_extension": ".py",
      "mimetype": "text/x-python",
      "name": "python",
      "nbconvert_exporter": "python",
      "pygments_lexer": "ipython3",
      "version": "3.7.12"
    },
    "papermill": {
      "default_parameters": {},
      "duration": 17.301208,
      "end_time": "2022-06-14T16:53:20.250760",
      "environment_variables": {},
      "exception": null,
      "input_path": "__notebook__.ipynb",
      "output_path": "__notebook__.ipynb",
      "parameters": {},
      "start_time": "2022-06-14T16:53:02.949552",
      "version": "2.3.4"
    },
    "colab": {
      "provenance": []
    }
  },
  "nbformat": 4,
  "nbformat_minor": 5
}