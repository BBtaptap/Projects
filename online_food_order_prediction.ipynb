{
  "cells": [
    {
      "cell_type": "markdown",
      "id": "0133ce81",
      "metadata": {
        "papermill": {
          "duration": 0.011336,
          "end_time": "2022-08-22T09:09:54.911982",
          "exception": false,
          "start_time": "2022-08-22T09:09:54.900646",
          "status": "completed"
        },
        "tags": [],
        "id": "0133ce81"
      },
      "source": [
        "# Online Food Ordering Prediction"
      ]
    },
    {
      "cell_type": "code",
      "execution_count": null,
      "id": "f5de01cb",
      "metadata": {
        "execution": {
          "iopub.execute_input": "2022-08-22T09:09:54.934140Z",
          "iopub.status.busy": "2022-08-22T09:09:54.933660Z",
          "iopub.status.idle": "2022-08-22T09:09:56.716901Z",
          "shell.execute_reply": "2022-08-22T09:09:56.715390Z"
        },
        "papermill": {
          "duration": 1.798046,
          "end_time": "2022-08-22T09:09:56.720069",
          "exception": false,
          "start_time": "2022-08-22T09:09:54.922023",
          "status": "completed"
        },
        "tags": [],
        "id": "f5de01cb"
      },
      "outputs": [],
      "source": [
        "# libraries\n",
        "\n",
        "import numpy as np\n",
        "import warnings\n",
        "import random\n",
        "warnings.filterwarnings('ignore')\n",
        "import pandas as pd\n",
        "import seaborn as sns\n",
        "import matplotlib.pyplot as plt\n",
        "import plotly.graph_objects as go\n",
        "\n",
        "# model\n",
        "from sklearn.metrics import confusion_matrix\n",
        "from sklearn.model_selection import train_test_split,cross_val_score\n",
        "from sklearn.ensemble import RandomForestClassifier\n",
        "\n",
        "# pipeline\n",
        "from sklearn.pipeline import Pipeline, make_pipeline\n",
        "from sklearn.model_selection import GridSearchCV"
      ]
    },
    {
      "cell_type": "markdown",
      "source": [
        "# New section"
      ],
      "metadata": {
        "id": "fI4Qcq0usGos"
      },
      "id": "fI4Qcq0usGos"
    },
    {
      "cell_type": "code",
      "source": [
        "import kagglehub\n",
        "\n",
        "# Download latest version\n",
        "path = kagglehub.dataset_download(\"benroshan/online-food-delivery-preferencesbangalore-region\")\n",
        "\n",
        "print(\"Path to dataset files:\", path)"
      ],
      "metadata": {
        "colab": {
          "base_uri": "https://localhost:8080/"
        },
        "id": "GQb3q3jEhlpy",
        "outputId": "e3dc9d2b-4f90-46f4-b0ba-550b103ac59f"
      },
      "id": "GQb3q3jEhlpy",
      "execution_count": null,
      "outputs": [
        {
          "output_type": "stream",
          "name": "stdout",
          "text": [
            "Warning: Looks like you're using an outdated `kagglehub` version (installed: 0.3.11), please consider upgrading to the latest version (0.3.12).\n",
            "Downloading from https://www.kaggle.com/api/v1/datasets/download/benroshan/online-food-delivery-preferencesbangalore-region?dataset_version_number=3...\n"
          ]
        },
        {
          "output_type": "stream",
          "name": "stderr",
          "text": [
            "100%|██████████| 24.0k/24.0k [00:00<00:00, 10.0MB/s]"
          ]
        },
        {
          "output_type": "stream",
          "name": "stdout",
          "text": [
            "Extracting files...\n",
            "Path to dataset files: /root/.cache/kagglehub/datasets/benroshan/online-food-delivery-preferencesbangalore-region/versions/3\n"
          ]
        },
        {
          "output_type": "stream",
          "name": "stderr",
          "text": [
            "\n"
          ]
        }
      ]
    },
    {
      "cell_type": "code",
      "execution_count": null,
      "id": "bd0bfb7d",
      "metadata": {
        "execution": {
          "iopub.execute_input": "2022-08-22T09:09:56.741116Z",
          "iopub.status.busy": "2022-08-22T09:09:56.740411Z",
          "iopub.status.idle": "2022-08-22T09:09:56.808758Z",
          "shell.execute_reply": "2022-08-22T09:09:56.807420Z"
        },
        "papermill": {
          "duration": 0.082336,
          "end_time": "2022-08-22T09:09:56.811912",
          "exception": false,
          "start_time": "2022-08-22T09:09:56.729576",
          "status": "completed"
        },
        "tags": [],
        "colab": {
          "base_uri": "https://localhost:8080/",
          "height": 481
        },
        "id": "bd0bfb7d",
        "outputId": "45bc620b-95ed-4826-defb-75409ce44270"
      },
      "outputs": [
        {
          "output_type": "execute_result",
          "data": {
            "text/plain": [
              "   Age  Gender Marital Status Occupation  Monthly Income  \\\n",
              "0   20  Female         Single    Student       No Income   \n",
              "1   24  Female         Single    Student  Below Rs.10000   \n",
              "2   22    Male         Single    Student  Below Rs.10000   \n",
              "3   22  Female         Single    Student       No Income   \n",
              "4   22    Male         Single    Student  Below Rs.10000   \n",
              "\n",
              "  Educational Qualifications  Family size  latitude  longitude  Pin code  ...  \\\n",
              "0              Post Graduate            4   12.9766    77.5993    560001  ...   \n",
              "1                   Graduate            3   12.9770    77.5773    560009  ...   \n",
              "2              Post Graduate            3   12.9551    77.6593    560017  ...   \n",
              "3                   Graduate            6   12.9473    77.5616    560019  ...   \n",
              "4              Post Graduate            4   12.9850    77.5533    560010  ...   \n",
              "\n",
              "     Less Delivery time High Quality of package       Number of calls  \\\n",
              "0  Moderately Important    Moderately Important  Moderately Important   \n",
              "1        Very Important          Very Important        Very Important   \n",
              "2             Important          Very Important  Moderately Important   \n",
              "3        Very Important               Important  Moderately Important   \n",
              "4             Important               Important  Moderately Important   \n",
              "\n",
              "             Politeness            Freshness            Temperature  \\\n",
              "0  Moderately Important  Moderately Important  Moderately Important   \n",
              "1        Very Important        Very Important        Very Important   \n",
              "2        Very Important        Very Important             Important   \n",
              "3        Very Important        Very Important        Very Important   \n",
              "4             Important             Important             Important   \n",
              "\n",
              "            Good Taste          Good Quantity Output  \\\n",
              "0  Moderately Important  Moderately Important    Yes   \n",
              "1        Very Important        Very Important    Yes   \n",
              "2        Very Important  Moderately Important    Yes   \n",
              "3        Very Important             Important    Yes   \n",
              "4        Very Important        Very Important    Yes   \n",
              "\n",
              "                                             Reviews  \n",
              "0                                              Nil\\n  \n",
              "1                                                Nil  \n",
              "2  Many a times payment gateways are an issue, so...  \n",
              "3                                                nil  \n",
              "4                                                NIL  \n",
              "\n",
              "[5 rows x 55 columns]"
            ],
            "text/html": [
              "\n",
              "  <div id=\"df-a538a187-4688-4bc6-89d8-83b1db258e34\" class=\"colab-df-container\">\n",
              "    <div>\n",
              "<style scoped>\n",
              "    .dataframe tbody tr th:only-of-type {\n",
              "        vertical-align: middle;\n",
              "    }\n",
              "\n",
              "    .dataframe tbody tr th {\n",
              "        vertical-align: top;\n",
              "    }\n",
              "\n",
              "    .dataframe thead th {\n",
              "        text-align: right;\n",
              "    }\n",
              "</style>\n",
              "<table border=\"1\" class=\"dataframe\">\n",
              "  <thead>\n",
              "    <tr style=\"text-align: right;\">\n",
              "      <th></th>\n",
              "      <th>Age</th>\n",
              "      <th>Gender</th>\n",
              "      <th>Marital Status</th>\n",
              "      <th>Occupation</th>\n",
              "      <th>Monthly Income</th>\n",
              "      <th>Educational Qualifications</th>\n",
              "      <th>Family size</th>\n",
              "      <th>latitude</th>\n",
              "      <th>longitude</th>\n",
              "      <th>Pin code</th>\n",
              "      <th>...</th>\n",
              "      <th>Less Delivery time</th>\n",
              "      <th>High Quality of package</th>\n",
              "      <th>Number of calls</th>\n",
              "      <th>Politeness</th>\n",
              "      <th>Freshness</th>\n",
              "      <th>Temperature</th>\n",
              "      <th>Good Taste</th>\n",
              "      <th>Good Quantity</th>\n",
              "      <th>Output</th>\n",
              "      <th>Reviews</th>\n",
              "    </tr>\n",
              "  </thead>\n",
              "  <tbody>\n",
              "    <tr>\n",
              "      <th>0</th>\n",
              "      <td>20</td>\n",
              "      <td>Female</td>\n",
              "      <td>Single</td>\n",
              "      <td>Student</td>\n",
              "      <td>No Income</td>\n",
              "      <td>Post Graduate</td>\n",
              "      <td>4</td>\n",
              "      <td>12.9766</td>\n",
              "      <td>77.5993</td>\n",
              "      <td>560001</td>\n",
              "      <td>...</td>\n",
              "      <td>Moderately Important</td>\n",
              "      <td>Moderately Important</td>\n",
              "      <td>Moderately Important</td>\n",
              "      <td>Moderately Important</td>\n",
              "      <td>Moderately Important</td>\n",
              "      <td>Moderately Important</td>\n",
              "      <td>Moderately Important</td>\n",
              "      <td>Moderately Important</td>\n",
              "      <td>Yes</td>\n",
              "      <td>Nil\\n</td>\n",
              "    </tr>\n",
              "    <tr>\n",
              "      <th>1</th>\n",
              "      <td>24</td>\n",
              "      <td>Female</td>\n",
              "      <td>Single</td>\n",
              "      <td>Student</td>\n",
              "      <td>Below Rs.10000</td>\n",
              "      <td>Graduate</td>\n",
              "      <td>3</td>\n",
              "      <td>12.9770</td>\n",
              "      <td>77.5773</td>\n",
              "      <td>560009</td>\n",
              "      <td>...</td>\n",
              "      <td>Very Important</td>\n",
              "      <td>Very Important</td>\n",
              "      <td>Very Important</td>\n",
              "      <td>Very Important</td>\n",
              "      <td>Very Important</td>\n",
              "      <td>Very Important</td>\n",
              "      <td>Very Important</td>\n",
              "      <td>Very Important</td>\n",
              "      <td>Yes</td>\n",
              "      <td>Nil</td>\n",
              "    </tr>\n",
              "    <tr>\n",
              "      <th>2</th>\n",
              "      <td>22</td>\n",
              "      <td>Male</td>\n",
              "      <td>Single</td>\n",
              "      <td>Student</td>\n",
              "      <td>Below Rs.10000</td>\n",
              "      <td>Post Graduate</td>\n",
              "      <td>3</td>\n",
              "      <td>12.9551</td>\n",
              "      <td>77.6593</td>\n",
              "      <td>560017</td>\n",
              "      <td>...</td>\n",
              "      <td>Important</td>\n",
              "      <td>Very Important</td>\n",
              "      <td>Moderately Important</td>\n",
              "      <td>Very Important</td>\n",
              "      <td>Very Important</td>\n",
              "      <td>Important</td>\n",
              "      <td>Very Important</td>\n",
              "      <td>Moderately Important</td>\n",
              "      <td>Yes</td>\n",
              "      <td>Many a times payment gateways are an issue, so...</td>\n",
              "    </tr>\n",
              "    <tr>\n",
              "      <th>3</th>\n",
              "      <td>22</td>\n",
              "      <td>Female</td>\n",
              "      <td>Single</td>\n",
              "      <td>Student</td>\n",
              "      <td>No Income</td>\n",
              "      <td>Graduate</td>\n",
              "      <td>6</td>\n",
              "      <td>12.9473</td>\n",
              "      <td>77.5616</td>\n",
              "      <td>560019</td>\n",
              "      <td>...</td>\n",
              "      <td>Very Important</td>\n",
              "      <td>Important</td>\n",
              "      <td>Moderately Important</td>\n",
              "      <td>Very Important</td>\n",
              "      <td>Very Important</td>\n",
              "      <td>Very Important</td>\n",
              "      <td>Very Important</td>\n",
              "      <td>Important</td>\n",
              "      <td>Yes</td>\n",
              "      <td>nil</td>\n",
              "    </tr>\n",
              "    <tr>\n",
              "      <th>4</th>\n",
              "      <td>22</td>\n",
              "      <td>Male</td>\n",
              "      <td>Single</td>\n",
              "      <td>Student</td>\n",
              "      <td>Below Rs.10000</td>\n",
              "      <td>Post Graduate</td>\n",
              "      <td>4</td>\n",
              "      <td>12.9850</td>\n",
              "      <td>77.5533</td>\n",
              "      <td>560010</td>\n",
              "      <td>...</td>\n",
              "      <td>Important</td>\n",
              "      <td>Important</td>\n",
              "      <td>Moderately Important</td>\n",
              "      <td>Important</td>\n",
              "      <td>Important</td>\n",
              "      <td>Important</td>\n",
              "      <td>Very Important</td>\n",
              "      <td>Very Important</td>\n",
              "      <td>Yes</td>\n",
              "      <td>NIL</td>\n",
              "    </tr>\n",
              "  </tbody>\n",
              "</table>\n",
              "<p>5 rows × 55 columns</p>\n",
              "</div>\n",
              "    <div class=\"colab-df-buttons\">\n",
              "\n",
              "  <div class=\"colab-df-container\">\n",
              "    <button class=\"colab-df-convert\" onclick=\"convertToInteractive('df-a538a187-4688-4bc6-89d8-83b1db258e34')\"\n",
              "            title=\"Convert this dataframe to an interactive table.\"\n",
              "            style=\"display:none;\">\n",
              "\n",
              "  <svg xmlns=\"http://www.w3.org/2000/svg\" height=\"24px\" viewBox=\"0 -960 960 960\">\n",
              "    <path d=\"M120-120v-720h720v720H120Zm60-500h600v-160H180v160Zm220 220h160v-160H400v160Zm0 220h160v-160H400v160ZM180-400h160v-160H180v160Zm440 0h160v-160H620v160ZM180-180h160v-160H180v160Zm440 0h160v-160H620v160Z\"/>\n",
              "  </svg>\n",
              "    </button>\n",
              "\n",
              "  <style>\n",
              "    .colab-df-container {\n",
              "      display:flex;\n",
              "      gap: 12px;\n",
              "    }\n",
              "\n",
              "    .colab-df-convert {\n",
              "      background-color: #E8F0FE;\n",
              "      border: none;\n",
              "      border-radius: 50%;\n",
              "      cursor: pointer;\n",
              "      display: none;\n",
              "      fill: #1967D2;\n",
              "      height: 32px;\n",
              "      padding: 0 0 0 0;\n",
              "      width: 32px;\n",
              "    }\n",
              "\n",
              "    .colab-df-convert:hover {\n",
              "      background-color: #E2EBFA;\n",
              "      box-shadow: 0px 1px 2px rgba(60, 64, 67, 0.3), 0px 1px 3px 1px rgba(60, 64, 67, 0.15);\n",
              "      fill: #174EA6;\n",
              "    }\n",
              "\n",
              "    .colab-df-buttons div {\n",
              "      margin-bottom: 4px;\n",
              "    }\n",
              "\n",
              "    [theme=dark] .colab-df-convert {\n",
              "      background-color: #3B4455;\n",
              "      fill: #D2E3FC;\n",
              "    }\n",
              "\n",
              "    [theme=dark] .colab-df-convert:hover {\n",
              "      background-color: #434B5C;\n",
              "      box-shadow: 0px 1px 3px 1px rgba(0, 0, 0, 0.15);\n",
              "      filter: drop-shadow(0px 1px 2px rgba(0, 0, 0, 0.3));\n",
              "      fill: #FFFFFF;\n",
              "    }\n",
              "  </style>\n",
              "\n",
              "    <script>\n",
              "      const buttonEl =\n",
              "        document.querySelector('#df-a538a187-4688-4bc6-89d8-83b1db258e34 button.colab-df-convert');\n",
              "      buttonEl.style.display =\n",
              "        google.colab.kernel.accessAllowed ? 'block' : 'none';\n",
              "\n",
              "      async function convertToInteractive(key) {\n",
              "        const element = document.querySelector('#df-a538a187-4688-4bc6-89d8-83b1db258e34');\n",
              "        const dataTable =\n",
              "          await google.colab.kernel.invokeFunction('convertToInteractive',\n",
              "                                                    [key], {});\n",
              "        if (!dataTable) return;\n",
              "\n",
              "        const docLinkHtml = 'Like what you see? Visit the ' +\n",
              "          '<a target=\"_blank\" href=https://colab.research.google.com/notebooks/data_table.ipynb>data table notebook</a>'\n",
              "          + ' to learn more about interactive tables.';\n",
              "        element.innerHTML = '';\n",
              "        dataTable['output_type'] = 'display_data';\n",
              "        await google.colab.output.renderOutput(dataTable, element);\n",
              "        const docLink = document.createElement('div');\n",
              "        docLink.innerHTML = docLinkHtml;\n",
              "        element.appendChild(docLink);\n",
              "      }\n",
              "    </script>\n",
              "  </div>\n",
              "\n",
              "\n",
              "<div id=\"df-d3ed44d6-89bf-4dfe-88a4-217435833364\">\n",
              "  <button class=\"colab-df-quickchart\" onclick=\"quickchart('df-d3ed44d6-89bf-4dfe-88a4-217435833364')\"\n",
              "            title=\"Suggest charts\"\n",
              "            style=\"display:none;\">\n",
              "\n",
              "<svg xmlns=\"http://www.w3.org/2000/svg\" height=\"24px\"viewBox=\"0 0 24 24\"\n",
              "     width=\"24px\">\n",
              "    <g>\n",
              "        <path d=\"M19 3H5c-1.1 0-2 .9-2 2v14c0 1.1.9 2 2 2h14c1.1 0 2-.9 2-2V5c0-1.1-.9-2-2-2zM9 17H7v-7h2v7zm4 0h-2V7h2v10zm4 0h-2v-4h2v4z\"/>\n",
              "    </g>\n",
              "</svg>\n",
              "  </button>\n",
              "\n",
              "<style>\n",
              "  .colab-df-quickchart {\n",
              "      --bg-color: #E8F0FE;\n",
              "      --fill-color: #1967D2;\n",
              "      --hover-bg-color: #E2EBFA;\n",
              "      --hover-fill-color: #174EA6;\n",
              "      --disabled-fill-color: #AAA;\n",
              "      --disabled-bg-color: #DDD;\n",
              "  }\n",
              "\n",
              "  [theme=dark] .colab-df-quickchart {\n",
              "      --bg-color: #3B4455;\n",
              "      --fill-color: #D2E3FC;\n",
              "      --hover-bg-color: #434B5C;\n",
              "      --hover-fill-color: #FFFFFF;\n",
              "      --disabled-bg-color: #3B4455;\n",
              "      --disabled-fill-color: #666;\n",
              "  }\n",
              "\n",
              "  .colab-df-quickchart {\n",
              "    background-color: var(--bg-color);\n",
              "    border: none;\n",
              "    border-radius: 50%;\n",
              "    cursor: pointer;\n",
              "    display: none;\n",
              "    fill: var(--fill-color);\n",
              "    height: 32px;\n",
              "    padding: 0;\n",
              "    width: 32px;\n",
              "  }\n",
              "\n",
              "  .colab-df-quickchart:hover {\n",
              "    background-color: var(--hover-bg-color);\n",
              "    box-shadow: 0 1px 2px rgba(60, 64, 67, 0.3), 0 1px 3px 1px rgba(60, 64, 67, 0.15);\n",
              "    fill: var(--button-hover-fill-color);\n",
              "  }\n",
              "\n",
              "  .colab-df-quickchart-complete:disabled,\n",
              "  .colab-df-quickchart-complete:disabled:hover {\n",
              "    background-color: var(--disabled-bg-color);\n",
              "    fill: var(--disabled-fill-color);\n",
              "    box-shadow: none;\n",
              "  }\n",
              "\n",
              "  .colab-df-spinner {\n",
              "    border: 2px solid var(--fill-color);\n",
              "    border-color: transparent;\n",
              "    border-bottom-color: var(--fill-color);\n",
              "    animation:\n",
              "      spin 1s steps(1) infinite;\n",
              "  }\n",
              "\n",
              "  @keyframes spin {\n",
              "    0% {\n",
              "      border-color: transparent;\n",
              "      border-bottom-color: var(--fill-color);\n",
              "      border-left-color: var(--fill-color);\n",
              "    }\n",
              "    20% {\n",
              "      border-color: transparent;\n",
              "      border-left-color: var(--fill-color);\n",
              "      border-top-color: var(--fill-color);\n",
              "    }\n",
              "    30% {\n",
              "      border-color: transparent;\n",
              "      border-left-color: var(--fill-color);\n",
              "      border-top-color: var(--fill-color);\n",
              "      border-right-color: var(--fill-color);\n",
              "    }\n",
              "    40% {\n",
              "      border-color: transparent;\n",
              "      border-right-color: var(--fill-color);\n",
              "      border-top-color: var(--fill-color);\n",
              "    }\n",
              "    60% {\n",
              "      border-color: transparent;\n",
              "      border-right-color: var(--fill-color);\n",
              "    }\n",
              "    80% {\n",
              "      border-color: transparent;\n",
              "      border-right-color: var(--fill-color);\n",
              "      border-bottom-color: var(--fill-color);\n",
              "    }\n",
              "    90% {\n",
              "      border-color: transparent;\n",
              "      border-bottom-color: var(--fill-color);\n",
              "    }\n",
              "  }\n",
              "</style>\n",
              "\n",
              "  <script>\n",
              "    async function quickchart(key) {\n",
              "      const quickchartButtonEl =\n",
              "        document.querySelector('#' + key + ' button');\n",
              "      quickchartButtonEl.disabled = true;  // To prevent multiple clicks.\n",
              "      quickchartButtonEl.classList.add('colab-df-spinner');\n",
              "      try {\n",
              "        const charts = await google.colab.kernel.invokeFunction(\n",
              "            'suggestCharts', [key], {});\n",
              "      } catch (error) {\n",
              "        console.error('Error during call to suggestCharts:', error);\n",
              "      }\n",
              "      quickchartButtonEl.classList.remove('colab-df-spinner');\n",
              "      quickchartButtonEl.classList.add('colab-df-quickchart-complete');\n",
              "    }\n",
              "    (() => {\n",
              "      let quickchartButtonEl =\n",
              "        document.querySelector('#df-d3ed44d6-89bf-4dfe-88a4-217435833364 button');\n",
              "      quickchartButtonEl.style.display =\n",
              "        google.colab.kernel.accessAllowed ? 'block' : 'none';\n",
              "    })();\n",
              "  </script>\n",
              "</div>\n",
              "\n",
              "    </div>\n",
              "  </div>\n"
            ],
            "application/vnd.google.colaboratory.intrinsic+json": {
              "type": "dataframe",
              "variable_name": "data"
            }
          },
          "metadata": {},
          "execution_count": 4
        }
      ],
      "source": [
        "data = pd.read_csv(\"/root/.cache/kagglehub/datasets/benroshan/online-food-delivery-preferencesbangalore-region/versions/3/onlinedeliverydata.csv\")\n",
        "data.head()"
      ]
    },
    {
      "cell_type": "markdown",
      "id": "4808f282",
      "metadata": {
        "papermill": {
          "duration": 0.009911,
          "end_time": "2022-08-22T09:09:56.832027",
          "exception": false,
          "start_time": "2022-08-22T09:09:56.822116",
          "status": "completed"
        },
        "tags": [],
        "id": "4808f282"
      },
      "source": [
        "I won't use all the features.The dataset I'll use contains these information:\n",
        "\n",
        "- the age of the client\n",
        "- marital status of the client\n",
        "- occupation of the client\n",
        "- monthly income of the client\n",
        "- educational qualification of the client\n",
        "- family size of the client\n",
        "- latitude and longitude of the location of the client\n",
        "- pin code of the residence of the client\n",
        "- did the client order again (Output)\n",
        "- remarks on the most recent order (Positive or Negative)"
      ]
    },
    {
      "cell_type": "code",
      "execution_count": null,
      "id": "5d46f889",
      "metadata": {
        "execution": {
          "iopub.execute_input": "2022-08-22T09:09:56.855230Z",
          "iopub.status.busy": "2022-08-22T09:09:56.854832Z",
          "iopub.status.idle": "2022-08-22T09:09:56.884314Z",
          "shell.execute_reply": "2022-08-22T09:09:56.882959Z"
        },
        "papermill": {
          "duration": 0.044671,
          "end_time": "2022-08-22T09:09:56.888119",
          "exception": false,
          "start_time": "2022-08-22T09:09:56.843448",
          "status": "completed"
        },
        "tags": [],
        "colab": {
          "base_uri": "https://localhost:8080/"
        },
        "id": "5d46f889",
        "outputId": "4a90991b-f3b9-4f50-d91a-0ad9424f1d35"
      },
      "outputs": [
        {
          "output_type": "stream",
          "name": "stdout",
          "text": [
            "<class 'pandas.core.frame.DataFrame'>\n",
            "RangeIndex: 388 entries, 0 to 387\n",
            "Data columns (total 11 columns):\n",
            " #   Column                      Non-Null Count  Dtype  \n",
            "---  ------                      --------------  -----  \n",
            " 0   Age                         388 non-null    int64  \n",
            " 1   Gender                      388 non-null    object \n",
            " 2   Marital Status              388 non-null    object \n",
            " 3   Occupation                  388 non-null    object \n",
            " 4   Monthly Income              388 non-null    object \n",
            " 5   Educational Qualifications  388 non-null    object \n",
            " 6   Family size                 388 non-null    int64  \n",
            " 7   latitude                    388 non-null    float64\n",
            " 8   longitude                   388 non-null    float64\n",
            " 9   Pin code                    388 non-null    int64  \n",
            " 10  Output                      388 non-null    object \n",
            "dtypes: float64(2), int64(3), object(6)\n",
            "memory usage: 33.5+ KB\n"
          ]
        }
      ],
      "source": [
        "data = data[[\"Age\",\"Gender\", \"Marital Status\",\"Occupation\", \"Monthly Income\", \"Educational Qualifications\",\n",
        "             \"Family size\",\"latitude\", \"longitude\", \"Pin code\",\"Output\"]].copy()\n",
        "data.info()"
      ]
    },
    {
      "cell_type": "code",
      "execution_count": null,
      "id": "78481f41",
      "metadata": {
        "execution": {
          "iopub.execute_input": "2022-08-22T09:09:56.912840Z",
          "iopub.status.busy": "2022-08-22T09:09:56.912392Z",
          "iopub.status.idle": "2022-08-22T09:09:56.922148Z",
          "shell.execute_reply": "2022-08-22T09:09:56.921099Z"
        },
        "papermill": {
          "duration": 0.025125,
          "end_time": "2022-08-22T09:09:56.924365",
          "exception": false,
          "start_time": "2022-08-22T09:09:56.899240",
          "status": "completed"
        },
        "tags": [],
        "id": "78481f41",
        "outputId": "a756241d-2aec-4129-fde3-931f038de8ba",
        "colab": {
          "base_uri": "https://localhost:8080/",
          "height": 429
        }
      },
      "outputs": [
        {
          "output_type": "execute_result",
          "data": {
            "text/plain": [
              "Age                           0\n",
              "Gender                        0\n",
              "Marital Status                0\n",
              "Occupation                    0\n",
              "Monthly Income                0\n",
              "Educational Qualifications    0\n",
              "Family size                   0\n",
              "latitude                      0\n",
              "longitude                     0\n",
              "Pin code                      0\n",
              "Output                        0\n",
              "dtype: int64"
            ],
            "text/html": [
              "<div>\n",
              "<style scoped>\n",
              "    .dataframe tbody tr th:only-of-type {\n",
              "        vertical-align: middle;\n",
              "    }\n",
              "\n",
              "    .dataframe tbody tr th {\n",
              "        vertical-align: top;\n",
              "    }\n",
              "\n",
              "    .dataframe thead th {\n",
              "        text-align: right;\n",
              "    }\n",
              "</style>\n",
              "<table border=\"1\" class=\"dataframe\">\n",
              "  <thead>\n",
              "    <tr style=\"text-align: right;\">\n",
              "      <th></th>\n",
              "      <th>0</th>\n",
              "    </tr>\n",
              "  </thead>\n",
              "  <tbody>\n",
              "    <tr>\n",
              "      <th>Age</th>\n",
              "      <td>0</td>\n",
              "    </tr>\n",
              "    <tr>\n",
              "      <th>Gender</th>\n",
              "      <td>0</td>\n",
              "    </tr>\n",
              "    <tr>\n",
              "      <th>Marital Status</th>\n",
              "      <td>0</td>\n",
              "    </tr>\n",
              "    <tr>\n",
              "      <th>Occupation</th>\n",
              "      <td>0</td>\n",
              "    </tr>\n",
              "    <tr>\n",
              "      <th>Monthly Income</th>\n",
              "      <td>0</td>\n",
              "    </tr>\n",
              "    <tr>\n",
              "      <th>Educational Qualifications</th>\n",
              "      <td>0</td>\n",
              "    </tr>\n",
              "    <tr>\n",
              "      <th>Family size</th>\n",
              "      <td>0</td>\n",
              "    </tr>\n",
              "    <tr>\n",
              "      <th>latitude</th>\n",
              "      <td>0</td>\n",
              "    </tr>\n",
              "    <tr>\n",
              "      <th>longitude</th>\n",
              "      <td>0</td>\n",
              "    </tr>\n",
              "    <tr>\n",
              "      <th>Pin code</th>\n",
              "      <td>0</td>\n",
              "    </tr>\n",
              "    <tr>\n",
              "      <th>Output</th>\n",
              "      <td>0</td>\n",
              "    </tr>\n",
              "  </tbody>\n",
              "</table>\n",
              "</div><br><label><b>dtype:</b> int64</label>"
            ]
          },
          "metadata": {},
          "execution_count": 6
        }
      ],
      "source": [
        "data.isnull().sum() # no empty values"
      ]
    },
    {
      "cell_type": "markdown",
      "id": "5a721e20",
      "metadata": {
        "papermill": {
          "duration": 0.009897,
          "end_time": "2022-08-22T09:09:56.944513",
          "exception": false,
          "start_time": "2022-08-22T09:09:56.934616",
          "status": "completed"
        },
        "tags": [],
        "id": "5a721e20"
      },
      "source": [
        "# Data Analysis with Visualization"
      ]
    },
    {
      "cell_type": "code",
      "execution_count": null,
      "id": "19ee4c88",
      "metadata": {
        "execution": {
          "iopub.execute_input": "2022-08-22T09:09:56.966667Z",
          "iopub.status.busy": "2022-08-22T09:09:56.966272Z",
          "iopub.status.idle": "2022-08-22T09:09:57.370518Z",
          "shell.execute_reply": "2022-08-22T09:09:57.369057Z"
        },
        "papermill": {
          "duration": 0.418482,
          "end_time": "2022-08-22T09:09:57.373105",
          "exception": false,
          "start_time": "2022-08-22T09:09:56.954623",
          "status": "completed"
        },
        "tags": [],
        "id": "19ee4c88",
        "outputId": "5aeacf6e-17f5-423b-ae2a-e5d593fcebf8",
        "colab": {
          "base_uri": "https://localhost:8080/",
          "height": 718
        }
      },
      "outputs": [
        {
          "output_type": "display_data",
          "data": {
            "text/plain": [
              "<Figure size 1000x800 with 1 Axes>"
            ],
            "image/png": "[encoded data removed]"
          },
          "metadata": {}
        }
      ],
      "source": [
        "plt.figure(figsize=(10,8))\n",
        "plt.title(\"Online Food Order Decisions Based on the Age of the Customer\")\n",
        "sns.countplot(x='Age',data=data,hue='Output',palette=\"Set3\");"
      ]
    },
    {
      "cell_type": "markdown",
      "id": "7dadf0a2",
      "metadata": {
        "papermill": {
          "duration": 0.010161,
          "end_time": "2022-08-22T09:09:57.393804",
          "exception": false,
          "start_time": "2022-08-22T09:09:57.383643",
          "status": "completed"
        },
        "tags": [],
        "id": "7dadf0a2"
      },
      "source": [
        "While the <b>Output</b> is '*Yes*' in the 22-25 age range, the <b>Output</b> is mostly '*No*' for 29-year-old users. This indicates that online food delivery companies specifically target these age groups(22-25 age range)."
      ]
    },
    {
      "cell_type": "code",
      "execution_count": null,
      "id": "43994dc0",
      "metadata": {
        "execution": {
          "iopub.execute_input": "2022-08-22T09:09:57.416431Z",
          "iopub.status.busy": "2022-08-22T09:09:57.416042Z",
          "iopub.status.idle": "2022-08-22T09:09:57.670827Z",
          "shell.execute_reply": "2022-08-22T09:09:57.669835Z"
        },
        "papermill": {
          "duration": 0.269344,
          "end_time": "2022-08-22T09:09:57.673568",
          "exception": false,
          "start_time": "2022-08-22T09:09:57.404224",
          "status": "completed"
        },
        "tags": [],
        "id": "43994dc0",
        "outputId": "6434e524-9673-4c43-9cd1-3ec3e75977c2",
        "colab": {
          "base_uri": "https://localhost:8080/",
          "height": 718
        }
      },
      "outputs": [
        {
          "output_type": "display_data",
          "data": {
            "text/plain": [
              "<Figure size 1000x800 with 1 Axes>"
            ],
            "image/png": "[encoded data removed]"
          },
          "metadata": {}
        }
      ],
      "source": [
        "plt.figure(figsize=(10,8))\n",
        "plt.title(\"Online Food Order Decisions Based on the Size of the Family\")\n",
        "sns.countplot(x='Family size',data=data,hue='Output',palette=\"Set3_r\");"
      ]
    },
    {
      "cell_type": "markdown",
      "id": "a05de310",
      "metadata": {
        "papermill": {
          "duration": 0.01067,
          "end_time": "2022-08-22T09:09:57.695635",
          "exception": false,
          "start_time": "2022-08-22T09:09:57.684965",
          "status": "completed"
        },
        "tags": [],
        "id": "a05de310"
      },
      "source": [
        "Families of 2-3 people order more food. These families can also be groups of friends."
      ]
    },
    {
      "cell_type": "code",
      "execution_count": null,
      "id": "24b2f588",
      "metadata": {
        "execution": {
          "iopub.execute_input": "2022-08-22T09:09:57.720009Z",
          "iopub.status.busy": "2022-08-22T09:09:57.718998Z",
          "iopub.status.idle": "2022-08-22T09:09:57.990038Z",
          "shell.execute_reply": "2022-08-22T09:09:57.988789Z"
        },
        "papermill": {
          "duration": 0.286589,
          "end_time": "2022-08-22T09:09:57.992995",
          "exception": false,
          "start_time": "2022-08-22T09:09:57.706406",
          "status": "completed"
        },
        "tags": [],
        "id": "24b2f588",
        "outputId": "920016cd-c600-4c7f-9f26-01f3c9198bf4",
        "colab": {
          "base_uri": "https://localhost:8080/",
          "height": 718
        }
      },
      "outputs": [
        {
          "output_type": "display_data",
          "data": {
            "text/plain": [
              "<Figure size 1000x800 with 1 Axes>"
            ],
            "image/png": "[encoded data removed]"
          },
          "metadata": {}
        }
      ],
      "source": [
        "plt.figure(figsize=(10,8))\n",
        "plt.title(\"Online Food Order Decisions Based on the Educational Qualifications of the Customer\")\n",
        "sns.countplot(x='Educational Qualifications',data=data,hue='Output',palette=\"Set2\");"
      ]
    },
    {
      "cell_type": "code",
      "execution_count": null,
      "id": "ed7c5e7e",
      "metadata": {
        "execution": {
          "iopub.execute_input": "2022-08-22T09:09:58.018694Z",
          "iopub.status.busy": "2022-08-22T09:09:58.017497Z",
          "iopub.status.idle": "2022-08-22T09:09:58.333126Z",
          "shell.execute_reply": "2022-08-22T09:09:58.331958Z"
        },
        "papermill": {
          "duration": 0.331067,
          "end_time": "2022-08-22T09:09:58.335758",
          "exception": false,
          "start_time": "2022-08-22T09:09:58.004691",
          "status": "completed"
        },
        "tags": [],
        "id": "ed7c5e7e",
        "outputId": "36cd824b-093d-43ac-ae9c-1cfc30438072",
        "colab": {
          "base_uri": "https://localhost:8080/",
          "height": 718
        }
      },
      "outputs": [
        {
          "output_type": "display_data",
          "data": {
            "text/plain": [
              "<Figure size 1000x800 with 1 Axes>"
            ],
            "image/png": "[encoded data removed]"
          },
          "metadata": {}
        }
      ],
      "source": [
        "plt.figure(figsize=(10,8))\n",
        "plt.title(\"Online Food Order Decisions Based on the Educational Qualifications by the Occupation of the Customer\")\n",
        "sns.countplot(x='Educational Qualifications',data=data,hue='Occupation',palette=\"Set2_r\");"
      ]
    },
    {
      "cell_type": "markdown",
      "id": "8b21a15e",
      "metadata": {
        "papermill": {
          "duration": 0.011786,
          "end_time": "2022-08-22T09:09:58.359181",
          "exception": false,
          "start_time": "2022-08-22T09:09:58.347395",
          "status": "completed"
        },
        "tags": [],
        "id": "8b21a15e"
      },
      "source": [
        "The vast majority of students who place orders are pursuing a master's degree. The majority of graduates are either students or employees. In this case, the first priority of companies should be students."
      ]
    },
    {
      "cell_type": "code",
      "execution_count": null,
      "id": "35919436",
      "metadata": {
        "execution": {
          "iopub.execute_input": "2022-08-22T09:09:58.385008Z",
          "iopub.status.busy": "2022-08-22T09:09:58.383831Z",
          "iopub.status.idle": "2022-08-22T09:09:58.534921Z",
          "shell.execute_reply": "2022-08-22T09:09:58.533435Z"
        },
        "papermill": {
          "duration": 0.168986,
          "end_time": "2022-08-22T09:09:58.539708",
          "exception": false,
          "start_time": "2022-08-22T09:09:58.370722",
          "status": "completed"
        },
        "tags": [],
        "id": "35919436",
        "outputId": "ae09eb32-60f5-478b-ac37-80b53184721c",
        "colab": {
          "base_uri": "https://localhost:8080/",
          "height": 675
        }
      },
      "outputs": [
        {
          "output_type": "display_data",
          "data": {
            "text/plain": [
              "<Figure size 1000x800 with 1 Axes>"
            ],
            "image/png": "[encoded data removed]"
          },
          "metadata": {}
        }
      ],
      "source": [
        "female = len(data[data[\"Gender\"] == 'Female'])\n",
        "male = len(data[data[\"Gender\"] == 'Male'])\n",
        "data_gender = [female,male]\n",
        "labels = ['Female', 'Male']\n",
        "\n",
        "colors = sns.color_palette('pastel')[0:5] # seaborn color palette to use\n",
        "\n",
        "plt.figure(figsize=(10,8))\n",
        "plt.title(\"Distribution of Customer's Gender\")\n",
        "plt.pie(data_gender, labels = labels, colors = colors, autopct='%.0f%%')\n",
        "plt.show()"
      ]
    },
    {
      "cell_type": "markdown",
      "id": "4da48c3a",
      "metadata": {
        "papermill": {
          "duration": 0.019703,
          "end_time": "2022-08-22T09:09:58.590779",
          "exception": false,
          "start_time": "2022-08-22T09:09:58.571076",
          "status": "completed"
        },
        "tags": [],
        "id": "4da48c3a"
      },
      "source": [
        "The number of male customer in the data is slightly higher than the number of female customer. Let's look at the distribution of occupation and gender and reordering by gender."
      ]
    },
    {
      "cell_type": "code",
      "execution_count": null,
      "id": "fa905204",
      "metadata": {
        "execution": {
          "iopub.execute_input": "2022-08-22T09:09:58.617833Z",
          "iopub.status.busy": "2022-08-22T09:09:58.616984Z",
          "iopub.status.idle": "2022-08-22T09:09:58.869907Z",
          "shell.execute_reply": "2022-08-22T09:09:58.868589Z"
        },
        "papermill": {
          "duration": 0.269206,
          "end_time": "2022-08-22T09:09:58.872616",
          "exception": false,
          "start_time": "2022-08-22T09:09:58.603410",
          "status": "completed"
        },
        "tags": [],
        "id": "fa905204",
        "outputId": "5792ed21-da43-4a51-b7f0-2aff452bf887",
        "colab": {
          "base_uri": "https://localhost:8080/",
          "height": 718
        }
      },
      "outputs": [
        {
          "output_type": "display_data",
          "data": {
            "text/plain": [
              "<Figure size 1000x800 with 1 Axes>"
            ],
            "image/png": "[encoded data removed]"
          },
          "metadata": {}
        }
      ],
      "source": [
        "plt.figure(figsize=(10,8))\n",
        "plt.title(\"Educational Qualifications Based on the Gender of the Customer\")\n",
        "sns.countplot(x='Occupation',data=data,hue='Gender',palette=\"Pastel2\");"
      ]
    },
    {
      "cell_type": "markdown",
      "id": "ea6a7848",
      "metadata": {
        "papermill": {
          "duration": 0.01204,
          "end_time": "2022-08-22T09:09:58.897303",
          "exception": false,
          "start_time": "2022-08-22T09:09:58.885263",
          "status": "completed"
        },
        "tags": [],
        "id": "ea6a7848"
      },
      "source": [
        "The number of male students is higher than the number of female students. There may be many reasons for this. The main reason may be gender roles supported by social norms."
      ]
    },
    {
      "cell_type": "markdown",
      "id": "c8f54fbc",
      "metadata": {
        "papermill": {
          "duration": 0.012029,
          "end_time": "2022-08-22T09:09:58.921732",
          "exception": false,
          "start_time": "2022-08-22T09:09:58.909703",
          "status": "completed"
        },
        "tags": [],
        "id": "c8f54fbc"
      },
      "source": [
        "#### Which gender is most like to order again ?"
      ]
    },
    {
      "cell_type": "code",
      "execution_count": null,
      "id": "a015c337",
      "metadata": {
        "execution": {
          "iopub.execute_input": "2022-08-22T09:09:58.949905Z",
          "iopub.status.busy": "2022-08-22T09:09:58.949031Z",
          "iopub.status.idle": "2022-08-22T09:09:59.108607Z",
          "shell.execute_reply": "2022-08-22T09:09:59.107238Z"
        },
        "papermill": {
          "duration": 0.177555,
          "end_time": "2022-08-22T09:09:59.111523",
          "exception": false,
          "start_time": "2022-08-22T09:09:58.933968",
          "status": "completed"
        },
        "tags": [],
        "id": "a015c337",
        "outputId": "b84e82c0-fb10-4f61-a865-0c3cf9d63c27",
        "colab": {
          "base_uri": "https://localhost:8080/",
          "height": 542
        }
      },
      "outputs": [
        {
          "output_type": "display_data",
          "data": {
            "text/html": [
              "<html>\n",
              "<head><meta charset=\"utf-8\" /></head>\n",
              "<body>\n",
              "    <div>            <script src=\"https://cdnjs.cloudflare.com/ajax/libs/mathjax/2.7.5/MathJax.js?config=TeX-AMS-MML_SVG\"></script><script type=\"text/javascript\">if (window.MathJax && window.MathJax.Hub && window.MathJax.Hub.Config) {window.MathJax.Hub.Config({SVG: {font: \"STIX-Web\"}});}</script>                <script type=\"text/javascript\">window.PlotlyConfig = {MathJaxConfig: 'local'};</script>\n",
              "        <script charset=\"utf-8\" src=\"https://cdn.plot.ly/plotly-2.35.2.min.js\"></script>                <div id=\"6754f615-68ed-4c83-a772-5ba1d9e598cf\" class=\"plotly-graph-div\" style=\"height:525px; width:100%;\"></div>            <script type=\"text/javascript\">                                    window.PLOTLYENV=window.PLOTLYENV || {};                                    if (document.getElementById(\"6754f615-68ed-4c83-a772-5ba1d9e598cf\")) {                    Plotly.newPlot(                        \"6754f615-68ed-4c83-a772-5ba1d9e598cf\",                        [{\"labels\":[\"Male\",\"Female\"],\"values\":[175,126],\"type\":\"pie\",\"marker\":{\"colors\":[[0.5529411764705883,0.8980392156862745,0.6313725490196078],[1.0,0.6235294117647059,0.6078431372549019]]},\"hoverinfo\":\"label+percent\",\"textinfo\":\"value\"}],                        {\"template\":{\"data\":{\"histogram2dcontour\":[{\"type\":\"histogram2dcontour\",\"colorbar\":{\"outlinewidth\":0,\"ticks\":\"\"},\"colorscale\":[[0.0,\"#0d0887\"],[0.1111111111111111,\"#46039f\"],[0.2222222222222222,\"#7201a8\"],[0.3333333333333333,\"#9c179e\"],[0.4444444444444444,\"#bd3786\"],[0.5555555555555556,\"#d8576b\"],[0.6666666666666666,\"#ed7953\"],[0.7777777777777778,\"#fb9f3a\"],[0.8888888888888888,\"#fdca26\"],[1.0,\"#f0f921\"]]}],\"choropleth\":[{\"type\":\"choropleth\",\"colorbar\":{\"outlinewidth\":0,\"ticks\":\"\"}}],\"histogram2d\":[{\"type\":\"histogram2d\",\"colorbar\":{\"outlinewidth\":0,\"ticks\":\"\"},\"colorscale\":[[0.0,\"#0d0887\"],[0.1111111111111111,\"#46039f\"],[0.2222222222222222,\"#7201a8\"],[0.3333333333333333,\"#9c179e\"],[0.4444444444444444,\"#bd3786\"],[0.5555555555555556,\"#d8576b\"],[0.6666666666666666,\"#ed7953\"],[0.7777777777777778,\"#fb9f3a\"],[0.8888888888888888,\"#fdca26\"],[1.0,\"#f0f921\"]]}],\"heatmap\":[{\"type\":\"heatmap\",\"colorbar\":{\"outlinewidth\":0,\"ticks\":\"\"},\"colorscale\":[[0.0,\"#0d0887\"],[0.1111111111111111,\"#46039f\"],[0.2222222222222222,\"#7201a8\"],[0.3333333333333333,\"#9c179e\"],[0.4444444444444444,\"#bd3786\"],[0.5555555555555556,\"#d8576b\"],[0.6666666666666666,\"#ed7953\"],[0.7777777777777778,\"#fb9f3a\"],[0.8888888888888888,\"#fdca26\"],[1.0,\"#f0f921\"]]}],\"heatmapgl\":[{\"type\":\"heatmapgl\",\"colorbar\":{\"outlinewidth\":0,\"ticks\":\"\"},\"colorscale\":[[0.0,\"#0d0887\"],[0.1111111111111111,\"#46039f\"],[0.2222222222222222,\"#7201a8\"],[0.3333333333333333,\"#9c179e\"],[0.4444444444444444,\"#bd3786\"],[0.5555555555555556,\"#d8576b\"],[0.6666666666666666,\"#ed7953\"],[0.7777777777777778,\"#fb9f3a\"],[0.8888888888888888,\"#fdca26\"],[1.0,\"#f0f921\"]]}],\"contourcarpet\":[{\"type\":\"contourcarpet\",\"colorbar\":{\"outlinewidth\":0,\"ticks\":\"\"}}],\"contour\":[{\"type\":\"contour\",\"colorbar\":{\"outlinewidth\":0,\"ticks\":\"\"},\"colorscale\":[[0.0,\"#0d0887\"],[0.1111111111111111,\"#46039f\"],[0.2222222222222222,\"#7201a8\"],[0.3333333333333333,\"#9c179e\"],[0.4444444444444444,\"#bd3786\"],[0.5555555555555556,\"#d8576b\"],[0.6666666666666666,\"#ed7953\"],[0.7777777777777778,\"#fb9f3a\"],[0.8888888888888888,\"#fdca26\"],[1.0,\"#f0f921\"]]}],\"surface\":[{\"type\":\"surface\",\"colorbar\":{\"outlinewidth\":0,\"ticks\":\"\"},\"colorscale\":[[0.0,\"#0d0887\"],[0.1111111111111111,\"#46039f\"],[0.2222222222222222,\"#7201a8\"],[0.3333333333333333,\"#9c179e\"],[0.4444444444444444,\"#bd3786\"],[0.5555555555555556,\"#d8576b\"],[0.6666666666666666,\"#ed7953\"],[0.7777777777777778,\"#fb9f3a\"],[0.8888888888888888,\"#fdca26\"],[1.0,\"#f0f921\"]]}],\"mesh3d\":[{\"type\":\"mesh3d\",\"colorbar\":{\"outlinewidth\":0,\"ticks\":\"\"}}],\"scatter\":[{\"fillpattern\":{\"fillmode\":\"overlay\",\"size\":10,\"solidity\":0.2},\"type\":\"scatter\"}],\"parcoords\":[{\"type\":\"parcoords\",\"line\":{\"colorbar\":{\"outlinewidth\":0,\"ticks\":\"\"}}}],\"scatterpolargl\":[{\"type\":\"scatterpolargl\",\"marker\":{\"colorbar\":{\"outlinewidth\":0,\"ticks\":\"\"}}}],\"bar\":[{\"error_x\":{\"color\":\"#2a3f5f\"},\"error_y\":{\"color\":\"#2a3f5f\"},\"marker\":{\"line\":{\"color\":\"#E5ECF6\",\"width\":0.5},\"pattern\":{\"fillmode\":\"overlay\",\"size\":10,\"solidity\":0.2}},\"type\":\"bar\"}],\"scattergeo\":[{\"type\":\"scattergeo\",\"marker\":{\"colorbar\":{\"outlinewidth\":0,\"ticks\":\"\"}}}],\"scatterpolar\":[{\"type\":\"scatterpolar\",\"marker\":{\"colorbar\":{\"outlinewidth\":0,\"ticks\":\"\"}}}],\"histogram\":[{\"marker\":{\"pattern\":{\"fillmode\":\"overlay\",\"size\":10,\"solidity\":0.2}},\"type\":\"histogram\"}],\"scattergl\":[{\"type\":\"scattergl\",\"marker\":{\"colorbar\":{\"outlinewidth\":0,\"ticks\":\"\"}}}],\"scatter3d\":[{\"type\":\"scatter3d\",\"line\":{\"colorbar\":{\"outlinewidth\":0,\"ticks\":\"\"}},\"marker\":{\"colorbar\":{\"outlinewidth\":0,\"ticks\":\"\"}}}],\"scattermapbox\":[{\"type\":\"scattermapbox\",\"marker\":{\"colorbar\":{\"outlinewidth\":0,\"ticks\":\"\"}}}],\"scatterternary\":[{\"type\":\"scatterternary\",\"marker\":{\"colorbar\":{\"outlinewidth\":0,\"ticks\":\"\"}}}],\"scattercarpet\":[{\"type\":\"scattercarpet\",\"marker\":{\"colorbar\":{\"outlinewidth\":0,\"ticks\":\"\"}}}],\"carpet\":[{\"aaxis\":{\"endlinecolor\":\"#2a3f5f\",\"gridcolor\":\"white\",\"linecolor\":\"white\",\"minorgridcolor\":\"white\",\"startlinecolor\":\"#2a3f5f\"},\"baxis\":{\"endlinecolor\":\"#2a3f5f\",\"gridcolor\":\"white\",\"linecolor\":\"white\",\"minorgridcolor\":\"white\",\"startlinecolor\":\"#2a3f5f\"},\"type\":\"carpet\"}],\"table\":[{\"cells\":{\"fill\":{\"color\":\"#EBF0F8\"},\"line\":{\"color\":\"white\"}},\"header\":{\"fill\":{\"color\":\"#C8D4E3\"},\"line\":{\"color\":\"white\"}},\"type\":\"table\"}],\"barpolar\":[{\"marker\":{\"line\":{\"color\":\"#E5ECF6\",\"width\":0.5},\"pattern\":{\"fillmode\":\"overlay\",\"size\":10,\"solidity\":0.2}},\"type\":\"barpolar\"}],\"pie\":[{\"automargin\":true,\"type\":\"pie\"}]},\"layout\":{\"autotypenumbers\":\"strict\",\"colorway\":[\"#636efa\",\"#EF553B\",\"#00cc96\",\"#ab63fa\",\"#FFA15A\",\"#19d3f3\",\"#FF6692\",\"#B6E880\",\"#FF97FF\",\"#FECB52\"],\"font\":{\"color\":\"#2a3f5f\"},\"hovermode\":\"closest\",\"hoverlabel\":{\"align\":\"left\"},\"paper_bgcolor\":\"white\",\"plot_bgcolor\":\"#E5ECF6\",\"polar\":{\"bgcolor\":\"#E5ECF6\",\"angularaxis\":{\"gridcolor\":\"white\",\"linecolor\":\"white\",\"ticks\":\"\"},\"radialaxis\":{\"gridcolor\":\"white\",\"linecolor\":\"white\",\"ticks\":\"\"}},\"ternary\":{\"bgcolor\":\"#E5ECF6\",\"aaxis\":{\"gridcolor\":\"white\",\"linecolor\":\"white\",\"ticks\":\"\"},\"baxis\":{\"gridcolor\":\"white\",\"linecolor\":\"white\",\"ticks\":\"\"},\"caxis\":{\"gridcolor\":\"white\",\"linecolor\":\"white\",\"ticks\":\"\"}},\"coloraxis\":{\"colorbar\":{\"outlinewidth\":0,\"ticks\":\"\"}},\"colorscale\":{\"sequential\":[[0.0,\"#0d0887\"],[0.1111111111111111,\"#46039f\"],[0.2222222222222222,\"#7201a8\"],[0.3333333333333333,\"#9c179e\"],[0.4444444444444444,\"#bd3786\"],[0.5555555555555556,\"#d8576b\"],[0.6666666666666666,\"#ed7953\"],[0.7777777777777778,\"#fb9f3a\"],[0.8888888888888888,\"#fdca26\"],[1.0,\"#f0f921\"]],\"sequentialminus\":[[0.0,\"#0d0887\"],[0.1111111111111111,\"#46039f\"],[0.2222222222222222,\"#7201a8\"],[0.3333333333333333,\"#9c179e\"],[0.4444444444444444,\"#bd3786\"],[0.5555555555555556,\"#d8576b\"],[0.6666666666666666,\"#ed7953\"],[0.7777777777777778,\"#fb9f3a\"],[0.8888888888888888,\"#fdca26\"],[1.0,\"#f0f921\"]],\"diverging\":[[0,\"#8e0152\"],[0.1,\"#c51b7d\"],[0.2,\"#de77ae\"],[0.3,\"#f1b6da\"],[0.4,\"#fde0ef\"],[0.5,\"#f7f7f7\"],[0.6,\"#e6f5d0\"],[0.7,\"#b8e186\"],[0.8,\"#7fbc41\"],[0.9,\"#4d9221\"],[1,\"#276419\"]]},\"xaxis\":{\"gridcolor\":\"white\",\"linecolor\":\"white\",\"ticks\":\"\",\"title\":{\"standoff\":15},\"zerolinecolor\":\"white\",\"automargin\":true,\"zerolinewidth\":2},\"yaxis\":{\"gridcolor\":\"white\",\"linecolor\":\"white\",\"ticks\":\"\",\"title\":{\"standoff\":15},\"zerolinecolor\":\"white\",\"automargin\":true,\"zerolinewidth\":2},\"scene\":{\"xaxis\":{\"backgroundcolor\":\"#E5ECF6\",\"gridcolor\":\"white\",\"linecolor\":\"white\",\"showbackground\":true,\"ticks\":\"\",\"zerolinecolor\":\"white\",\"gridwidth\":2},\"yaxis\":{\"backgroundcolor\":\"#E5ECF6\",\"gridcolor\":\"white\",\"linecolor\":\"white\",\"showbackground\":true,\"ticks\":\"\",\"zerolinecolor\":\"white\",\"gridwidth\":2},\"zaxis\":{\"backgroundcolor\":\"#E5ECF6\",\"gridcolor\":\"white\",\"linecolor\":\"white\",\"showbackground\":true,\"ticks\":\"\",\"zerolinecolor\":\"white\",\"gridwidth\":2}},\"shapedefaults\":{\"line\":{\"color\":\"#2a3f5f\"}},\"annotationdefaults\":{\"arrowcolor\":\"#2a3f5f\",\"arrowhead\":0,\"arrowwidth\":1},\"geo\":{\"bgcolor\":\"white\",\"landcolor\":\"#E5ECF6\",\"subunitcolor\":\"white\",\"showland\":true,\"showlakes\":true,\"lakecolor\":\"white\"},\"title\":{\"x\":0.05},\"mapbox\":{\"style\":\"light\"}}},\"title\":{\"text\":\"Which Gender is More Likely to Order Online Again?\"}},                        {\"responsive\": true}                    ).then(function(){\n",
              "                            \n",
              "var gd = document.getElementById('6754f615-68ed-4c83-a772-5ba1d9e598cf');\n",
              "var x = new MutationObserver(function (mutations, observer) {{\n",
              "        var display = window.getComputedStyle(gd).display;\n",
              "        if (!display || display === 'none') {{\n",
              "            console.log([gd, 'removed!']);\n",
              "            Plotly.purge(gd);\n",
              "            observer.disconnect();\n",
              "        }}\n",
              "}});\n",
              "\n",
              "// Listen for the removal of the full notebook cells\n",
              "var notebookContainer = gd.closest('#notebook-container');\n",
              "if (notebookContainer) {{\n",
              "    x.observe(notebookContainer, {childList: true});\n",
              "}}\n",
              "\n",
              "// Listen for the clearing of the current output cell\n",
              "var outputEl = gd.closest('.output');\n",
              "if (outputEl) {{\n",
              "    x.observe(outputEl, {childList: true});\n",
              "}}\n",
              "\n",
              "                        })                };                            </script>        </div>\n",
              "</body>\n",
              "</html>"
            ]
          },
          "metadata": {}
        }
      ],
      "source": [
        "reorder = data[data[\"Output\"] == \"Yes\"]\n",
        "gender_data = reorder['Gender'].value_counts()\n",
        "label = gender_data.index\n",
        "counts = gender_data.values\n",
        "\n",
        "colors = sns.color_palette('pastel')[2:4]\n",
        "\n",
        "fig = go.Figure(data=[go.Pie(labels=label, values=counts)])\n",
        "fig.update_layout(title_text = \"Which Gender is More Likely to Order Online Again?\")\n",
        "fig.update_traces(hoverinfo=\"label+percent\", textinfo=\"value\",marker=dict(colors=colors))\n",
        "\n",
        "fig.show()"
      ]
    },
    {
      "cell_type": "markdown",
      "id": "6cf8b853",
      "metadata": {
        "papermill": {
          "duration": 0.012688,
          "end_time": "2022-08-22T09:09:59.137333",
          "exception": false,
          "start_time": "2022-08-22T09:09:59.124645",
          "status": "completed"
        },
        "tags": [],
        "id": "6cf8b853"
      },
      "source": [
        "58% of male customer tend to reorder, compared to 41% of female customers."
      ]
    },
    {
      "cell_type": "code",
      "execution_count": null,
      "id": "c47b7d49",
      "metadata": {
        "execution": {
          "iopub.execute_input": "2022-08-22T09:09:59.165053Z",
          "iopub.status.busy": "2022-08-22T09:09:59.164611Z",
          "iopub.status.idle": "2022-08-22T09:09:59.444280Z",
          "shell.execute_reply": "2022-08-22T09:09:59.443105Z"
        },
        "papermill": {
          "duration": 0.297136,
          "end_time": "2022-08-22T09:09:59.447363",
          "exception": false,
          "start_time": "2022-08-22T09:09:59.150227",
          "status": "completed"
        },
        "tags": [],
        "id": "c47b7d49",
        "outputId": "ac1518de-c7dd-449f-bdfa-c21987c7b4fc",
        "colab": {
          "base_uri": "https://localhost:8080/",
          "height": 718
        }
      },
      "outputs": [
        {
          "output_type": "display_data",
          "data": {
            "text/plain": [
              "<Figure size 1000x800 with 1 Axes>"
            ],
            "image/png": "[encoded data removed]"
          },
          "metadata": {}
        }
      ],
      "source": [
        "plt.figure(figsize=(10,8))\n",
        "plt.title(\"Educational Qualifications Based on the Gender of the Customer\")\n",
        "sns.countplot(x='Monthly Income',data=data,hue='Output',palette=\"Pastel2_r\");"
      ]
    },
    {
      "cell_type": "markdown",
      "id": "4c27bddc",
      "metadata": {
        "papermill": {
          "duration": 0.013603,
          "end_time": "2022-08-22T09:09:59.475367",
          "exception": false,
          "start_time": "2022-08-22T09:09:59.461764",
          "status": "completed"
        },
        "tags": [],
        "id": "4c27bddc"
      },
      "source": [
        "We see that those with no income(**54%**) have a higher rate of reordering compared to not placing an order. The main reason for this may be that the majority of the customers are *students* and have no income."
      ]
    },
    {
      "cell_type": "code",
      "execution_count": null,
      "id": "1783e16f",
      "metadata": {
        "execution": {
          "iopub.execute_input": "2022-08-22T09:09:59.504367Z",
          "iopub.status.busy": "2022-08-22T09:09:59.503938Z",
          "iopub.status.idle": "2022-08-22T09:09:59.521425Z",
          "shell.execute_reply": "2022-08-22T09:09:59.520579Z"
        },
        "papermill": {
          "duration": 0.034523,
          "end_time": "2022-08-22T09:09:59.523762",
          "exception": false,
          "start_time": "2022-08-22T09:09:59.489239",
          "status": "completed"
        },
        "tags": [],
        "id": "1783e16f",
        "outputId": "7d7acf3c-b75f-4958-df71-d68bb4878c33",
        "colab": {
          "base_uri": "https://localhost:8080/",
          "height": 542
        }
      },
      "outputs": [
        {
          "output_type": "display_data",
          "data": {
            "text/html": [
              "<html>\n",
              "<head><meta charset=\"utf-8\" /></head>\n",
              "<body>\n",
              "    <div>            <script src=\"https://cdnjs.cloudflare.com/ajax/libs/mathjax/2.7.5/MathJax.js?config=TeX-AMS-MML_SVG\"></script><script type=\"text/javascript\">if (window.MathJax && window.MathJax.Hub && window.MathJax.Hub.Config) {window.MathJax.Hub.Config({SVG: {font: \"STIX-Web\"}});}</script>                <script type=\"text/javascript\">window.PlotlyConfig = {MathJaxConfig: 'local'};</script>\n",
              "        <script charset=\"utf-8\" src=\"https://cdn.plot.ly/plotly-2.35.2.min.js\"></script>                <div id=\"87d6a1c8-d846-4ceb-83fa-71885febad00\" class=\"plotly-graph-div\" style=\"height:525px; width:100%;\"></div>            <script type=\"text/javascript\">                                    window.PLOTLYENV=window.PLOTLYENV || {};                                    if (document.getElementById(\"87d6a1c8-d846-4ceb-83fa-71885febad00\")) {                    Plotly.newPlot(                        \"87d6a1c8-d846-4ceb-83fa-71885febad00\",                        [{\"labels\":[\"Single\",\"Married\",\"Prefer not to say\"],\"values\":[229,66,6],\"type\":\"pie\",\"marker\":{\"colors\":[[0.5529411764705883,0.8980392156862745,0.6313725490196078],[1.0,0.6235294117647059,0.6078431372549019]]},\"hoverinfo\":\"label+percent\",\"textinfo\":\"value\"}],                        {\"template\":{\"data\":{\"histogram2dcontour\":[{\"type\":\"histogram2dcontour\",\"colorbar\":{\"outlinewidth\":0,\"ticks\":\"\"},\"colorscale\":[[0.0,\"#0d0887\"],[0.1111111111111111,\"#46039f\"],[0.2222222222222222,\"#7201a8\"],[0.3333333333333333,\"#9c179e\"],[0.4444444444444444,\"#bd3786\"],[0.5555555555555556,\"#d8576b\"],[0.6666666666666666,\"#ed7953\"],[0.7777777777777778,\"#fb9f3a\"],[0.8888888888888888,\"#fdca26\"],[1.0,\"#f0f921\"]]}],\"choropleth\":[{\"type\":\"choropleth\",\"colorbar\":{\"outlinewidth\":0,\"ticks\":\"\"}}],\"histogram2d\":[{\"type\":\"histogram2d\",\"colorbar\":{\"outlinewidth\":0,\"ticks\":\"\"},\"colorscale\":[[0.0,\"#0d0887\"],[0.1111111111111111,\"#46039f\"],[0.2222222222222222,\"#7201a8\"],[0.3333333333333333,\"#9c179e\"],[0.4444444444444444,\"#bd3786\"],[0.5555555555555556,\"#d8576b\"],[0.6666666666666666,\"#ed7953\"],[0.7777777777777778,\"#fb9f3a\"],[0.8888888888888888,\"#fdca26\"],[1.0,\"#f0f921\"]]}],\"heatmap\":[{\"type\":\"heatmap\",\"colorbar\":{\"outlinewidth\":0,\"ticks\":\"\"},\"colorscale\":[[0.0,\"#0d0887\"],[0.1111111111111111,\"#46039f\"],[0.2222222222222222,\"#7201a8\"],[0.3333333333333333,\"#9c179e\"],[0.4444444444444444,\"#bd3786\"],[0.5555555555555556,\"#d8576b\"],[0.6666666666666666,\"#ed7953\"],[0.7777777777777778,\"#fb9f3a\"],[0.8888888888888888,\"#fdca26\"],[1.0,\"#f0f921\"]]}],\"heatmapgl\":[{\"type\":\"heatmapgl\",\"colorbar\":{\"outlinewidth\":0,\"ticks\":\"\"},\"colorscale\":[[0.0,\"#0d0887\"],[0.1111111111111111,\"#46039f\"],[0.2222222222222222,\"#7201a8\"],[0.3333333333333333,\"#9c179e\"],[0.4444444444444444,\"#bd3786\"],[0.5555555555555556,\"#d8576b\"],[0.6666666666666666,\"#ed7953\"],[0.7777777777777778,\"#fb9f3a\"],[0.8888888888888888,\"#fdca26\"],[1.0,\"#f0f921\"]]}],\"contourcarpet\":[{\"type\":\"contourcarpet\",\"colorbar\":{\"outlinewidth\":0,\"ticks\":\"\"}}],\"contour\":[{\"type\":\"contour\",\"colorbar\":{\"outlinewidth\":0,\"ticks\":\"\"},\"colorscale\":[[0.0,\"#0d0887\"],[0.1111111111111111,\"#46039f\"],[0.2222222222222222,\"#7201a8\"],[0.3333333333333333,\"#9c179e\"],[0.4444444444444444,\"#bd3786\"],[0.5555555555555556,\"#d8576b\"],[0.6666666666666666,\"#ed7953\"],[0.7777777777777778,\"#fb9f3a\"],[0.8888888888888888,\"#fdca26\"],[1.0,\"#f0f921\"]]}],\"surface\":[{\"type\":\"surface\",\"colorbar\":{\"outlinewidth\":0,\"ticks\":\"\"},\"colorscale\":[[0.0,\"#0d0887\"],[0.1111111111111111,\"#46039f\"],[0.2222222222222222,\"#7201a8\"],[0.3333333333333333,\"#9c179e\"],[0.4444444444444444,\"#bd3786\"],[0.5555555555555556,\"#d8576b\"],[0.6666666666666666,\"#ed7953\"],[0.7777777777777778,\"#fb9f3a\"],[0.8888888888888888,\"#fdca26\"],[1.0,\"#f0f921\"]]}],\"mesh3d\":[{\"type\":\"mesh3d\",\"colorbar\":{\"outlinewidth\":0,\"ticks\":\"\"}}],\"scatter\":[{\"fillpattern\":{\"fillmode\":\"overlay\",\"size\":10,\"solidity\":0.2},\"type\":\"scatter\"}],\"parcoords\":[{\"type\":\"parcoords\",\"line\":{\"colorbar\":{\"outlinewidth\":0,\"ticks\":\"\"}}}],\"scatterpolargl\":[{\"type\":\"scatterpolargl\",\"marker\":{\"colorbar\":{\"outlinewidth\":0,\"ticks\":\"\"}}}],\"bar\":[{\"error_x\":{\"color\":\"#2a3f5f\"},\"error_y\":{\"color\":\"#2a3f5f\"},\"marker\":{\"line\":{\"color\":\"#E5ECF6\",\"width\":0.5},\"pattern\":{\"fillmode\":\"overlay\",\"size\":10,\"solidity\":0.2}},\"type\":\"bar\"}],\"scattergeo\":[{\"type\":\"scattergeo\",\"marker\":{\"colorbar\":{\"outlinewidth\":0,\"ticks\":\"\"}}}],\"scatterpolar\":[{\"type\":\"scatterpolar\",\"marker\":{\"colorbar\":{\"outlinewidth\":0,\"ticks\":\"\"}}}],\"histogram\":[{\"marker\":{\"pattern\":{\"fillmode\":\"overlay\",\"size\":10,\"solidity\":0.2}},\"type\":\"histogram\"}],\"scattergl\":[{\"type\":\"scattergl\",\"marker\":{\"colorbar\":{\"outlinewidth\":0,\"ticks\":\"\"}}}],\"scatter3d\":[{\"type\":\"scatter3d\",\"line\":{\"colorbar\":{\"outlinewidth\":0,\"ticks\":\"\"}},\"marker\":{\"colorbar\":{\"outlinewidth\":0,\"ticks\":\"\"}}}],\"scattermapbox\":[{\"type\":\"scattermapbox\",\"marker\":{\"colorbar\":{\"outlinewidth\":0,\"ticks\":\"\"}}}],\"scatterternary\":[{\"type\":\"scatterternary\",\"marker\":{\"colorbar\":{\"outlinewidth\":0,\"ticks\":\"\"}}}],\"scattercarpet\":[{\"type\":\"scattercarpet\",\"marker\":{\"colorbar\":{\"outlinewidth\":0,\"ticks\":\"\"}}}],\"carpet\":[{\"aaxis\":{\"endlinecolor\":\"#2a3f5f\",\"gridcolor\":\"white\",\"linecolor\":\"white\",\"minorgridcolor\":\"white\",\"startlinecolor\":\"#2a3f5f\"},\"baxis\":{\"endlinecolor\":\"#2a3f5f\",\"gridcolor\":\"white\",\"linecolor\":\"white\",\"minorgridcolor\":\"white\",\"startlinecolor\":\"#2a3f5f\"},\"type\":\"carpet\"}],\"table\":[{\"cells\":{\"fill\":{\"color\":\"#EBF0F8\"},\"line\":{\"color\":\"white\"}},\"header\":{\"fill\":{\"color\":\"#C8D4E3\"},\"line\":{\"color\":\"white\"}},\"type\":\"table\"}],\"barpolar\":[{\"marker\":{\"line\":{\"color\":\"#E5ECF6\",\"width\":0.5},\"pattern\":{\"fillmode\":\"overlay\",\"size\":10,\"solidity\":0.2}},\"type\":\"barpolar\"}],\"pie\":[{\"automargin\":true,\"type\":\"pie\"}]},\"layout\":{\"autotypenumbers\":\"strict\",\"colorway\":[\"#636efa\",\"#EF553B\",\"#00cc96\",\"#ab63fa\",\"#FFA15A\",\"#19d3f3\",\"#FF6692\",\"#B6E880\",\"#FF97FF\",\"#FECB52\"],\"font\":{\"color\":\"#2a3f5f\"},\"hovermode\":\"closest\",\"hoverlabel\":{\"align\":\"left\"},\"paper_bgcolor\":\"white\",\"plot_bgcolor\":\"#E5ECF6\",\"polar\":{\"bgcolor\":\"#E5ECF6\",\"angularaxis\":{\"gridcolor\":\"white\",\"linecolor\":\"white\",\"ticks\":\"\"},\"radialaxis\":{\"gridcolor\":\"white\",\"linecolor\":\"white\",\"ticks\":\"\"}},\"ternary\":{\"bgcolor\":\"#E5ECF6\",\"aaxis\":{\"gridcolor\":\"white\",\"linecolor\":\"white\",\"ticks\":\"\"},\"baxis\":{\"gridcolor\":\"white\",\"linecolor\":\"white\",\"ticks\":\"\"},\"caxis\":{\"gridcolor\":\"white\",\"linecolor\":\"white\",\"ticks\":\"\"}},\"coloraxis\":{\"colorbar\":{\"outlinewidth\":0,\"ticks\":\"\"}},\"colorscale\":{\"sequential\":[[0.0,\"#0d0887\"],[0.1111111111111111,\"#46039f\"],[0.2222222222222222,\"#7201a8\"],[0.3333333333333333,\"#9c179e\"],[0.4444444444444444,\"#bd3786\"],[0.5555555555555556,\"#d8576b\"],[0.6666666666666666,\"#ed7953\"],[0.7777777777777778,\"#fb9f3a\"],[0.8888888888888888,\"#fdca26\"],[1.0,\"#f0f921\"]],\"sequentialminus\":[[0.0,\"#0d0887\"],[0.1111111111111111,\"#46039f\"],[0.2222222222222222,\"#7201a8\"],[0.3333333333333333,\"#9c179e\"],[0.4444444444444444,\"#bd3786\"],[0.5555555555555556,\"#d8576b\"],[0.6666666666666666,\"#ed7953\"],[0.7777777777777778,\"#fb9f3a\"],[0.8888888888888888,\"#fdca26\"],[1.0,\"#f0f921\"]],\"diverging\":[[0,\"#8e0152\"],[0.1,\"#c51b7d\"],[0.2,\"#de77ae\"],[0.3,\"#f1b6da\"],[0.4,\"#fde0ef\"],[0.5,\"#f7f7f7\"],[0.6,\"#e6f5d0\"],[0.7,\"#b8e186\"],[0.8,\"#7fbc41\"],[0.9,\"#4d9221\"],[1,\"#276419\"]]},\"xaxis\":{\"gridcolor\":\"white\",\"linecolor\":\"white\",\"ticks\":\"\",\"title\":{\"standoff\":15},\"zerolinecolor\":\"white\",\"automargin\":true,\"zerolinewidth\":2},\"yaxis\":{\"gridcolor\":\"white\",\"linecolor\":\"white\",\"ticks\":\"\",\"title\":{\"standoff\":15},\"zerolinecolor\":\"white\",\"automargin\":true,\"zerolinewidth\":2},\"scene\":{\"xaxis\":{\"backgroundcolor\":\"#E5ECF6\",\"gridcolor\":\"white\",\"linecolor\":\"white\",\"showbackground\":true,\"ticks\":\"\",\"zerolinecolor\":\"white\",\"gridwidth\":2},\"yaxis\":{\"backgroundcolor\":\"#E5ECF6\",\"gridcolor\":\"white\",\"linecolor\":\"white\",\"showbackground\":true,\"ticks\":\"\",\"zerolinecolor\":\"white\",\"gridwidth\":2},\"zaxis\":{\"backgroundcolor\":\"#E5ECF6\",\"gridcolor\":\"white\",\"linecolor\":\"white\",\"showbackground\":true,\"ticks\":\"\",\"zerolinecolor\":\"white\",\"gridwidth\":2}},\"shapedefaults\":{\"line\":{\"color\":\"#2a3f5f\"}},\"annotationdefaults\":{\"arrowcolor\":\"#2a3f5f\",\"arrowhead\":0,\"arrowwidth\":1},\"geo\":{\"bgcolor\":\"white\",\"landcolor\":\"#E5ECF6\",\"subunitcolor\":\"white\",\"showland\":true,\"showlakes\":true,\"lakecolor\":\"white\"},\"title\":{\"x\":0.05},\"mapbox\":{\"style\":\"light\"}}},\"title\":{\"text\":\"What is the Marital Status of Customers?\"}},                        {\"responsive\": true}                    ).then(function(){\n",
              "                            \n",
              "var gd = document.getElementById('87d6a1c8-d846-4ceb-83fa-71885febad00');\n",
              "var x = new MutationObserver(function (mutations, observer) {{\n",
              "        var display = window.getComputedStyle(gd).display;\n",
              "        if (!display || display === 'none') {{\n",
              "            console.log([gd, 'removed!']);\n",
              "            Plotly.purge(gd);\n",
              "            observer.disconnect();\n",
              "        }}\n",
              "}});\n",
              "\n",
              "// Listen for the removal of the full notebook cells\n",
              "var notebookContainer = gd.closest('#notebook-container');\n",
              "if (notebookContainer) {{\n",
              "    x.observe(notebookContainer, {childList: true});\n",
              "}}\n",
              "\n",
              "// Listen for the clearing of the current output cell\n",
              "var outputEl = gd.closest('.output');\n",
              "if (outputEl) {{\n",
              "    x.observe(outputEl, {childList: true});\n",
              "}}\n",
              "\n",
              "                        })                };                            </script>        </div>\n",
              "</body>\n",
              "</html>"
            ]
          },
          "metadata": {}
        }
      ],
      "source": [
        "reorder = data[data[\"Output\"] == \"Yes\"]\n",
        "status_data = reorder['Marital Status'].value_counts()\n",
        "label = status_data.index\n",
        "counts = status_data.values\n",
        "\n",
        "fig = go.Figure(data=[go.Pie(labels=label, values=counts)])\n",
        "fig.update_layout(title_text = \"What is the Marital Status of Customers?\")\n",
        "fig.update_traces(hoverinfo=\"label+percent\", textinfo=\"value\",marker=dict(colors=colors))\n",
        "\n",
        "fig.show()"
      ]
    },
    {
      "cell_type": "markdown",
      "id": "fb872964",
      "metadata": {
        "papermill": {
          "duration": 0.013951,
          "end_time": "2022-08-22T09:09:59.551113",
          "exception": false,
          "start_time": "2022-08-22T09:09:59.537162",
          "status": "completed"
        },
        "tags": [],
        "id": "fb872964"
      },
      "source": [
        "About 76% of customers who order are *married*."
      ]
    },
    {
      "cell_type": "markdown",
      "id": "4b37c62f",
      "metadata": {
        "papermill": {
          "duration": 0.012865,
          "end_time": "2022-08-22T09:09:59.577420",
          "exception": false,
          "start_time": "2022-08-22T09:09:59.564555",
          "status": "completed"
        },
        "tags": [],
        "id": "4b37c62f"
      },
      "source": [
        "positive = len(data[data[\"Feedback\"] == 'Positive'])\n",
        "negative = len(data[data[\"Feedback\"] == 'Negative '])\n",
        "data_feedback = [positive,negative]\n",
        "labels = ['Positive', 'Negative']\n",
        "\n",
        "colors = sns.color_palette('pastel')[0:5] # seaborn color palette to use\n",
        "\n",
        "plt.figure(figsize=(10,8))\n",
        "plt.title(\"Percentages of the Customer's Feedback\")\n",
        "plt.pie(data_feedback, labels = labels, colors = colors, autopct='%.0f%%')\n",
        "plt.show()"
      ]
    },
    {
      "cell_type": "markdown",
      "id": "fce9011c",
      "metadata": {
        "papermill": {
          "duration": 0.012799,
          "end_time": "2022-08-22T09:09:59.603476",
          "exception": false,
          "start_time": "2022-08-22T09:09:59.590677",
          "status": "completed"
        },
        "tags": [],
        "id": "fce9011c"
      },
      "source": [
        "Of the total comments, 82% are positive while 18% are negative. So how does this rate affect reordering(**Output**)?"
      ]
    },
    {
      "cell_type": "markdown",
      "id": "218e1273",
      "metadata": {
        "papermill": {
          "duration": 0.012894,
          "end_time": "2022-08-22T09:09:59.629624",
          "exception": false,
          "start_time": "2022-08-22T09:09:59.616730",
          "status": "completed"
        },
        "tags": [],
        "id": "218e1273"
      },
      "source": [
        "plt.figure(figsize=(10,8))\n",
        "plt.title(\"Does Feedback Have Any Effect On Reordering?\")\n",
        "sns.countplot(x='Feedback',data=data,hue='Output',palette=\"Pastel1\");"
      ]
    },
    {
      "cell_type": "markdown",
      "id": "8cb6f289",
      "metadata": {
        "papermill": {
          "duration": 0.012722,
          "end_time": "2022-08-22T09:09:59.655559",
          "exception": false,
          "start_time": "2022-08-22T09:09:59.642837",
          "status": "completed"
        },
        "tags": [],
        "id": "8cb6f289"
      },
      "source": [
        "As can be seen from the plot, the majority of customers with positive feedback will order again, while customers with negative feedback are more likely to not order."
      ]
    },
    {
      "cell_type": "markdown",
      "id": "53d2bba6",
      "metadata": {
        "papermill": {
          "duration": 0.013197,
          "end_time": "2022-08-22T09:09:59.681980",
          "exception": false,
          "start_time": "2022-08-22T09:09:59.668783",
          "status": "completed"
        },
        "tags": [],
        "id": "53d2bba6"
      },
      "source": [
        "# Preparing the Data"
      ]
    },
    {
      "cell_type": "code",
      "execution_count": null,
      "id": "d923b086",
      "metadata": {
        "execution": {
          "iopub.execute_input": "2022-08-22T09:09:59.710839Z",
          "iopub.status.busy": "2022-08-22T09:09:59.709812Z",
          "iopub.status.idle": "2022-08-22T09:09:59.718105Z",
          "shell.execute_reply": "2022-08-22T09:09:59.716811Z"
        },
        "papermill": {
          "duration": 0.025235,
          "end_time": "2022-08-22T09:09:59.720526",
          "exception": false,
          "start_time": "2022-08-22T09:09:59.695291",
          "status": "completed"
        },
        "tags": [],
        "id": "d923b086",
        "outputId": "9cbb512c-bb81-4b97-e441-d9e29ffddde0",
        "colab": {
          "base_uri": "https://localhost:8080/"
        }
      },
      "outputs": [
        {
          "output_type": "execute_result",
          "data": {
            "text/plain": [
              "array(['No Income', 'Below Rs.10000', 'More than 50000', '10001 to 25000',\n",
              "       '25001 to 50000'], dtype=object)"
            ]
          },
          "metadata": {},
          "execution_count": 16
        }
      ],
      "source": [
        "data[\"Monthly Income\"].unique()"
      ]
    },
    {
      "cell_type": "code",
      "execution_count": null,
      "id": "6fd5e9dc",
      "metadata": {
        "execution": {
          "iopub.execute_input": "2022-08-22T09:09:59.749889Z",
          "iopub.status.busy": "2022-08-22T09:09:59.749436Z",
          "iopub.status.idle": "2022-08-22T09:09:59.769029Z",
          "shell.execute_reply": "2022-08-22T09:09:59.767950Z"
        },
        "papermill": {
          "duration": 0.037552,
          "end_time": "2022-08-22T09:09:59.771531",
          "exception": false,
          "start_time": "2022-08-22T09:09:59.733979",
          "status": "completed"
        },
        "tags": [],
        "id": "6fd5e9dc"
      },
      "outputs": [],
      "source": [
        "data[\"Gender\"] = data[\"Gender\"].map({\"Male\":0,\"Female\":1}) # male or female\n",
        "\n",
        "data[\"Marital Status\"] = data[\"Marital Status\"].map({\"Married\":0,\"Single\":1,\"Prefer not to say\":2})\n",
        "\n",
        "\n",
        "data[\"Occupation\"] = data[\"Occupation\"].replace(to_replace=[\"Employee\",\"Self Employeed\"], value=1) # employed\n",
        "data[\"Occupation\"] = data[\"Occupation\"].replace(to_replace=[\"Student\",\"House wife\"], value=0) # unemployed\n",
        "\n",
        "\n",
        "data[\"Educational Qualifications\"] = data[\"Educational Qualifications\"].map({\"Graduate\": 1,\n",
        "                                                                             \"Post Graduate\": 2,\n",
        "                                                                             \"Ph.D\": 3, \"School\": 4,\n",
        "                                                                             \"Uneducated\": 5})\n",
        "\n",
        "\n",
        "data[\"Monthly Income\"] = data[\"Monthly Income\"].replace(to_replace=[\"No Income\"], value=0) # no income\n",
        "data[\"Monthly Income\"] = data[\"Monthly Income\"].replace(to_replace=[\"Below Rs.10000\",\n",
        "                                                                   \"More than 50000\",\n",
        "                                                                   \"25001 to 50000\",\n",
        "                                                                   \"10001 to 25000\"], value=1)  # has an income\n",
        "\n",
        "#data[\"Feedback\"] = data[\"Feedback\"].map({\"Negative \":0,\"Positive\":1}) # negative or positive\n",
        "\n",
        "data[\"Output\"] = data[\"Output\"].map({\"No\":0,\"Yes\":1}) # no or yes"
      ]
    },
    {
      "cell_type": "markdown",
      "id": "4828cb0f",
      "metadata": {
        "papermill": {
          "duration": 0.013074,
          "end_time": "2022-08-22T09:09:59.797997",
          "exception": false,
          "start_time": "2022-08-22T09:09:59.784923",
          "status": "completed"
        },
        "tags": [],
        "id": "4828cb0f"
      },
      "source": [
        "# Prediction Model"
      ]
    },
    {
      "cell_type": "code",
      "execution_count": null,
      "id": "ec73a915",
      "metadata": {
        "execution": {
          "iopub.execute_input": "2022-08-22T09:09:59.826918Z",
          "iopub.status.busy": "2022-08-22T09:09:59.826169Z",
          "iopub.status.idle": "2022-08-22T09:09:59.837118Z",
          "shell.execute_reply": "2022-08-22T09:09:59.835513Z"
        },
        "papermill": {
          "duration": 0.028286,
          "end_time": "2022-08-22T09:09:59.839622",
          "exception": false,
          "start_time": "2022-08-22T09:09:59.811336",
          "status": "completed"
        },
        "tags": [],
        "id": "ec73a915",
        "outputId": "fa7ddcf8-1d45-4c1e-c077-3d9685de88b6",
        "colab": {
          "base_uri": "https://localhost:8080/"
        }
      },
      "outputs": [
        {
          "output_type": "stream",
          "name": "stdout",
          "text": [
            "Shape of train dataset :  (310, 10)\n",
            "Shape of test dataset :  (78, 10)\n"
          ]
        }
      ],
      "source": [
        "X = data.drop('Output',axis=1)\n",
        "y = data['Output']\n",
        "\n",
        "X_train,X_test, y_train, y_test = train_test_split(X,y, test_size=0.2,\n",
        "                                                    random_state=101)\n",
        "\n",
        "print(\"Shape of train dataset : \", X_train.shape)\n",
        "print(\"Shape of test dataset : \", X_test.shape)"
      ]
    },
    {
      "cell_type": "code",
      "execution_count": null,
      "id": "e6eda36f",
      "metadata": {
        "execution": {
          "iopub.execute_input": "2022-08-22T09:09:59.870711Z",
          "iopub.status.busy": "2022-08-22T09:09:59.869842Z",
          "iopub.status.idle": "2022-08-22T09:10:00.071443Z",
          "shell.execute_reply": "2022-08-22T09:10:00.069323Z"
        },
        "papermill": {
          "duration": 0.222414,
          "end_time": "2022-08-22T09:10:00.075348",
          "exception": false,
          "start_time": "2022-08-22T09:09:59.852934",
          "status": "completed"
        },
        "tags": [],
        "id": "e6eda36f",
        "outputId": "03437ca1-5bbf-4e33-82ad-9c1b6ca9b3a9",
        "colab": {
          "base_uri": "https://localhost:8080/"
        }
      },
      "outputs": [
        {
          "output_type": "stream",
          "name": "stdout",
          "text": [
            "0.8974358974358975\n"
          ]
        }
      ],
      "source": [
        "rfc = RandomForestClassifier(n_estimators=100)\n",
        "\n",
        "rfc.fit(X_train, y_train)\n",
        "\n",
        "print(rfc.score(X_test, y_test))"
      ]
    },
    {
      "cell_type": "code",
      "execution_count": null,
      "id": "fe2540a3",
      "metadata": {
        "execution": {
          "iopub.execute_input": "2022-08-22T09:10:00.123089Z",
          "iopub.status.busy": "2022-08-22T09:10:00.122427Z",
          "iopub.status.idle": "2022-08-22T09:10:00.395793Z",
          "shell.execute_reply": "2022-08-22T09:10:00.394947Z"
        },
        "papermill": {
          "duration": 0.308369,
          "end_time": "2022-08-22T09:10:00.398301",
          "exception": false,
          "start_time": "2022-08-22T09:10:00.089932",
          "status": "completed"
        },
        "tags": [],
        "id": "fe2540a3",
        "outputId": "93e94797-2e35-490d-fab2-f9040f6389a2",
        "colab": {
          "base_uri": "https://localhost:8080/",
          "height": 717
        }
      },
      "outputs": [
        {
          "output_type": "stream",
          "name": "stdout",
          "text": [
            "[[10  0]\n",
            " [ 8 60]]\n"
          ]
        },
        {
          "output_type": "display_data",
          "data": {
            "text/plain": [
              "<Figure size 1000x800 with 2 Axes>"
            ],
            "image/png": "[encoded data removed]"
          },
          "metadata": {}
        }
      ],
      "source": [
        "pred = rfc.predict(X_test)\n",
        "\n",
        "print(confusion_matrix(pred,y_test))\n",
        "\n",
        "plt.figure(figsize=(10,8))\n",
        "sns.heatmap(confusion_matrix(pred,y_test), annot=True);"
      ]
    },
    {
      "cell_type": "code",
      "execution_count": null,
      "id": "77341830",
      "metadata": {
        "execution": {
          "iopub.execute_input": "2022-08-22T09:10:00.428523Z",
          "iopub.status.busy": "2022-08-22T09:10:00.427449Z",
          "iopub.status.idle": "2022-08-22T09:10:01.284544Z",
          "shell.execute_reply": "2022-08-22T09:10:01.283347Z"
        },
        "papermill": {
          "duration": 0.875585,
          "end_time": "2022-08-22T09:10:01.287979",
          "exception": false,
          "start_time": "2022-08-22T09:10:00.412394",
          "status": "completed"
        },
        "tags": [],
        "id": "77341830",
        "outputId": "df73ced0-16cc-4c31-c5b2-fbdc8cc1b965",
        "colab": {
          "base_uri": "https://localhost:8080/"
        }
      },
      "outputs": [
        {
          "output_type": "stream",
          "name": "stdout",
          "text": [
            "Accuracy:  0.867741935483871 0.06579380017539073\n"
          ]
        }
      ],
      "source": [
        "# Evaluating a score by cross-validation\n",
        "# cv determines the cross-validation splitting strategy\n",
        "scores = cross_val_score(rfc, X_train, y_train,cv=5)\n",
        "\n",
        "# average score\n",
        "print(\"Accuracy: \", scores.mean(), scores.std() * 2)"
      ]
    },
    {
      "cell_type": "markdown",
      "id": "0180689f",
      "metadata": {
        "papermill": {
          "duration": 0.013382,
          "end_time": "2022-08-22T09:10:01.315493",
          "exception": false,
          "start_time": "2022-08-22T09:10:01.302111",
          "status": "completed"
        },
        "tags": [],
        "id": "0180689f"
      },
      "source": [
        "# Parameter Search"
      ]
    },
    {
      "cell_type": "code",
      "execution_count": null,
      "id": "56582b3c",
      "metadata": {
        "execution": {
          "iopub.execute_input": "2022-08-22T09:10:01.345902Z",
          "iopub.status.busy": "2022-08-22T09:10:01.345278Z",
          "iopub.status.idle": "2022-08-22T09:10:01.354345Z",
          "shell.execute_reply": "2022-08-22T09:10:01.353220Z"
        },
        "papermill": {
          "duration": 0.026927,
          "end_time": "2022-08-22T09:10:01.356721",
          "exception": false,
          "start_time": "2022-08-22T09:10:01.329794",
          "status": "completed"
        },
        "tags": [],
        "id": "56582b3c",
        "outputId": "cf2aa88d-8a85-4d6f-cfe7-6b48f0cbd10a",
        "colab": {
          "base_uri": "https://localhost:8080/",
          "height": 115
        }
      },
      "outputs": [
        {
          "output_type": "execute_result",
          "data": {
            "text/plain": [
              "Pipeline(steps=[('randomforestclassifier', RandomForestClassifier())])"
            ],
            "text/html": [
              "<style>#sk-container-id-1 {\n",
              "  /* Definition of color scheme common for light and dark mode */\n",
              "  --sklearn-color-text: #000;\n",
              "  --sklearn-color-text-muted: #666;\n",
              "  --sklearn-color-line: gray;\n",
              "  /* Definition of color scheme for unfitted estimators */\n",
              "  --sklearn-color-unfitted-level-0: #fff5e6;\n",
              "  --sklearn-color-unfitted-level-1: #f6e4d2;\n",
              "  --sklearn-color-unfitted-level-2: #ffe0b3;\n",
              "  --sklearn-color-unfitted-level-3: chocolate;\n",
              "  /* Definition of color scheme for fitted estimators */\n",
              "  --sklearn-color-fitted-level-0: #f0f8ff;\n",
              "  --sklearn-color-fitted-level-1: #d4ebff;\n",
              "  --sklearn-color-fitted-level-2: #b3dbfd;\n",
              "  --sklearn-color-fitted-level-3: cornflowerblue;\n",
              "\n",
              "  /* Specific color for light theme */\n",
              "  --sklearn-color-text-on-default-background: var(--sg-text-color, var(--theme-code-foreground, var(--jp-content-font-color1, black)));\n",
              "  --sklearn-color-background: var(--sg-background-color, var(--theme-background, var(--jp-layout-color0, white)));\n",
              "  --sklearn-color-border-box: var(--sg-text-color, var(--theme-code-foreground, var(--jp-content-font-color1, black)));\n",
              "  --sklearn-color-icon: #696969;\n",
              "\n",
              "  @media (prefers-color-scheme: dark) {\n",
              "    /* Redefinition of color scheme for dark theme */\n",
              "    --sklearn-color-text-on-default-background: var(--sg-text-color, var(--theme-code-foreground, var(--jp-content-font-color1, white)));\n",
              "    --sklearn-color-background: var(--sg-background-color, var(--theme-background, var(--jp-layout-color0, #111)));\n",
              "    --sklearn-color-border-box: var(--sg-text-color, var(--theme-code-foreground, var(--jp-content-font-color1, white)));\n",
              "    --sklearn-color-icon: #878787;\n",
              "  }\n",
              "}\n",
              "\n",
              "#sk-container-id-1 {\n",
              "  color: var(--sklearn-color-text);\n",
              "}\n",
              "\n",
              "#sk-container-id-1 pre {\n",
              "  padding: 0;\n",
              "}\n",
              "\n",
              "#sk-container-id-1 input.sk-hidden--visually {\n",
              "  border: 0;\n",
              "  clip: rect(1px 1px 1px 1px);\n",
              "  clip: rect(1px, 1px, 1px, 1px);\n",
              "  height: 1px;\n",
              "  margin: -1px;\n",
              "  overflow: hidden;\n",
              "  padding: 0;\n",
              "  position: absolute;\n",
              "  width: 1px;\n",
              "}\n",
              "\n",
              "#sk-container-id-1 div.sk-dashed-wrapped {\n",
              "  border: 1px dashed var(--sklearn-color-line);\n",
              "  margin: 0 0.4em 0.5em 0.4em;\n",
              "  box-sizing: border-box;\n",
              "  padding-bottom: 0.4em;\n",
              "  background-color: var(--sklearn-color-background);\n",
              "}\n",
              "\n",
              "#sk-container-id-1 div.sk-container {\n",
              "  /* jupyter's `normalize.less` sets `[hidden] { display: none; }`\n",
              "     but bootstrap.min.css set `[hidden] { display: none !important; }`\n",
              "     so we also need the `!important` here to be able to override the\n",
              "     default hidden behavior on the sphinx rendered scikit-learn.org.\n",
              "     See: https://github.com/scikit-learn/scikit-learn/issues/21755 */\n",
              "  display: inline-block !important;\n",
              "  position: relative;\n",
              "}\n",
              "\n",
              "#sk-container-id-1 div.sk-text-repr-fallback {\n",
              "  display: none;\n",
              "}\n",
              "\n",
              "div.sk-parallel-item,\n",
              "div.sk-serial,\n",
              "div.sk-item {\n",
              "  /* draw centered vertical line to link estimators */\n",
              "  background-image: linear-gradient(var(--sklearn-color-text-on-default-background), var(--sklearn-color-text-on-default-background));\n",
              "  background-size: 2px 100%;\n",
              "  background-repeat: no-repeat;\n",
              "  background-position: center center;\n",
              "}\n",
              "\n",
              "/* Parallel-specific style estimator block */\n",
              "\n",
              "#sk-container-id-1 div.sk-parallel-item::after {\n",
              "  content: \"\";\n",
              "  width: 100%;\n",
              "  border-bottom: 2px solid var(--sklearn-color-text-on-default-background);\n",
              "  flex-grow: 1;\n",
              "}\n",
              "\n",
              "#sk-container-id-1 div.sk-parallel {\n",
              "  display: flex;\n",
              "  align-items: stretch;\n",
              "  justify-content: center;\n",
              "  background-color: var(--sklearn-color-background);\n",
              "  position: relative;\n",
              "}\n",
              "\n",
              "#sk-container-id-1 div.sk-parallel-item {\n",
              "  display: flex;\n",
              "  flex-direction: column;\n",
              "}\n",
              "\n",
              "#sk-container-id-1 div.sk-parallel-item:first-child::after {\n",
              "  align-self: flex-end;\n",
              "  width: 50%;\n",
              "}\n",
              "\n",
              "#sk-container-id-1 div.sk-parallel-item:last-child::after {\n",
              "  align-self: flex-start;\n",
              "  width: 50%;\n",
              "}\n",
              "\n",
              "#sk-container-id-1 div.sk-parallel-item:only-child::after {\n",
              "  width: 0;\n",
              "}\n",
              "\n",
              "/* Serial-specific style estimator block */\n",
              "\n",
              "#sk-container-id-1 div.sk-serial {\n",
              "  display: flex;\n",
              "  flex-direction: column;\n",
              "  align-items: center;\n",
              "  background-color: var(--sklearn-color-background);\n",
              "  padding-right: 1em;\n",
              "  padding-left: 1em;\n",
              "}\n",
              "\n",
              "\n",
              "/* Toggleable style: style used for estimator/Pipeline/ColumnTransformer box that is\n",
              "clickable and can be expanded/collapsed.\n",
              "- Pipeline and ColumnTransformer use this feature and define the default style\n",
              "- Estimators will overwrite some part of the style using the `sk-estimator` class\n",
              "*/\n",
              "\n",
              "/* Pipeline and ColumnTransformer style (default) */\n",
              "\n",
              "#sk-container-id-1 div.sk-toggleable {\n",
              "  /* Default theme specific background. It is overwritten whether we have a\n",
              "  specific estimator or a Pipeline/ColumnTransformer */\n",
              "  background-color: var(--sklearn-color-background);\n",
              "}\n",
              "\n",
              "/* Toggleable label */\n",
              "#sk-container-id-1 label.sk-toggleable__label {\n",
              "  cursor: pointer;\n",
              "  display: flex;\n",
              "  width: 100%;\n",
              "  margin-bottom: 0;\n",
              "  padding: 0.5em;\n",
              "  box-sizing: border-box;\n",
              "  text-align: center;\n",
              "  align-items: start;\n",
              "  justify-content: space-between;\n",
              "  gap: 0.5em;\n",
              "}\n",
              "\n",
              "#sk-container-id-1 label.sk-toggleable__label .caption {\n",
              "  font-size: 0.6rem;\n",
              "  font-weight: lighter;\n",
              "  color: var(--sklearn-color-text-muted);\n",
              "}\n",
              "\n",
              "#sk-container-id-1 label.sk-toggleable__label-arrow:before {\n",
              "  /* Arrow on the left of the label */\n",
              "  content: \"▸\";\n",
              "  float: left;\n",
              "  margin-right: 0.25em;\n",
              "  color: var(--sklearn-color-icon);\n",
              "}\n",
              "\n",
              "#sk-container-id-1 label.sk-toggleable__label-arrow:hover:before {\n",
              "  color: var(--sklearn-color-text);\n",
              "}\n",
              "\n",
              "/* Toggleable content - dropdown */\n",
              "\n",
              "#sk-container-id-1 div.sk-toggleable__content {\n",
              "  max-height: 0;\n",
              "  max-width: 0;\n",
              "  overflow: hidden;\n",
              "  text-align: left;\n",
              "  /* unfitted */\n",
              "  background-color: var(--sklearn-color-unfitted-level-0);\n",
              "}\n",
              "\n",
              "#sk-container-id-1 div.sk-toggleable__content.fitted {\n",
              "  /* fitted */\n",
              "  background-color: var(--sklearn-color-fitted-level-0);\n",
              "}\n",
              "\n",
              "#sk-container-id-1 div.sk-toggleable__content pre {\n",
              "  margin: 0.2em;\n",
              "  border-radius: 0.25em;\n",
              "  color: var(--sklearn-color-text);\n",
              "  /* unfitted */\n",
              "  background-color: var(--sklearn-color-unfitted-level-0);\n",
              "}\n",
              "\n",
              "#sk-container-id-1 div.sk-toggleable__content.fitted pre {\n",
              "  /* unfitted */\n",
              "  background-color: var(--sklearn-color-fitted-level-0);\n",
              "}\n",
              "\n",
              "#sk-container-id-1 input.sk-toggleable__control:checked~div.sk-toggleable__content {\n",
              "  /* Expand drop-down */\n",
              "  max-height: 200px;\n",
              "  max-width: 100%;\n",
              "  overflow: auto;\n",
              "}\n",
              "\n",
              "#sk-container-id-1 input.sk-toggleable__control:checked~label.sk-toggleable__label-arrow:before {\n",
              "  content: \"▾\";\n",
              "}\n",
              "\n",
              "/* Pipeline/ColumnTransformer-specific style */\n",
              "\n",
              "#sk-container-id-1 div.sk-label input.sk-toggleable__control:checked~label.sk-toggleable__label {\n",
              "  color: var(--sklearn-color-text);\n",
              "  background-color: var(--sklearn-color-unfitted-level-2);\n",
              "}\n",
              "\n",
              "#sk-container-id-1 div.sk-label.fitted input.sk-toggleable__control:checked~label.sk-toggleable__label {\n",
              "  background-color: var(--sklearn-color-fitted-level-2);\n",
              "}\n",
              "\n",
              "/* Estimator-specific style */\n",
              "\n",
              "/* Colorize estimator box */\n",
              "#sk-container-id-1 div.sk-estimator input.sk-toggleable__control:checked~label.sk-toggleable__label {\n",
              "  /* unfitted */\n",
              "  background-color: var(--sklearn-color-unfitted-level-2);\n",
              "}\n",
              "\n",
              "#sk-container-id-1 div.sk-estimator.fitted input.sk-toggleable__control:checked~label.sk-toggleable__label {\n",
              "  /* fitted */\n",
              "  background-color: var(--sklearn-color-fitted-level-2);\n",
              "}\n",
              "\n",
              "#sk-container-id-1 div.sk-label label.sk-toggleable__label,\n",
              "#sk-container-id-1 div.sk-label label {\n",
              "  /* The background is the default theme color */\n",
              "  color: var(--sklearn-color-text-on-default-background);\n",
              "}\n",
              "\n",
              "/* On hover, darken the color of the background */\n",
              "#sk-container-id-1 div.sk-label:hover label.sk-toggleable__label {\n",
              "  color: var(--sklearn-color-text);\n",
              "  background-color: var(--sklearn-color-unfitted-level-2);\n",
              "}\n",
              "\n",
              "/* Label box, darken color on hover, fitted */\n",
              "#sk-container-id-1 div.sk-label.fitted:hover label.sk-toggleable__label.fitted {\n",
              "  color: var(--sklearn-color-text);\n",
              "  background-color: var(--sklearn-color-fitted-level-2);\n",
              "}\n",
              "\n",
              "/* Estimator label */\n",
              "\n",
              "#sk-container-id-1 div.sk-label label {\n",
              "  font-family: monospace;\n",
              "  font-weight: bold;\n",
              "  display: inline-block;\n",
              "  line-height: 1.2em;\n",
              "}\n",
              "\n",
              "#sk-container-id-1 div.sk-label-container {\n",
              "  text-align: center;\n",
              "}\n",
              "\n",
              "/* Estimator-specific */\n",
              "#sk-container-id-1 div.sk-estimator {\n",
              "  font-family: monospace;\n",
              "  border: 1px dotted var(--sklearn-color-border-box);\n",
              "  border-radius: 0.25em;\n",
              "  box-sizing: border-box;\n",
              "  margin-bottom: 0.5em;\n",
              "  /* unfitted */\n",
              "  background-color: var(--sklearn-color-unfitted-level-0);\n",
              "}\n",
              "\n",
              "#sk-container-id-1 div.sk-estimator.fitted {\n",
              "  /* fitted */\n",
              "  background-color: var(--sklearn-color-fitted-level-0);\n",
              "}\n",
              "\n",
              "/* on hover */\n",
              "#sk-container-id-1 div.sk-estimator:hover {\n",
              "  /* unfitted */\n",
              "  background-color: var(--sklearn-color-unfitted-level-2);\n",
              "}\n",
              "\n",
              "#sk-container-id-1 div.sk-estimator.fitted:hover {\n",
              "  /* fitted */\n",
              "  background-color: var(--sklearn-color-fitted-level-2);\n",
              "}\n",
              "\n",
              "/* Specification for estimator info (e.g. \"i\" and \"?\") */\n",
              "\n",
              "/* Common style for \"i\" and \"?\" */\n",
              "\n",
              ".sk-estimator-doc-link,\n",
              "a:link.sk-estimator-doc-link,\n",
              "a:visited.sk-estimator-doc-link {\n",
              "  float: right;\n",
              "  font-size: smaller;\n",
              "  line-height: 1em;\n",
              "  font-family: monospace;\n",
              "  background-color: var(--sklearn-color-background);\n",
              "  border-radius: 1em;\n",
              "  height: 1em;\n",
              "  width: 1em;\n",
              "  text-decoration: none !important;\n",
              "  margin-left: 0.5em;\n",
              "  text-align: center;\n",
              "  /* unfitted */\n",
              "  border: var(--sklearn-color-unfitted-level-1) 1pt solid;\n",
              "  color: var(--sklearn-color-unfitted-level-1);\n",
              "}\n",
              "\n",
              ".sk-estimator-doc-link.fitted,\n",
              "a:link.sk-estimator-doc-link.fitted,\n",
              "a:visited.sk-estimator-doc-link.fitted {\n",
              "  /* fitted */\n",
              "  border: var(--sklearn-color-fitted-level-1) 1pt solid;\n",
              "  color: var(--sklearn-color-fitted-level-1);\n",
              "}\n",
              "\n",
              "/* On hover */\n",
              "div.sk-estimator:hover .sk-estimator-doc-link:hover,\n",
              ".sk-estimator-doc-link:hover,\n",
              "div.sk-label-container:hover .sk-estimator-doc-link:hover,\n",
              ".sk-estimator-doc-link:hover {\n",
              "  /* unfitted */\n",
              "  background-color: var(--sklearn-color-unfitted-level-3);\n",
              "  color: var(--sklearn-color-background);\n",
              "  text-decoration: none;\n",
              "}\n",
              "\n",
              "div.sk-estimator.fitted:hover .sk-estimator-doc-link.fitted:hover,\n",
              ".sk-estimator-doc-link.fitted:hover,\n",
              "div.sk-label-container:hover .sk-estimator-doc-link.fitted:hover,\n",
              ".sk-estimator-doc-link.fitted:hover {\n",
              "  /* fitted */\n",
              "  background-color: var(--sklearn-color-fitted-level-3);\n",
              "  color: var(--sklearn-color-background);\n",
              "  text-decoration: none;\n",
              "}\n",
              "\n",
              "/* Span, style for the box shown on hovering the info icon */\n",
              ".sk-estimator-doc-link span {\n",
              "  display: none;\n",
              "  z-index: 9999;\n",
              "  position: relative;\n",
              "  font-weight: normal;\n",
              "  right: .2ex;\n",
              "  padding: .5ex;\n",
              "  margin: .5ex;\n",
              "  width: min-content;\n",
              "  min-width: 20ex;\n",
              "  max-width: 50ex;\n",
              "  color: var(--sklearn-color-text);\n",
              "  box-shadow: 2pt 2pt 4pt #999;\n",
              "  /* unfitted */\n",
              "  background: var(--sklearn-color-unfitted-level-0);\n",
              "  border: .5pt solid var(--sklearn-color-unfitted-level-3);\n",
              "}\n",
              "\n",
              ".sk-estimator-doc-link.fitted span {\n",
              "  /* fitted */\n",
              "  background: var(--sklearn-color-fitted-level-0);\n",
              "  border: var(--sklearn-color-fitted-level-3);\n",
              "}\n",
              "\n",
              ".sk-estimator-doc-link:hover span {\n",
              "  display: block;\n",
              "}\n",
              "\n",
              "/* \"?\"-specific style due to the `<a>` HTML tag */\n",
              "\n",
              "#sk-container-id-1 a.estimator_doc_link {\n",
              "  float: right;\n",
              "  font-size: 1rem;\n",
              "  line-height: 1em;\n",
              "  font-family: monospace;\n",
              "  background-color: var(--sklearn-color-background);\n",
              "  border-radius: 1rem;\n",
              "  height: 1rem;\n",
              "  width: 1rem;\n",
              "  text-decoration: none;\n",
              "  /* unfitted */\n",
              "  color: var(--sklearn-color-unfitted-level-1);\n",
              "  border: var(--sklearn-color-unfitted-level-1) 1pt solid;\n",
              "}\n",
              "\n",
              "#sk-container-id-1 a.estimator_doc_link.fitted {\n",
              "  /* fitted */\n",
              "  border: var(--sklearn-color-fitted-level-1) 1pt solid;\n",
              "  color: var(--sklearn-color-fitted-level-1);\n",
              "}\n",
              "\n",
              "/* On hover */\n",
              "#sk-container-id-1 a.estimator_doc_link:hover {\n",
              "  /* unfitted */\n",
              "  background-color: var(--sklearn-color-unfitted-level-3);\n",
              "  color: var(--sklearn-color-background);\n",
              "  text-decoration: none;\n",
              "}\n",
              "\n",
              "#sk-container-id-1 a.estimator_doc_link.fitted:hover {\n",
              "  /* fitted */\n",
              "  background-color: var(--sklearn-color-fitted-level-3);\n",
              "}\n",
              "</style><div id=\"sk-container-id-1\" class=\"sk-top-container\"><div class=\"sk-text-repr-fallback\"><pre>Pipeline(steps=[(&#x27;randomforestclassifier&#x27;, RandomForestClassifier())])</pre><b>In a Jupyter environment, please rerun this cell to show the HTML representation or trust the notebook. <br />On GitHub, the HTML representation is unable to render, please try loading this page with nbviewer.org.</b></div><div class=\"sk-container\" hidden><div class=\"sk-item sk-dashed-wrapped\"><div class=\"sk-label-container\"><div class=\"sk-label  sk-toggleable\"><input class=\"sk-toggleable__control sk-hidden--visually\" id=\"sk-estimator-id-1\" type=\"checkbox\" ><label for=\"sk-estimator-id-1\" class=\"sk-toggleable__label  sk-toggleable__label-arrow\"><div><div>Pipeline</div></div><div><a class=\"sk-estimator-doc-link \" rel=\"noreferrer\" target=\"_blank\" href=\"https://scikit-learn.org/1.6/modules/generated/sklearn.pipeline.Pipeline.html\">?<span>Documentation for Pipeline</span></a><span class=\"sk-estimator-doc-link \">i<span>Not fitted</span></span></div></label><div class=\"sk-toggleable__content \"><pre>Pipeline(steps=[(&#x27;randomforestclassifier&#x27;, RandomForestClassifier())])</pre></div> </div></div><div class=\"sk-serial\"><div class=\"sk-item\"><div class=\"sk-estimator  sk-toggleable\"><input class=\"sk-toggleable__control sk-hidden--visually\" id=\"sk-estimator-id-2\" type=\"checkbox\" ><label for=\"sk-estimator-id-2\" class=\"sk-toggleable__label  sk-toggleable__label-arrow\"><div><div>RandomForestClassifier</div></div><div><a class=\"sk-estimator-doc-link \" rel=\"noreferrer\" target=\"_blank\" href=\"https://scikit-learn.org/1.6/modules/generated/sklearn.ensemble.RandomForestClassifier.html\">?<span>Documentation for RandomForestClassifier</span></a></div></label><div class=\"sk-toggleable__content \"><pre>RandomForestClassifier()</pre></div> </div></div></div></div></div></div>"
            ]
          },
          "metadata": {},
          "execution_count": 22
        }
      ],
      "source": [
        "parameters = {\n",
        "    'randomforestclassifier__n_estimators': (20, 50, 100)\n",
        "}\n",
        "\n",
        "pipeline = make_pipeline(RandomForestClassifier())\n",
        "\n",
        "pipeline"
      ]
    },
    {
      "cell_type": "code",
      "execution_count": null,
      "id": "1d93c4ca",
      "metadata": {
        "execution": {
          "iopub.execute_input": "2022-08-22T09:10:01.386844Z",
          "iopub.status.busy": "2022-08-22T09:10:01.386390Z",
          "iopub.status.idle": "2022-08-22T09:10:01.390922Z",
          "shell.execute_reply": "2022-08-22T09:10:01.390002Z"
        },
        "papermill": {
          "duration": 0.022166,
          "end_time": "2022-08-22T09:10:01.393054",
          "exception": false,
          "start_time": "2022-08-22T09:10:01.370888",
          "status": "completed"
        },
        "tags": [],
        "id": "1d93c4ca"
      },
      "outputs": [],
      "source": [
        "gridsearch = GridSearchCV(pipeline, parameters, verbose=1, n_jobs= -1)"
      ]
    },
    {
      "cell_type": "code",
      "execution_count": null,
      "id": "3d554b1d",
      "metadata": {
        "execution": {
          "iopub.execute_input": "2022-08-22T09:10:01.423406Z",
          "iopub.status.busy": "2022-08-22T09:10:01.422728Z",
          "iopub.status.idle": "2022-08-22T09:10:03.897953Z",
          "shell.execute_reply": "2022-08-22T09:10:03.896311Z"
        },
        "papermill": {
          "duration": 2.493455,
          "end_time": "2022-08-22T09:10:03.900538",
          "exception": false,
          "start_time": "2022-08-22T09:10:01.407083",
          "status": "completed"
        },
        "tags": [],
        "id": "3d554b1d",
        "outputId": "0daacf20-26d9-4fd7-fa44-f21b46ffafe7",
        "colab": {
          "base_uri": "https://localhost:8080/",
          "height": 165
        }
      },
      "outputs": [
        {
          "output_type": "stream",
          "name": "stdout",
          "text": [
            "Fitting 5 folds for each of 3 candidates, totalling 15 fits\n"
          ]
        },
        {
          "output_type": "execute_result",
          "data": {
            "text/plain": [
              "GridSearchCV(estimator=Pipeline(steps=[('randomforestclassifier',\n",
              "                                        RandomForestClassifier())]),\n",
              "             n_jobs=-1,\n",
              "             param_grid={'randomforestclassifier__n_estimators': (20, 50, 100)},\n",
              "             verbose=1)"
            ],
            "text/html": [
              "<style>#sk-container-id-2 {\n",
              "  /* Definition of color scheme common for light and dark mode */\n",
              "  --sklearn-color-text: #000;\n",
              "  --sklearn-color-text-muted: #666;\n",
              "  --sklearn-color-line: gray;\n",
              "  /* Definition of color scheme for unfitted estimators */\n",
              "  --sklearn-color-unfitted-level-0: #fff5e6;\n",
              "  --sklearn-color-unfitted-level-1: #f6e4d2;\n",
              "  --sklearn-color-unfitted-level-2: #ffe0b3;\n",
              "  --sklearn-color-unfitted-level-3: chocolate;\n",
              "  /* Definition of color scheme for fitted estimators */\n",
              "  --sklearn-color-fitted-level-0: #f0f8ff;\n",
              "  --sklearn-color-fitted-level-1: #d4ebff;\n",
              "  --sklearn-color-fitted-level-2: #b3dbfd;\n",
              "  --sklearn-color-fitted-level-3: cornflowerblue;\n",
              "\n",
              "  /* Specific color for light theme */\n",
              "  --sklearn-color-text-on-default-background: var(--sg-text-color, var(--theme-code-foreground, var(--jp-content-font-color1, black)));\n",
              "  --sklearn-color-background: var(--sg-background-color, var(--theme-background, var(--jp-layout-color0, white)));\n",
              "  --sklearn-color-border-box: var(--sg-text-color, var(--theme-code-foreground, var(--jp-content-font-color1, black)));\n",
              "  --sklearn-color-icon: #696969;\n",
              "\n",
              "  @media (prefers-color-scheme: dark) {\n",
              "    /* Redefinition of color scheme for dark theme */\n",
              "    --sklearn-color-text-on-default-background: var(--sg-text-color, var(--theme-code-foreground, var(--jp-content-font-color1, white)));\n",
              "    --sklearn-color-background: var(--sg-background-color, var(--theme-background, var(--jp-layout-color0, #111)));\n",
              "    --sklearn-color-border-box: var(--sg-text-color, var(--theme-code-foreground, var(--jp-content-font-color1, white)));\n",
              "    --sklearn-color-icon: #878787;\n",
              "  }\n",
              "}\n",
              "\n",
              "#sk-container-id-2 {\n",
              "  color: var(--sklearn-color-text);\n",
              "}\n",
              "\n",
              "#sk-container-id-2 pre {\n",
              "  padding: 0;\n",
              "}\n",
              "\n",
              "#sk-container-id-2 input.sk-hidden--visually {\n",
              "  border: 0;\n",
              "  clip: rect(1px 1px 1px 1px);\n",
              "  clip: rect(1px, 1px, 1px, 1px);\n",
              "  height: 1px;\n",
              "  margin: -1px;\n",
              "  overflow: hidden;\n",
              "  padding: 0;\n",
              "  position: absolute;\n",
              "  width: 1px;\n",
              "}\n",
              "\n",
              "#sk-container-id-2 div.sk-dashed-wrapped {\n",
              "  border: 1px dashed var(--sklearn-color-line);\n",
              "  margin: 0 0.4em 0.5em 0.4em;\n",
              "  box-sizing: border-box;\n",
              "  padding-bottom: 0.4em;\n",
              "  background-color: var(--sklearn-color-background);\n",
              "}\n",
              "\n",
              "#sk-container-id-2 div.sk-container {\n",
              "  /* jupyter's `normalize.less` sets `[hidden] { display: none; }`\n",
              "     but bootstrap.min.css set `[hidden] { display: none !important; }`\n",
              "     so we also need the `!important` here to be able to override the\n",
              "     default hidden behavior on the sphinx rendered scikit-learn.org.\n",
              "     See: https://github.com/scikit-learn/scikit-learn/issues/21755 */\n",
              "  display: inline-block !important;\n",
              "  position: relative;\n",
              "}\n",
              "\n",
              "#sk-container-id-2 div.sk-text-repr-fallback {\n",
              "  display: none;\n",
              "}\n",
              "\n",
              "div.sk-parallel-item,\n",
              "div.sk-serial,\n",
              "div.sk-item {\n",
              "  /* draw centered vertical line to link estimators */\n",
              "  background-image: linear-gradient(var(--sklearn-color-text-on-default-background), var(--sklearn-color-text-on-default-background));\n",
              "  background-size: 2px 100%;\n",
              "  background-repeat: no-repeat;\n",
              "  background-position: center center;\n",
              "}\n",
              "\n",
              "/* Parallel-specific style estimator block */\n",
              "\n",
              "#sk-container-id-2 div.sk-parallel-item::after {\n",
              "  content: \"\";\n",
              "  width: 100%;\n",
              "  border-bottom: 2px solid var(--sklearn-color-text-on-default-background);\n",
              "  flex-grow: 1;\n",
              "}\n",
              "\n",
              "#sk-container-id-2 div.sk-parallel {\n",
              "  display: flex;\n",
              "  align-items: stretch;\n",
              "  justify-content: center;\n",
              "  background-color: var(--sklearn-color-background);\n",
              "  position: relative;\n",
              "}\n",
              "\n",
              "#sk-container-id-2 div.sk-parallel-item {\n",
              "  display: flex;\n",
              "  flex-direction: column;\n",
              "}\n",
              "\n",
              "#sk-container-id-2 div.sk-parallel-item:first-child::after {\n",
              "  align-self: flex-end;\n",
              "  width: 50%;\n",
              "}\n",
              "\n",
              "#sk-container-id-2 div.sk-parallel-item:last-child::after {\n",
              "  align-self: flex-start;\n",
              "  width: 50%;\n",
              "}\n",
              "\n",
              "#sk-container-id-2 div.sk-parallel-item:only-child::after {\n",
              "  width: 0;\n",
              "}\n",
              "\n",
              "/* Serial-specific style estimator block */\n",
              "\n",
              "#sk-container-id-2 div.sk-serial {\n",
              "  display: flex;\n",
              "  flex-direction: column;\n",
              "  align-items: center;\n",
              "  background-color: var(--sklearn-color-background);\n",
              "  padding-right: 1em;\n",
              "  padding-left: 1em;\n",
              "}\n",
              "\n",
              "\n",
              "/* Toggleable style: style used for estimator/Pipeline/ColumnTransformer box that is\n",
              "clickable and can be expanded/collapsed.\n",
              "- Pipeline and ColumnTransformer use this feature and define the default style\n",
              "- Estimators will overwrite some part of the style using the `sk-estimator` class\n",
              "*/\n",
              "\n",
              "/* Pipeline and ColumnTransformer style (default) */\n",
              "\n",
              "#sk-container-id-2 div.sk-toggleable {\n",
              "  /* Default theme specific background. It is overwritten whether we have a\n",
              "  specific estimator or a Pipeline/ColumnTransformer */\n",
              "  background-color: var(--sklearn-color-background);\n",
              "}\n",
              "\n",
              "/* Toggleable label */\n",
              "#sk-container-id-2 label.sk-toggleable__label {\n",
              "  cursor: pointer;\n",
              "  display: flex;\n",
              "  width: 100%;\n",
              "  margin-bottom: 0;\n",
              "  padding: 0.5em;\n",
              "  box-sizing: border-box;\n",
              "  text-align: center;\n",
              "  align-items: start;\n",
              "  justify-content: space-between;\n",
              "  gap: 0.5em;\n",
              "}\n",
              "\n",
              "#sk-container-id-2 label.sk-toggleable__label .caption {\n",
              "  font-size: 0.6rem;\n",
              "  font-weight: lighter;\n",
              "  color: var(--sklearn-color-text-muted);\n",
              "}\n",
              "\n",
              "#sk-container-id-2 label.sk-toggleable__label-arrow:before {\n",
              "  /* Arrow on the left of the label */\n",
              "  content: \"▸\";\n",
              "  float: left;\n",
              "  margin-right: 0.25em;\n",
              "  color: var(--sklearn-color-icon);\n",
              "}\n",
              "\n",
              "#sk-container-id-2 label.sk-toggleable__label-arrow:hover:before {\n",
              "  color: var(--sklearn-color-text);\n",
              "}\n",
              "\n",
              "/* Toggleable content - dropdown */\n",
              "\n",
              "#sk-container-id-2 div.sk-toggleable__content {\n",
              "  max-height: 0;\n",
              "  max-width: 0;\n",
              "  overflow: hidden;\n",
              "  text-align: left;\n",
              "  /* unfitted */\n",
              "  background-color: var(--sklearn-color-unfitted-level-0);\n",
              "}\n",
              "\n",
              "#sk-container-id-2 div.sk-toggleable__content.fitted {\n",
              "  /* fitted */\n",
              "  background-color: var(--sklearn-color-fitted-level-0);\n",
              "}\n",
              "\n",
              "#sk-container-id-2 div.sk-toggleable__content pre {\n",
              "  margin: 0.2em;\n",
              "  border-radius: 0.25em;\n",
              "  color: var(--sklearn-color-text);\n",
              "  /* unfitted */\n",
              "  background-color: var(--sklearn-color-unfitted-level-0);\n",
              "}\n",
              "\n",
              "#sk-container-id-2 div.sk-toggleable__content.fitted pre {\n",
              "  /* unfitted */\n",
              "  background-color: var(--sklearn-color-fitted-level-0);\n",
              "}\n",
              "\n",
              "#sk-container-id-2 input.sk-toggleable__control:checked~div.sk-toggleable__content {\n",
              "  /* Expand drop-down */\n",
              "  max-height: 200px;\n",
              "  max-width: 100%;\n",
              "  overflow: auto;\n",
              "}\n",
              "\n",
              "#sk-container-id-2 input.sk-toggleable__control:checked~label.sk-toggleable__label-arrow:before {\n",
              "  content: \"▾\";\n",
              "}\n",
              "\n",
              "/* Pipeline/ColumnTransformer-specific style */\n",
              "\n",
              "#sk-container-id-2 div.sk-label input.sk-toggleable__control:checked~label.sk-toggleable__label {\n",
              "  color: var(--sklearn-color-text);\n",
              "  background-color: var(--sklearn-color-unfitted-level-2);\n",
              "}\n",
              "\n",
              "#sk-container-id-2 div.sk-label.fitted input.sk-toggleable__control:checked~label.sk-toggleable__label {\n",
              "  background-color: var(--sklearn-color-fitted-level-2);\n",
              "}\n",
              "\n",
              "/* Estimator-specific style */\n",
              "\n",
              "/* Colorize estimator box */\n",
              "#sk-container-id-2 div.sk-estimator input.sk-toggleable__control:checked~label.sk-toggleable__label {\n",
              "  /* unfitted */\n",
              "  background-color: var(--sklearn-color-unfitted-level-2);\n",
              "}\n",
              "\n",
              "#sk-container-id-2 div.sk-estimator.fitted input.sk-toggleable__control:checked~label.sk-toggleable__label {\n",
              "  /* fitted */\n",
              "  background-color: var(--sklearn-color-fitted-level-2);\n",
              "}\n",
              "\n",
              "#sk-container-id-2 div.sk-label label.sk-toggleable__label,\n",
              "#sk-container-id-2 div.sk-label label {\n",
              "  /* The background is the default theme color */\n",
              "  color: var(--sklearn-color-text-on-default-background);\n",
              "}\n",
              "\n",
              "/* On hover, darken the color of the background */\n",
              "#sk-container-id-2 div.sk-label:hover label.sk-toggleable__label {\n",
              "  color: var(--sklearn-color-text);\n",
              "  background-color: var(--sklearn-color-unfitted-level-2);\n",
              "}\n",
              "\n",
              "/* Label box, darken color on hover, fitted */\n",
              "#sk-container-id-2 div.sk-label.fitted:hover label.sk-toggleable__label.fitted {\n",
              "  color: var(--sklearn-color-text);\n",
              "  background-color: var(--sklearn-color-fitted-level-2);\n",
              "}\n",
              "\n",
              "/* Estimator label */\n",
              "\n",
              "#sk-container-id-2 div.sk-label label {\n",
              "  font-family: monospace;\n",
              "  font-weight: bold;\n",
              "  display: inline-block;\n",
              "  line-height: 1.2em;\n",
              "}\n",
              "\n",
              "#sk-container-id-2 div.sk-label-container {\n",
              "  text-align: center;\n",
              "}\n",
              "\n",
              "/* Estimator-specific */\n",
              "#sk-container-id-2 div.sk-estimator {\n",
              "  font-family: monospace;\n",
              "  border: 1px dotted var(--sklearn-color-border-box);\n",
              "  border-radius: 0.25em;\n",
              "  box-sizing: border-box;\n",
              "  margin-bottom: 0.5em;\n",
              "  /* unfitted */\n",
              "  background-color: var(--sklearn-color-unfitted-level-0);\n",
              "}\n",
              "\n",
              "#sk-container-id-2 div.sk-estimator.fitted {\n",
              "  /* fitted */\n",
              "  background-color: var(--sklearn-color-fitted-level-0);\n",
              "}\n",
              "\n",
              "/* on hover */\n",
              "#sk-container-id-2 div.sk-estimator:hover {\n",
              "  /* unfitted */\n",
              "  background-color: var(--sklearn-color-unfitted-level-2);\n",
              "}\n",
              "\n",
              "#sk-container-id-2 div.sk-estimator.fitted:hover {\n",
              "  /* fitted */\n",
              "  background-color: var(--sklearn-color-fitted-level-2);\n",
              "}\n",
              "\n",
              "/* Specification for estimator info (e.g. \"i\" and \"?\") */\n",
              "\n",
              "/* Common style for \"i\" and \"?\" */\n",
              "\n",
              ".sk-estimator-doc-link,\n",
              "a:link.sk-estimator-doc-link,\n",
              "a:visited.sk-estimator-doc-link {\n",
              "  float: right;\n",
              "  font-size: smaller;\n",
              "  line-height: 1em;\n",
              "  font-family: monospace;\n",
              "  background-color: var(--sklearn-color-background);\n",
              "  border-radius: 1em;\n",
              "  height: 1em;\n",
              "  width: 1em;\n",
              "  text-decoration: none !important;\n",
              "  margin-left: 0.5em;\n",
              "  text-align: center;\n",
              "  /* unfitted */\n",
              "  border: var(--sklearn-color-unfitted-level-1) 1pt solid;\n",
              "  color: var(--sklearn-color-unfitted-level-1);\n",
              "}\n",
              "\n",
              ".sk-estimator-doc-link.fitted,\n",
              "a:link.sk-estimator-doc-link.fitted,\n",
              "a:visited.sk-estimator-doc-link.fitted {\n",
              "  /* fitted */\n",
              "  border: var(--sklearn-color-fitted-level-1) 1pt solid;\n",
              "  color: var(--sklearn-color-fitted-level-1);\n",
              "}\n",
              "\n",
              "/* On hover */\n",
              "div.sk-estimator:hover .sk-estimator-doc-link:hover,\n",
              ".sk-estimator-doc-link:hover,\n",
              "div.sk-label-container:hover .sk-estimator-doc-link:hover,\n",
              ".sk-estimator-doc-link:hover {\n",
              "  /* unfitted */\n",
              "  background-color: var(--sklearn-color-unfitted-level-3);\n",
              "  color: var(--sklearn-color-background);\n",
              "  text-decoration: none;\n",
              "}\n",
              "\n",
              "div.sk-estimator.fitted:hover .sk-estimator-doc-link.fitted:hover,\n",
              ".sk-estimator-doc-link.fitted:hover,\n",
              "div.sk-label-container:hover .sk-estimator-doc-link.fitted:hover,\n",
              ".sk-estimator-doc-link.fitted:hover {\n",
              "  /* fitted */\n",
              "  background-color: var(--sklearn-color-fitted-level-3);\n",
              "  color: var(--sklearn-color-background);\n",
              "  text-decoration: none;\n",
              "}\n",
              "\n",
              "/* Span, style for the box shown on hovering the info icon */\n",
              ".sk-estimator-doc-link span {\n",
              "  display: none;\n",
              "  z-index: 9999;\n",
              "  position: relative;\n",
              "  font-weight: normal;\n",
              "  right: .2ex;\n",
              "  padding: .5ex;\n",
              "  margin: .5ex;\n",
              "  width: min-content;\n",
              "  min-width: 20ex;\n",
              "  max-width: 50ex;\n",
              "  color: var(--sklearn-color-text);\n",
              "  box-shadow: 2pt 2pt 4pt #999;\n",
              "  /* unfitted */\n",
              "  background: var(--sklearn-color-unfitted-level-0);\n",
              "  border: .5pt solid var(--sklearn-color-unfitted-level-3);\n",
              "}\n",
              "\n",
              ".sk-estimator-doc-link.fitted span {\n",
              "  /* fitted */\n",
              "  background: var(--sklearn-color-fitted-level-0);\n",
              "  border: var(--sklearn-color-fitted-level-3);\n",
              "}\n",
              "\n",
              ".sk-estimator-doc-link:hover span {\n",
              "  display: block;\n",
              "}\n",
              "\n",
              "/* \"?\"-specific style due to the `<a>` HTML tag */\n",
              "\n",
              "#sk-container-id-2 a.estimator_doc_link {\n",
              "  float: right;\n",
              "  font-size: 1rem;\n",
              "  line-height: 1em;\n",
              "  font-family: monospace;\n",
              "  background-color: var(--sklearn-color-background);\n",
              "  border-radius: 1rem;\n",
              "  height: 1rem;\n",
              "  width: 1rem;\n",
              "  text-decoration: none;\n",
              "  /* unfitted */\n",
              "  color: var(--sklearn-color-unfitted-level-1);\n",
              "  border: var(--sklearn-color-unfitted-level-1) 1pt solid;\n",
              "}\n",
              "\n",
              "#sk-container-id-2 a.estimator_doc_link.fitted {\n",
              "  /* fitted */\n",
              "  border: var(--sklearn-color-fitted-level-1) 1pt solid;\n",
              "  color: var(--sklearn-color-fitted-level-1);\n",
              "}\n",
              "\n",
              "/* On hover */\n",
              "#sk-container-id-2 a.estimator_doc_link:hover {\n",
              "  /* unfitted */\n",
              "  background-color: var(--sklearn-color-unfitted-level-3);\n",
              "  color: var(--sklearn-color-background);\n",
              "  text-decoration: none;\n",
              "}\n",
              "\n",
              "#sk-container-id-2 a.estimator_doc_link.fitted:hover {\n",
              "  /* fitted */\n",
              "  background-color: var(--sklearn-color-fitted-level-3);\n",
              "}\n",
              "</style><div id=\"sk-container-id-2\" class=\"sk-top-container\"><div class=\"sk-text-repr-fallback\"><pre>GridSearchCV(estimator=Pipeline(steps=[(&#x27;randomforestclassifier&#x27;,\n",
              "                                        RandomForestClassifier())]),\n",
              "             n_jobs=-1,\n",
              "             param_grid={&#x27;randomforestclassifier__n_estimators&#x27;: (20, 50, 100)},\n",
              "             verbose=1)</pre><b>In a Jupyter environment, please rerun this cell to show the HTML representation or trust the notebook. <br />On GitHub, the HTML representation is unable to render, please try loading this page with nbviewer.org.</b></div><div class=\"sk-container\" hidden><div class=\"sk-item sk-dashed-wrapped\"><div class=\"sk-label-container\"><div class=\"sk-label fitted sk-toggleable\"><input class=\"sk-toggleable__control sk-hidden--visually\" id=\"sk-estimator-id-3\" type=\"checkbox\" ><label for=\"sk-estimator-id-3\" class=\"sk-toggleable__label fitted sk-toggleable__label-arrow\"><div><div>GridSearchCV</div></div><div><a class=\"sk-estimator-doc-link fitted\" rel=\"noreferrer\" target=\"_blank\" href=\"https://scikit-learn.org/1.6/modules/generated/sklearn.model_selection.GridSearchCV.html\">?<span>Documentation for GridSearchCV</span></a><span class=\"sk-estimator-doc-link fitted\">i<span>Fitted</span></span></div></label><div class=\"sk-toggleable__content fitted\"><pre>GridSearchCV(estimator=Pipeline(steps=[(&#x27;randomforestclassifier&#x27;,\n",
              "                                        RandomForestClassifier())]),\n",
              "             n_jobs=-1,\n",
              "             param_grid={&#x27;randomforestclassifier__n_estimators&#x27;: (20, 50, 100)},\n",
              "             verbose=1)</pre></div> </div></div><div class=\"sk-parallel\"><div class=\"sk-parallel-item\"><div class=\"sk-item\"><div class=\"sk-label-container\"><div class=\"sk-label fitted sk-toggleable\"><input class=\"sk-toggleable__control sk-hidden--visually\" id=\"sk-estimator-id-4\" type=\"checkbox\" ><label for=\"sk-estimator-id-4\" class=\"sk-toggleable__label fitted sk-toggleable__label-arrow\"><div><div>best_estimator_: Pipeline</div></div></label><div class=\"sk-toggleable__content fitted\"><pre>Pipeline(steps=[(&#x27;randomforestclassifier&#x27;,\n",
              "                 RandomForestClassifier(n_estimators=50))])</pre></div> </div></div><div class=\"sk-serial\"><div class=\"sk-item\"><div class=\"sk-serial\"><div class=\"sk-item\"><div class=\"sk-estimator fitted sk-toggleable\"><input class=\"sk-toggleable__control sk-hidden--visually\" id=\"sk-estimator-id-5\" type=\"checkbox\" ><label for=\"sk-estimator-id-5\" class=\"sk-toggleable__label fitted sk-toggleable__label-arrow\"><div><div>RandomForestClassifier</div></div><div><a class=\"sk-estimator-doc-link fitted\" rel=\"noreferrer\" target=\"_blank\" href=\"https://scikit-learn.org/1.6/modules/generated/sklearn.ensemble.RandomForestClassifier.html\">?<span>Documentation for RandomForestClassifier</span></a></div></label><div class=\"sk-toggleable__content fitted\"><pre>RandomForestClassifier(n_estimators=50)</pre></div> </div></div></div></div></div></div></div></div></div></div></div>"
            ]
          },
          "metadata": {},
          "execution_count": 24
        }
      ],
      "source": [
        "gridsearch.fit(X_train,y_train)"
      ]
    },
    {
      "cell_type": "code",
      "execution_count": null,
      "id": "2ef83779",
      "metadata": {
        "execution": {
          "iopub.execute_input": "2022-08-22T09:10:03.932040Z",
          "iopub.status.busy": "2022-08-22T09:10:03.931566Z",
          "iopub.status.idle": "2022-08-22T09:10:03.939524Z",
          "shell.execute_reply": "2022-08-22T09:10:03.937765Z"
        },
        "papermill": {
          "duration": 0.028045,
          "end_time": "2022-08-22T09:10:03.943090",
          "exception": false,
          "start_time": "2022-08-22T09:10:03.915045",
          "status": "completed"
        },
        "tags": [],
        "id": "2ef83779",
        "outputId": "31eec0fc-2918-4be9-971d-92f74fe23a06",
        "colab": {
          "base_uri": "https://localhost:8080/"
        }
      },
      "outputs": [
        {
          "output_type": "stream",
          "name": "stdout",
          "text": [
            "Best score 0.871\n",
            "Best parameters set: \n",
            "\trandomforestclassifier__n_estimators: 50\n"
          ]
        }
      ],
      "source": [
        "print(\"Best score %0.3f\" % gridsearch.best_score_)\n",
        "print(\"Best parameters set: \")\n",
        "best_parameters = gridsearch.best_estimator_.get_params()\n",
        "\n",
        "for params in sorted(parameters.keys()):\n",
        "    print(\"\\t%s: %r\" % (params, best_parameters[params]))"
      ]
    },
    {
      "cell_type": "markdown",
      "id": "603eb7ac",
      "metadata": {
        "papermill": {
          "duration": 0.01598,
          "end_time": "2022-08-22T09:10:03.975767",
          "exception": false,
          "start_time": "2022-08-22T09:10:03.959787",
          "status": "completed"
        },
        "tags": [],
        "id": "603eb7ac"
      },
      "source": [
        "# Given the following customer, would this person order?"
      ]
    },
    {
      "cell_type": "code",
      "execution_count": null,
      "id": "ef50e24e",
      "metadata": {
        "execution": {
          "iopub.execute_input": "2022-08-22T09:10:04.011063Z",
          "iopub.status.busy": "2022-08-22T09:10:04.010555Z",
          "iopub.status.idle": "2022-08-22T09:10:04.027288Z",
          "shell.execute_reply": "2022-08-22T09:10:04.025447Z"
        },
        "papermill": {
          "duration": 0.035503,
          "end_time": "2022-08-22T09:10:04.029939",
          "exception": false,
          "start_time": "2022-08-22T09:10:03.994436",
          "status": "completed"
        },
        "tags": [],
        "id": "ef50e24e",
        "outputId": "bcc0354a-36ee-42cd-a643-7e56934ad8e6",
        "colab": {
          "base_uri": "https://localhost:8080/",
          "height": 415
        }
      },
      "outputs": [
        {
          "output_type": "stream",
          "name": "stdout",
          "text": [
            "304\n"
          ]
        },
        {
          "output_type": "execute_result",
          "data": {
            "text/plain": [
              "Age                               22.0000\n",
              "Gender                             0.0000\n",
              "Marital Status                     1.0000\n",
              "Occupation                         0.0000\n",
              "Monthly Income                     0.0000\n",
              "Educational Qualifications         1.0000\n",
              "Family size                        3.0000\n",
              "latitude                          12.9770\n",
              "longitude                         77.5773\n",
              "Pin code                      560009.0000\n",
              "Name: 304, dtype: float64"
            ],
            "text/html": [
              "<div>\n",
              "<style scoped>\n",
              "    .dataframe tbody tr th:only-of-type {\n",
              "        vertical-align: middle;\n",
              "    }\n",
              "\n",
              "    .dataframe tbody tr th {\n",
              "        vertical-align: top;\n",
              "    }\n",
              "\n",
              "    .dataframe thead th {\n",
              "        text-align: right;\n",
              "    }\n",
              "</style>\n",
              "<table border=\"1\" class=\"dataframe\">\n",
              "  <thead>\n",
              "    <tr style=\"text-align: right;\">\n",
              "      <th></th>\n",
              "      <th>304</th>\n",
              "    </tr>\n",
              "  </thead>\n",
              "  <tbody>\n",
              "    <tr>\n",
              "      <th>Age</th>\n",
              "      <td>22.0000</td>\n",
              "    </tr>\n",
              "    <tr>\n",
              "      <th>Gender</th>\n",
              "      <td>0.0000</td>\n",
              "    </tr>\n",
              "    <tr>\n",
              "      <th>Marital Status</th>\n",
              "      <td>1.0000</td>\n",
              "    </tr>\n",
              "    <tr>\n",
              "      <th>Occupation</th>\n",
              "      <td>0.0000</td>\n",
              "    </tr>\n",
              "    <tr>\n",
              "      <th>Monthly Income</th>\n",
              "      <td>0.0000</td>\n",
              "    </tr>\n",
              "    <tr>\n",
              "      <th>Educational Qualifications</th>\n",
              "      <td>1.0000</td>\n",
              "    </tr>\n",
              "    <tr>\n",
              "      <th>Family size</th>\n",
              "      <td>3.0000</td>\n",
              "    </tr>\n",
              "    <tr>\n",
              "      <th>latitude</th>\n",
              "      <td>12.9770</td>\n",
              "    </tr>\n",
              "    <tr>\n",
              "      <th>longitude</th>\n",
              "      <td>77.5773</td>\n",
              "    </tr>\n",
              "    <tr>\n",
              "      <th>Pin code</th>\n",
              "      <td>560009.0000</td>\n",
              "    </tr>\n",
              "  </tbody>\n",
              "</table>\n",
              "</div><br><label><b>dtype:</b> float64</label>"
            ]
          },
          "metadata": {},
          "execution_count": 26
        }
      ],
      "source": [
        "r = random.randint(0,len(data))\n",
        "print(r)\n",
        "new_customer = data.drop('Output', axis=1).iloc[r]\n",
        "new_customer"
      ]
    },
    {
      "cell_type": "code",
      "execution_count": null,
      "id": "cd5a618e",
      "metadata": {
        "execution": {
          "iopub.execute_input": "2022-08-22T09:10:04.061623Z",
          "iopub.status.busy": "2022-08-22T09:10:04.060096Z",
          "iopub.status.idle": "2022-08-22T09:10:04.081988Z",
          "shell.execute_reply": "2022-08-22T09:10:04.080792Z"
        },
        "papermill": {
          "duration": 0.039971,
          "end_time": "2022-08-22T09:10:04.084447",
          "exception": false,
          "start_time": "2022-08-22T09:10:04.044476",
          "status": "completed"
        },
        "tags": [],
        "id": "cd5a618e",
        "outputId": "47313e2f-e6e5-4971-c760-99c41e29a2f4",
        "colab": {
          "base_uri": "https://localhost:8080/"
        }
      },
      "outputs": [
        {
          "output_type": "execute_result",
          "data": {
            "text/plain": [
              "array([1])"
            ]
          },
          "metadata": {},
          "execution_count": 27
        }
      ],
      "source": [
        "rfc.predict(new_customer.values.reshape(1,10)) # predicted output"
      ]
    },
    {
      "cell_type": "code",
      "execution_count": null,
      "id": "28d2b79e",
      "metadata": {
        "execution": {
          "iopub.execute_input": "2022-08-22T09:10:04.117430Z",
          "iopub.status.busy": "2022-08-22T09:10:04.116706Z",
          "iopub.status.idle": "2022-08-22T09:10:04.128462Z",
          "shell.execute_reply": "2022-08-22T09:10:04.126758Z"
        },
        "papermill": {
          "duration": 0.031973,
          "end_time": "2022-08-22T09:10:04.132241",
          "exception": false,
          "start_time": "2022-08-22T09:10:04.100268",
          "status": "completed"
        },
        "tags": [],
        "id": "28d2b79e",
        "outputId": "eef4030b-4c90-4fdf-d528-59fe4ca87fe3",
        "colab": {
          "base_uri": "https://localhost:8080/"
        }
      },
      "outputs": [
        {
          "output_type": "execute_result",
          "data": {
            "text/plain": [
              "np.float64(1.0)"
            ]
          },
          "metadata": {},
          "execution_count": 28
        }
      ],
      "source": [
        "data.iloc[r]['Output'] # actual Output"
      ]
    }
  ],
  "metadata": {
    "kernelspec": {
      "display_name": "Python 3",
      "language": "python",
      "name": "python3"
    },
    "language_info": {
      "codemirror_mode": {
        "name": "ipython",
        "version": 3
      },
      "file_extension": ".py",
      "mimetype": "text/x-python",
      "name": "python",
      "nbconvert_exporter": "python",
      "pygments_lexer": "ipython3",
      "version": "3.7.12"
    },
    "papermill": {
      "default_parameters": {},
      "duration": 21.656537,
      "end_time": "2022-08-22T09:10:06.775960",
      "environment_variables": {},
      "exception": null,
      "input_path": "__notebook__.ipynb",
      "output_path": "__notebook__.ipynb",
      "parameters": {},
      "start_time": "2022-08-22T09:09:45.119423",
      "version": "2.3.4"
    },
    "colab": {
      "provenance": []
    }
  },
  "nbformat": 4,
  "nbformat_minor": 5
}